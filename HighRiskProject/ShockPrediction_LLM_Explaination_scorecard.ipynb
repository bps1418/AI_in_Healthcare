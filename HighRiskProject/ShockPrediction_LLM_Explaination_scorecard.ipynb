{
  "cells": [
    {
      "cell_type": "markdown",
      "metadata": {
        "id": "pHinttxOgLla"
      },
      "source": [
        "# Project Plan: Orchestrating LLMs to Explain Shock Predictions for ICU Care\n",
        "\n",
        "Build a shock prediction system for ICU patients using a Transformer model, generate reasoning with GPT-4, Gemini, and Mistral, and evaluate the reasoning using a Scorecard framework powered by DeepSeek R1.\n",
        "\n",
        "## Description:\n",
        "This project builds a full Explainable AI system for shock prediction in ICU patients, blending deep learning with cutting-edge LLM-based reasoning — all benchmarked through an automated scoring system.\n",
        "\n",
        "| Phase | Task | Deliverables |\n",
        "|:------|:-----|:-------------|\n",
        "| **1. Data Preparation** | - Extract ICU patients from MIMIC-III<br> - Filter incomplete records | Cleaned dataset (~4957 patients) |\n",
        "| **2. DL Model Development** | - Build Transformer model<br> - Train/validate model | AUC 0.8226, confusion matrix, SHAP feature importance |\n",
        "| **3. Reasoning Generation** | - Summarize features<br> - Prompt GPT-4, Gemini, Mistral | Reasoning CSVs for each model |\n",
        "| **4. Scorecard Evaluation** | - Use DeepSeek R1 to score<br> - Transparency, Consistency, Clarity, Completeness | Shock Reasoning Scorecard CSV |\n",
        "| **5. Visualization** | - Plot metrics<br> - Radar + Bar Charts | Visualizations for scorecard analysis |\n",
        "| **6. Paper Writing** | - Draft ACM paper<br> - Compile main.tex + refs.bib | Final main.pdf ready |\n",
        "| **7. Final Packaging** | - Create zipped folder<br> - Prepare for sharing or publishing | Project archive |\n",
        "\n",
        "## Tools and Framework\n",
        "\n",
        "| Area | Tools/Frameworks |\n",
        "|:-----|:-----------------|\n",
        "| **Data Processing** | Python (Pandas, NumPy) |\n",
        "| **Model Training** | PyTorch |\n",
        "| **LLM APIs** | OpenAI (GPT-4), Google AI Studio (Gemini 1.5 Pro), Ollama (Mistral 7B local) |\n",
        "| **Scoring** | DeepSeek R1 (local Ollama) |\n",
        "| **Visualization** | Matplotlib |\n",
        "| **Paper Writing** | LaTeX (ACM style), VS Code, MacTeX |\n",
        "\n",
        "## Key Metrics\n",
        "\n",
        "| Metric | Target |\n",
        "|:-------|:-------|\n",
        "| **Model AUC** | 0.8226 |\n",
        "| **Explainability Scores** | Transparency, Consistency, Clarity, Completeness |\n",
        "| **Reasoning Dataset** | Reasoned explanations for 20 patients (expandable) |\n",
        "| **Paper Quality** | Compiling without errors, ACM-ready |\n",
        "\n",
        "## Timeline Summary\n",
        "\n",
        "| Milestone | Duration |\n",
        "|:----------|:---------|\n",
        "| Data Preparation | 1 day |\n",
        "| Model Training | 2–3 days |\n",
        "| Reasoning Generation | 1–2 days |\n",
        "| Scorecard Orchestration | 1 day |\n",
        "| Plotting and Visualization | 0.5 day |\n",
        "| Paper Writing | 1–2 days |\n",
        "| Final Packaging | 0.5 day |\n",
        "\n",
        "## Final Deliverables\n",
        "\n",
        "Github: https://github.com/bps1418/AI_in_Healthcare\n",
        "\n",
        "| Deliverable | File/Folder |\n",
        "|:------------|:------------|\n",
        "| Report | `main.tex`, `refs.bib`, `main.pdf` (Available in Github) |\n",
        "| Code | Notebook/Local Python script for model generation and reasoning score card (Available at Github) |\n",
        "| Trained Model | `best_transformer_shock_model.pt` (Available in Github) |\n",
        "| Reasoning Outputs | `gpt4_reasoning.csv`, `gemini_reasoning.csv`, `mistral_reasoning.csv` (Available at Github) |\n",
        "| Scorecard | `shock_reasoning_scorecard.csv`(Available in Github) |\n",
        "| PPT & Presentation video | Available in Github |"
      ]
    },
    {
      "cell_type": "markdown",
      "metadata": {
        "id": "jRzcpuI8vpZQ"
      },
      "source": [
        "# Install if needed"
      ]
    },
    {
      "cell_type": "code",
      "execution_count": 1,
      "metadata": {
        "colab": {
          "base_uri": "https://localhost:8080/"
        },
        "id": "WBMW9zNTvbx0",
        "outputId": "6a685e60-5824-45e2-a225-04cd3af2f986"
      },
      "outputs": [
        {
          "name": "stdout",
          "output_type": "stream",
          "text": [
            "\u001b[2K   \u001b[90m━━━━━━━━━━━━━━━━━━━━━━━━━━━━━━━━━━━━━━━━\u001b[0m \u001b[32m363.4/363.4 MB\u001b[0m \u001b[31m3.0 MB/s\u001b[0m eta \u001b[36m0:00:00\u001b[0m\n",
            "\u001b[2K   \u001b[90m━━━━━━━━━━━━━━━━━━━━━━━━━━━━━━━━━━━━━━━━\u001b[0m \u001b[32m13.8/13.8 MB\u001b[0m \u001b[31m64.2 MB/s\u001b[0m eta \u001b[36m0:00:00\u001b[0m\n",
            "\u001b[2K   \u001b[90m━━━━━━━━━━━━━━━━━━━━━━━━━━━━━━━━━━━━━━━━\u001b[0m \u001b[32m24.6/24.6 MB\u001b[0m \u001b[31m76.9 MB/s\u001b[0m eta \u001b[36m0:00:00\u001b[0m\n",
            "\u001b[2K   \u001b[90m━━━━━━━━━━━━━━━━━━━━━━━━━━━━━━━━━━━━━━━━\u001b[0m \u001b[32m883.7/883.7 kB\u001b[0m \u001b[31m45.3 MB/s\u001b[0m eta \u001b[36m0:00:00\u001b[0m\n",
            "\u001b[2K   \u001b[90m━━━━━━━━━━━━━━━━━━━━━━━━━━━━━━━━━━━━━━━━\u001b[0m \u001b[32m664.8/664.8 MB\u001b[0m \u001b[31m2.5 MB/s\u001b[0m eta \u001b[36m0:00:00\u001b[0m\n",
            "\u001b[2K   \u001b[90m━━━━━━━━━━━━━━━━━━━━━━━━━━━━━━━━━━━━━━━━\u001b[0m \u001b[32m211.5/211.5 MB\u001b[0m \u001b[31m5.0 MB/s\u001b[0m eta \u001b[36m0:00:00\u001b[0m\n",
            "\u001b[2K   \u001b[90m━━━━━━━━━━━━━━━━━━━━━━━━━━━━━━━━━━━━━━━━\u001b[0m \u001b[32m56.3/56.3 MB\u001b[0m \u001b[31m41.7 MB/s\u001b[0m eta \u001b[36m0:00:00\u001b[0m\n",
            "\u001b[2K   \u001b[90m━━━━━━━━━━━━━━━━━━━━━━━━━━━━━━━━━━━━━━━━\u001b[0m \u001b[32m127.9/127.9 MB\u001b[0m \u001b[31m20.0 MB/s\u001b[0m eta \u001b[36m0:00:00\u001b[0m\n",
            "\u001b[2K   \u001b[90m━━━━━━━━━━━━━━━━━━━━━━━━━━━━━━━━━━━━━━━━\u001b[0m \u001b[32m207.5/207.5 MB\u001b[0m \u001b[31m4.3 MB/s\u001b[0m eta \u001b[36m0:00:00\u001b[0m\n",
            "\u001b[2K   \u001b[90m━━━━━━━━━━━━━━━━━━━━━━━━━━━━━━━━━━━━━━━━\u001b[0m \u001b[32m21.1/21.1 MB\u001b[0m \u001b[31m97.3 MB/s\u001b[0m eta \u001b[36m0:00:00\u001b[0m\n",
            "\u001b[?25h"
          ]
        }
      ],
      "source": [
        "!pip install --quiet google-cloud-bigquery pandas matplotlib seaborn scikit-learn torch transformers shap openai"
      ]
    },
    {
      "cell_type": "markdown",
      "metadata": {
        "id": "zFhGn47Avzb-"
      },
      "source": [
        "# Authenticate for Google BigQuery"
      ]
    },
    {
      "cell_type": "code",
      "execution_count": 2,
      "metadata": {
        "id": "pvbjvPgXvx-f"
      },
      "outputs": [],
      "source": [
        "from google.colab import auth\n",
        "auth.authenticate_user()"
      ]
    },
    {
      "cell_type": "markdown",
      "metadata": {
        "id": "ZI26nL7kv344"
      },
      "source": [
        "# Import libraries"
      ]
    },
    {
      "cell_type": "code",
      "execution_count": 3,
      "metadata": {
        "id": "H0N-a90Jv5oF"
      },
      "outputs": [],
      "source": [
        "import pandas as pd\n",
        "import numpy as np\n",
        "import torch\n",
        "import torch.nn as nn\n",
        "import torch.optim as optim\n",
        "import matplotlib.pyplot as plt\n",
        "import seaborn as sns\n",
        "from sklearn.model_selection import train_test_split\n",
        "from sklearn.metrics import roc_auc_score, classification_report, confusion_matrix\n"
      ]
    },
    {
      "cell_type": "markdown",
      "metadata": {
        "id": "PxZUvZMrwDCa"
      },
      "source": [
        "# BigQuery Setup"
      ]
    },
    {
      "cell_type": "code",
      "execution_count": 4,
      "metadata": {
        "id": "0cnfWIeEwFIR"
      },
      "outputs": [],
      "source": [
        "from google.cloud import bigquery\n",
        "from google.colab import userdata"
      ]
    },
    {
      "cell_type": "markdown",
      "metadata": {
        "id": "HIs7TBcXwITZ"
      },
      "source": [
        "# Initialize BigQuery client"
      ]
    },
    {
      "cell_type": "code",
      "execution_count": 5,
      "metadata": {
        "id": "t8LQjFQewKt1"
      },
      "outputs": [],
      "source": [
        "project_id = userdata.get('project_id')  # If set via user-data, else set manually\n",
        "client = bigquery.Client(project=project_id)"
      ]
    },
    {
      "cell_type": "markdown",
      "metadata": {
        "id": "3xF26d-AwPxx"
      },
      "source": [
        "# Parameters"
      ]
    },
    {
      "cell_type": "code",
      "execution_count": 31,
      "metadata": {
        "colab": {
          "base_uri": "https://localhost:8080/"
        },
        "id": "A8vzAltewSPZ",
        "outputId": "98e465a9-a062-4914-c550-4c7136b1493f"
      },
      "outputs": [
        {
          "name": "stdout",
          "output_type": "stream",
          "text": [
            "Setup Complete\n"
          ]
        }
      ],
      "source": [
        "patient_limit = 40000   # We can change this easily\n",
        "observation_hours = 12  # We will observe first 12 hours post ICU admission\n",
        "print(\"Setup Complete\")"
      ]
    },
    {
      "cell_type": "markdown",
      "metadata": {
        "id": "Cr6SCNFHwkot"
      },
      "source": [
        "#BigQuery Extraction + Shock Label Creation\n",
        "Pull ICU stays (icustays)\n",
        "* Pull Mean Arterial Pressure (MAP) events (from chartevents)\n",
        "* Pull Vasopressor administrations (from inputevents_mv)\n",
        "* Define a shock_label:\n",
        "* MAP < 65 mmHg\n",
        "* OR vasopressor administered\n",
        "* Limit to first 12 hours after ICU admission."
      ]
    },
    {
      "cell_type": "markdown",
      "metadata": {
        "id": "jnmfgj6dMsgC"
      },
      "source": [
        "**Extract ICU Stays and Shock Labels**"
      ]
    },
    {
      "cell_type": "code",
      "execution_count": 33,
      "metadata": {
        "id": "4HVaIbTnwv3b"
      },
      "outputs": [],
      "source": [
        "# SQL Query\n",
        "query = f\"\"\"\n",
        "WITH selected_icustays AS (\n",
        "  SELECT icu.subject_id, icu.hadm_id, icu.icustay_id,\n",
        "         icu.intime, icu.outtime\n",
        "  FROM `physionet-data.mimiciii_clinical.icustays` icu\n",
        "  ORDER BY RAND()\n",
        "  LIMIT {patient_limit}\n",
        "),\n",
        "\n",
        "map_events AS (\n",
        "  SELECT c.subject_id, c.hadm_id, c.icustay_id,\n",
        "         c.charttime, c.valuenum AS map_value\n",
        "  FROM `physionet-data.mimiciii_clinical.chartevents` c\n",
        "  JOIN selected_icustays icu\n",
        "    ON c.icustay_id = icu.icustay_id\n",
        "  WHERE c.itemid IN (220052, 223761)  -- MAP ItemIDs\n",
        "    AND c.valuenum IS NOT NULL\n",
        "),\n",
        "\n",
        "vasopressor_events AS (\n",
        "  SELECT i.subject_id, i.hadm_id, i.icustay_id,\n",
        "         i.starttime, i.endtime, i.itemid, i.rate\n",
        "  FROM `physionet-data.mimiciii_clinical.inputevents_mv` i\n",
        "  JOIN selected_icustays icu\n",
        "    ON i.icustay_id = icu.icustay_id\n",
        "  WHERE i.itemid IN (221906, 221289, 221662, 221749, 221653)  -- Vasopressors\n",
        "    AND i.rate IS NOT NULL\n",
        "),\n",
        "\n",
        "shock_labels AS (\n",
        "  SELECT icu.subject_id, icu.hadm_id, icu.icustay_id,\n",
        "         MAX(CASE\n",
        "           WHEN map.charttime <= DATETIME_ADD(icu.intime, INTERVAL {observation_hours} HOUR)\n",
        "                AND map.map_value < 65 THEN 1 ELSE 0 END) AS map_shock,\n",
        "         MAX(CASE\n",
        "           WHEN vasop.starttime <= DATETIME_ADD(icu.intime, INTERVAL {observation_hours} HOUR)\n",
        "                THEN 1 ELSE 0 END) AS vasopressor_shock\n",
        "  FROM selected_icustays icu\n",
        "  LEFT JOIN map_events map ON icu.icustay_id = map.icustay_id\n",
        "  LEFT JOIN vasopressor_events vasop ON icu.icustay_id = vasop.icustay_id\n",
        "  GROUP BY icu.subject_id, icu.hadm_id, icu.icustay_id\n",
        ")\n",
        "\n",
        "SELECT *,\n",
        "       CASE WHEN map_shock = 1 OR vasopressor_shock = 1 THEN 1 ELSE 0 END AS shock_label\n",
        "FROM shock_labels\n",
        "\"\"\"\n",
        "\n",
        "# Run the query\n",
        "shock_df = client.query(query).to_dataframe()"
      ]
    },
    {
      "cell_type": "code",
      "execution_count": 34,
      "metadata": {
        "colab": {
          "base_uri": "https://localhost:8080/",
          "height": 71
        },
        "id": "r7pKnLThw_Mr",
        "outputId": "70b623d3-d293-45fd-9836-b23cb5bc27cd"
      },
      "outputs": [
        {
          "name": "stdout",
          "output_type": "stream",
          "text": [
            "What I extracted 40000 ICU stays\n"
          ]
        },
        {
          "data": {
            "application/vnd.google.colaboratory.intrinsic+json": {
              "summary": "{\n  \"name\": \"shock_df\",\n  \"rows\": 40000,\n  \"fields\": [\n    {\n      \"column\": \"subject_id\",\n      \"properties\": {\n        \"dtype\": \"Int64\",\n        \"num_unique_values\": 32483,\n        \"samples\": [\n          59937,\n          51014,\n          22816\n        ],\n        \"semantic_type\": \"\",\n        \"description\": \"\"\n      }\n    },\n    {\n      \"column\": \"hadm_id\",\n      \"properties\": {\n        \"dtype\": \"Int64\",\n        \"num_unique_values\": 38339,\n        \"samples\": [\n          138367,\n          168762,\n          126445\n        ],\n        \"semantic_type\": \"\",\n        \"description\": \"\"\n      }\n    },\n    {\n      \"column\": \"icustay_id\",\n      \"properties\": {\n        \"dtype\": \"Int64\",\n        \"num_unique_values\": 40000,\n        \"samples\": [\n          236848,\n          242076,\n          275441\n        ],\n        \"semantic_type\": \"\",\n        \"description\": \"\"\n      }\n    },\n    {\n      \"column\": \"map_shock\",\n      \"properties\": {\n        \"dtype\": \"Int64\",\n        \"num_unique_values\": 2,\n        \"samples\": [\n          1,\n          0\n        ],\n        \"semantic_type\": \"\",\n        \"description\": \"\"\n      }\n    },\n    {\n      \"column\": \"vasopressor_shock\",\n      \"properties\": {\n        \"dtype\": \"Int64\",\n        \"num_unique_values\": 2,\n        \"samples\": [\n          1,\n          0\n        ],\n        \"semantic_type\": \"\",\n        \"description\": \"\"\n      }\n    },\n    {\n      \"column\": \"shock_label\",\n      \"properties\": {\n        \"dtype\": \"Int64\",\n        \"num_unique_values\": 2,\n        \"samples\": [\n          1,\n          0\n        ],\n        \"semantic_type\": \"\",\n        \"description\": \"\"\n      }\n    }\n  ]\n}",
              "type": "dataframe",
              "variable_name": "shock_df"
            },
            "text/html": [
              "\n",
              "  <div id=\"df-75efe887-f5eb-450d-949b-46dfcbf0f065\" class=\"colab-df-container\">\n",
              "    <div>\n",
              "<style scoped>\n",
              "    .dataframe tbody tr th:only-of-type {\n",
              "        vertical-align: middle;\n",
              "    }\n",
              "\n",
              "    .dataframe tbody tr th {\n",
              "        vertical-align: top;\n",
              "    }\n",
              "\n",
              "    .dataframe thead th {\n",
              "        text-align: right;\n",
              "    }\n",
              "</style>\n",
              "<table border=\"1\" class=\"dataframe\">\n",
              "  <thead>\n",
              "    <tr style=\"text-align: right;\">\n",
              "      <th></th>\n",
              "      <th>subject_id</th>\n",
              "      <th>hadm_id</th>\n",
              "      <th>icustay_id</th>\n",
              "      <th>map_shock</th>\n",
              "      <th>vasopressor_shock</th>\n",
              "      <th>shock_label</th>\n",
              "    </tr>\n",
              "  </thead>\n",
              "  <tbody>\n",
              "  </tbody>\n",
              "</table>\n",
              "</div>\n",
              "    <div class=\"colab-df-buttons\">\n",
              "\n",
              "  <div class=\"colab-df-container\">\n",
              "    <button class=\"colab-df-convert\" onclick=\"convertToInteractive('df-75efe887-f5eb-450d-949b-46dfcbf0f065')\"\n",
              "            title=\"Convert this dataframe to an interactive table.\"\n",
              "            style=\"display:none;\">\n",
              "\n",
              "  <svg xmlns=\"http://www.w3.org/2000/svg\" height=\"24px\" viewBox=\"0 -960 960 960\">\n",
              "    <path d=\"M120-120v-720h720v720H120Zm60-500h600v-160H180v160Zm220 220h160v-160H400v160Zm0 220h160v-160H400v160ZM180-400h160v-160H180v160Zm440 0h160v-160H620v160ZM180-180h160v-160H180v160Zm440 0h160v-160H620v160Z\"/>\n",
              "  </svg>\n",
              "    </button>\n",
              "\n",
              "  <style>\n",
              "    .colab-df-container {\n",
              "      display:flex;\n",
              "      gap: 12px;\n",
              "    }\n",
              "\n",
              "    .colab-df-convert {\n",
              "      background-color: #E8F0FE;\n",
              "      border: none;\n",
              "      border-radius: 50%;\n",
              "      cursor: pointer;\n",
              "      display: none;\n",
              "      fill: #1967D2;\n",
              "      height: 32px;\n",
              "      padding: 0 0 0 0;\n",
              "      width: 32px;\n",
              "    }\n",
              "\n",
              "    .colab-df-convert:hover {\n",
              "      background-color: #E2EBFA;\n",
              "      box-shadow: 0px 1px 2px rgba(60, 64, 67, 0.3), 0px 1px 3px 1px rgba(60, 64, 67, 0.15);\n",
              "      fill: #174EA6;\n",
              "    }\n",
              "\n",
              "    .colab-df-buttons div {\n",
              "      margin-bottom: 4px;\n",
              "    }\n",
              "\n",
              "    [theme=dark] .colab-df-convert {\n",
              "      background-color: #3B4455;\n",
              "      fill: #D2E3FC;\n",
              "    }\n",
              "\n",
              "    [theme=dark] .colab-df-convert:hover {\n",
              "      background-color: #434B5C;\n",
              "      box-shadow: 0px 1px 3px 1px rgba(0, 0, 0, 0.15);\n",
              "      filter: drop-shadow(0px 1px 2px rgba(0, 0, 0, 0.3));\n",
              "      fill: #FFFFFF;\n",
              "    }\n",
              "  </style>\n",
              "\n",
              "    <script>\n",
              "      const buttonEl =\n",
              "        document.querySelector('#df-75efe887-f5eb-450d-949b-46dfcbf0f065 button.colab-df-convert');\n",
              "      buttonEl.style.display =\n",
              "        google.colab.kernel.accessAllowed ? 'block' : 'none';\n",
              "\n",
              "      async function convertToInteractive(key) {\n",
              "        const element = document.querySelector('#df-75efe887-f5eb-450d-949b-46dfcbf0f065');\n",
              "        const dataTable =\n",
              "          await google.colab.kernel.invokeFunction('convertToInteractive',\n",
              "                                                    [key], {});\n",
              "        if (!dataTable) return;\n",
              "\n",
              "        const docLinkHtml = 'Like what you see? Visit the ' +\n",
              "          '<a target=\"_blank\" href=https://colab.research.google.com/notebooks/data_table.ipynb>data table notebook</a>'\n",
              "          + ' to learn more about interactive tables.';\n",
              "        element.innerHTML = '';\n",
              "        dataTable['output_type'] = 'display_data';\n",
              "        await google.colab.output.renderOutput(dataTable, element);\n",
              "        const docLink = document.createElement('div');\n",
              "        docLink.innerHTML = docLinkHtml;\n",
              "        element.appendChild(docLink);\n",
              "      }\n",
              "    </script>\n",
              "  </div>\n",
              "\n",
              "\n",
              "    </div>\n",
              "  </div>\n"
            ],
            "text/plain": [
              "Empty DataFrame\n",
              "Columns: [subject_id, hadm_id, icustay_id, map_shock, vasopressor_shock, shock_label]\n",
              "Index: []"
            ]
          },
          "execution_count": 34,
          "metadata": {},
          "output_type": "execute_result"
        }
      ],
      "source": [
        "print(f\"What I extracted {shock_df.shape[0]} ICU stays\")\n",
        "shock_df.head(0)"
      ]
    },
    {
      "cell_type": "markdown",
      "metadata": {
        "id": "2CFAPu1MxUsw"
      },
      "source": [
        "#Extract Vitals + Labs for Each ICU Stay\n",
        "\n",
        "Next Actions:\n",
        "* Pull vitals from chartevents\n",
        "* Pull labs from labevents\n",
        "* Align everything into hourly windows (first 12 hours)\n",
        "* Prepare features for modeling!"
      ]
    },
    {
      "cell_type": "code",
      "execution_count": 35,
      "metadata": {
        "colab": {
          "base_uri": "https://localhost:8080/",
          "height": 71
        },
        "id": "aiQSEp9pxd6i",
        "outputId": "baa0ccb1-f546-49df-9738-1ef4fca74db4"
      },
      "outputs": [
        {
          "name": "stdout",
          "output_type": "stream",
          "text": [
            "Combined vital and lab events shape: (1404543, 5)\n"
          ]
        },
        {
          "data": {
            "application/vnd.google.colaboratory.intrinsic+json": {
              "type": "dataframe",
              "variable_name": "combined_df"
            },
            "text/html": [
              "\n",
              "  <div id=\"df-64501ea2-2ee2-451e-971a-b41851f547d0\" class=\"colab-df-container\">\n",
              "    <div>\n",
              "<style scoped>\n",
              "    .dataframe tbody tr th:only-of-type {\n",
              "        vertical-align: middle;\n",
              "    }\n",
              "\n",
              "    .dataframe tbody tr th {\n",
              "        vertical-align: top;\n",
              "    }\n",
              "\n",
              "    .dataframe thead th {\n",
              "        text-align: right;\n",
              "    }\n",
              "</style>\n",
              "<table border=\"1\" class=\"dataframe\">\n",
              "  <thead>\n",
              "    <tr style=\"text-align: right;\">\n",
              "      <th></th>\n",
              "      <th>icustay_id</th>\n",
              "      <th>charttime</th>\n",
              "      <th>itemid</th>\n",
              "      <th>valuenum</th>\n",
              "      <th>hour_from_intime</th>\n",
              "    </tr>\n",
              "  </thead>\n",
              "  <tbody>\n",
              "  </tbody>\n",
              "</table>\n",
              "</div>\n",
              "    <div class=\"colab-df-buttons\">\n",
              "\n",
              "  <div class=\"colab-df-container\">\n",
              "    <button class=\"colab-df-convert\" onclick=\"convertToInteractive('df-64501ea2-2ee2-451e-971a-b41851f547d0')\"\n",
              "            title=\"Convert this dataframe to an interactive table.\"\n",
              "            style=\"display:none;\">\n",
              "\n",
              "  <svg xmlns=\"http://www.w3.org/2000/svg\" height=\"24px\" viewBox=\"0 -960 960 960\">\n",
              "    <path d=\"M120-120v-720h720v720H120Zm60-500h600v-160H180v160Zm220 220h160v-160H400v160Zm0 220h160v-160H400v160ZM180-400h160v-160H180v160Zm440 0h160v-160H620v160ZM180-180h160v-160H180v160Zm440 0h160v-160H620v160Z\"/>\n",
              "  </svg>\n",
              "    </button>\n",
              "\n",
              "  <style>\n",
              "    .colab-df-container {\n",
              "      display:flex;\n",
              "      gap: 12px;\n",
              "    }\n",
              "\n",
              "    .colab-df-convert {\n",
              "      background-color: #E8F0FE;\n",
              "      border: none;\n",
              "      border-radius: 50%;\n",
              "      cursor: pointer;\n",
              "      display: none;\n",
              "      fill: #1967D2;\n",
              "      height: 32px;\n",
              "      padding: 0 0 0 0;\n",
              "      width: 32px;\n",
              "    }\n",
              "\n",
              "    .colab-df-convert:hover {\n",
              "      background-color: #E2EBFA;\n",
              "      box-shadow: 0px 1px 2px rgba(60, 64, 67, 0.3), 0px 1px 3px 1px rgba(60, 64, 67, 0.15);\n",
              "      fill: #174EA6;\n",
              "    }\n",
              "\n",
              "    .colab-df-buttons div {\n",
              "      margin-bottom: 4px;\n",
              "    }\n",
              "\n",
              "    [theme=dark] .colab-df-convert {\n",
              "      background-color: #3B4455;\n",
              "      fill: #D2E3FC;\n",
              "    }\n",
              "\n",
              "    [theme=dark] .colab-df-convert:hover {\n",
              "      background-color: #434B5C;\n",
              "      box-shadow: 0px 1px 3px 1px rgba(0, 0, 0, 0.15);\n",
              "      filter: drop-shadow(0px 1px 2px rgba(0, 0, 0, 0.3));\n",
              "      fill: #FFFFFF;\n",
              "    }\n",
              "  </style>\n",
              "\n",
              "    <script>\n",
              "      const buttonEl =\n",
              "        document.querySelector('#df-64501ea2-2ee2-451e-971a-b41851f547d0 button.colab-df-convert');\n",
              "      buttonEl.style.display =\n",
              "        google.colab.kernel.accessAllowed ? 'block' : 'none';\n",
              "\n",
              "      async function convertToInteractive(key) {\n",
              "        const element = document.querySelector('#df-64501ea2-2ee2-451e-971a-b41851f547d0');\n",
              "        const dataTable =\n",
              "          await google.colab.kernel.invokeFunction('convertToInteractive',\n",
              "                                                    [key], {});\n",
              "        if (!dataTable) return;\n",
              "\n",
              "        const docLinkHtml = 'Like what you see? Visit the ' +\n",
              "          '<a target=\"_blank\" href=https://colab.research.google.com/notebooks/data_table.ipynb>data table notebook</a>'\n",
              "          + ' to learn more about interactive tables.';\n",
              "        element.innerHTML = '';\n",
              "        dataTable['output_type'] = 'display_data';\n",
              "        await google.colab.output.renderOutput(dataTable, element);\n",
              "        const docLink = document.createElement('div');\n",
              "        docLink.innerHTML = docLinkHtml;\n",
              "        element.appendChild(docLink);\n",
              "      }\n",
              "    </script>\n",
              "  </div>\n",
              "\n",
              "\n",
              "    </div>\n",
              "  </div>\n"
            ],
            "text/plain": [
              "Empty DataFrame\n",
              "Columns: [icustay_id, charttime, itemid, valuenum, hour_from_intime]\n",
              "Index: []"
            ]
          },
          "execution_count": 35,
          "metadata": {},
          "output_type": "execute_result"
        }
      ],
      "source": [
        "# Define item IDs for vitals and labs\n",
        "vital_item_ids = {\n",
        "    'HR': 220045,        # Heart Rate\n",
        "    'RR': 220210,        # Respiratory Rate\n",
        "    'SpO2': 220277,      # Oxygen Saturation\n",
        "    'SBP': 220179,       # Systolic BP\n",
        "    'DBP': 220180,       # Diastolic BP\n",
        "    'Temp': 223761,      # Temperature\n",
        "    'GCS_Total': 223900  # Glasgow Coma Scale Total\n",
        "}\n",
        "\n",
        "lab_item_ids = {\n",
        "    'Lactate': 50813,\n",
        "    'Creatinine': 50912,\n",
        "    'WBC': 51300,\n",
        "    'Hemoglobin': 51222,\n",
        "    'Platelets': 51265,\n",
        "    'Sodium': 50983,\n",
        "    'Potassium': 50971,\n",
        "    'BUN': 51006\n",
        "}\n",
        "\n",
        "# Build ICU stay list for filtering\n",
        "icustay_ids = shock_df['icustay_id'].tolist()\n",
        "id_str = ', '.join(map(str, icustay_ids))\n",
        "\n",
        "# Create the query\n",
        "query = f\"\"\"\n",
        "WITH icu_times AS (\n",
        "  SELECT icustay_id, subject_id, hadm_id, intime\n",
        "  FROM `physionet-data.mimiciii_clinical.icustays`\n",
        "  WHERE icustay_id IN ({id_str})\n",
        "),\n",
        "\n",
        "vital_events AS (\n",
        "  SELECT ce.icustay_id, ce.charttime, ce.itemid, ce.valuenum,\n",
        "         TIMESTAMP_DIFF(ce.charttime, icu.intime, HOUR) AS hour_from_intime\n",
        "  FROM `physionet-data.mimiciii_clinical.chartevents` ce\n",
        "  JOIN icu_times icu ON ce.icustay_id = icu.icustay_id\n",
        "  WHERE ce.itemid IN ({','.join(map(str, vital_item_ids.values()))})\n",
        "    AND ce.valuenum IS NOT NULL\n",
        "    AND TIMESTAMP_DIFF(ce.charttime, icu.intime, HOUR) BETWEEN 0 AND 11\n",
        "),\n",
        "\n",
        "lab_events AS (\n",
        "  SELECT icu.icustay_id, le.charttime, le.itemid, le.valuenum,\n",
        "         TIMESTAMP_DIFF(le.charttime, icu.intime, HOUR) AS hour_from_intime\n",
        "  FROM `physionet-data.mimiciii_clinical.labevents` le\n",
        "  JOIN `physionet-data.mimiciii_clinical.admissions` adm ON le.hadm_id = adm.hadm_id\n",
        "  JOIN icu_times icu ON adm.hadm_id = icu.hadm_id\n",
        "  WHERE le.itemid IN ({','.join(map(str, lab_item_ids.values()))})\n",
        "    AND le.valuenum IS NOT NULL\n",
        "    AND TIMESTAMP_DIFF(le.charttime, icu.intime, HOUR) BETWEEN 0 AND 11\n",
        ")\n",
        "\n",
        "SELECT * FROM vital_events\n",
        "UNION ALL\n",
        "SELECT * FROM lab_events\n",
        "ORDER BY icustay_id, hour_from_intime\n",
        "\"\"\"\n",
        "\n",
        "# Run corrected query\n",
        "combined_df = client.query(query).to_dataframe()\n",
        "\n",
        "print(f\"Combined vital and lab events shape: {combined_df.shape}\")\n",
        "combined_df.head(0)"
      ]
    },
    {
      "cell_type": "markdown",
      "metadata": {
        "id": "dOXQ8KQ_2Afo"
      },
      "source": [
        "# Pivot Data and Create Tensors\n",
        "Now that we have combined_df with:\n",
        "* icustay_id\n",
        "* hour_from_intime\n",
        "* itemid\n",
        "* valuenum\n",
        "\n",
        "I need to pivot it:\n",
        "* Rows = (icustay_id, hour)\n",
        "* Columns = feature names (HR, RR, SpO2, etc.)\n",
        "* Values = Average valuenum\n",
        "\n",
        "Then, build a tensor of shape:\n",
        "(num_patients, 12 hours, number_of_features)\n"
      ]
    },
    {
      "cell_type": "code",
      "execution_count": 36,
      "metadata": {
        "colab": {
          "base_uri": "https://localhost:8080/"
        },
        "id": "Xci_H6lj0VKL",
        "outputId": "d659879e-d26e-4978-a2cb-82bf0b8ac62f"
      },
      "outputs": [
        {
          "name": "stdout",
          "output_type": "stream",
          "text": [
            "Features we are using: ['HR', 'RR', 'SpO2', 'SBP', 'DBP', 'Temp', 'GCS_Total', 'Lactate', 'Creatinine', 'WBC', 'Hemoglobin', 'Platelets', 'Sodium', 'Potassium', 'BUN']\n",
            "Initial Raw Shapes: X_raw (40000, 12, 15)  y_raw (40000,)\n",
            "Patients kept after filtering: 9537 / 40000\n",
            "Final Tensor Shapes After Filtering:\n",
            "X shape: (9537, 12, 15)  (N_clean, 12, 15)\n",
            "y shape: (9537,)  (N_clean,)\n"
          ]
        }
      ],
      "source": [
        "import numpy as np\n",
        "import pandas as pd\n",
        "\n",
        "# -------------------------------------------------------\n",
        "# 1. Mapping itemids to feature names\n",
        "itemid_to_name = {**vital_item_ids, **lab_item_ids}\n",
        "inv_itemid_map = {v: k for k, v in itemid_to_name.items()}\n",
        "\n",
        "# Map feature names\n",
        "combined_df['feature'] = combined_df['itemid'].map(inv_itemid_map)\n",
        "\n",
        "# -------------------------------------------------------\n",
        "# 2. Pivot the table\n",
        "pivot_df = combined_df.pivot_table(\n",
        "    index=['icustay_id', 'hour_from_intime'],\n",
        "    columns='feature',\n",
        "    values='valuenum',\n",
        "    aggfunc='mean'\n",
        ").reset_index()\n",
        "\n",
        "# Sort\n",
        "pivot_df = pivot_df.sort_values(['icustay_id', 'hour_from_intime'])\n",
        "\n",
        "# -------------------------------------------------------\n",
        "# 3. Prepare Features List\n",
        "all_features = list(itemid_to_name.keys())\n",
        "print(f\"Features we are using: {all_features}\")\n",
        "\n",
        "# -------------------------------------------------------\n",
        "# 4. Create Tensor per patient\n",
        "raw_tensor_data = []\n",
        "raw_patient_ids = []\n",
        "\n",
        "for icu_id in shock_df['icustay_id']:\n",
        "    patient_data = pivot_df[pivot_df['icustay_id'] == icu_id].sort_values('hour_from_intime')\n",
        "    array = np.full((12, len(all_features)), np.nan)  # 12 hours, F features\n",
        "\n",
        "    for _, row in patient_data.iterrows():\n",
        "        hr = int(row['hour_from_intime'])\n",
        "        if 0 <= hr < 12:\n",
        "            array[hr] = [row.get(f, np.nan) for f in all_features]\n",
        "\n",
        "    raw_tensor_data.append(array)\n",
        "    raw_patient_ids.append(icu_id)\n",
        "\n",
        "# Convert to numpy array (initial, possibly dirty)\n",
        "X_raw = np.array(raw_tensor_data)  # (N_raw, 12, F)\n",
        "y_raw = shock_df['shock_label'].values  # (N_raw,)\n",
        "\n",
        "print(f\"Initial Raw Shapes: X_raw {X_raw.shape}  y_raw {y_raw.shape}\")\n",
        "\n",
        "# -------------------------------------------------------\n",
        "# 5. Filter patients with missing features\n",
        "\n",
        "# Flatten each patient (12xF -> 12*F)\n",
        "X_raw_flat = X_raw.reshape((X_raw.shape[0], -1))  # (N_raw, 12*F)\n",
        "\n",
        "valid_indices = []\n",
        "\n",
        "for idx in range(X_raw_flat.shape[0]):\n",
        "    x_row = X_raw_flat[idx]\n",
        "    non_nan_count = np.sum(~np.isnan(x_row))  # Count how many values are NOT NaN\n",
        "    if non_nan_count >= 60:  # Minimum 60 features out of 180 (example threshold)\n",
        "        valid_indices.append(idx)\n",
        "\n",
        "print(f\"Patients kept after filtering: {len(valid_indices)} / {X_raw.shape[0]}\")\n",
        "\n",
        "# -------------------------------------------------------\n",
        "# 6. Final Clean Tensors\n",
        "\n",
        "X = X_raw[valid_indices]\n",
        "y = y_raw[valid_indices]\n",
        "\n",
        "# Report\n",
        "print(\"Final Tensor Shapes After Filtering:\")\n",
        "print(f\"X shape: {X.shape}  (N_clean, 12, {len(all_features)})\")\n",
        "print(f\"y shape: {y.shape}  (N_clean,)\")"
      ]
    },
    {
      "cell_type": "markdown",
      "metadata": {
        "id": "H_xNWvdy2cKa"
      },
      "source": [
        "# Train/Validation Split + Transformer Classifier\n",
        "Next Action:\n",
        "\n",
        "* Split X and y into training and validation sets\n",
        "* Build a clean TransformerClassifier model\n",
        "* Setup optimizer, loss, and training loop\n",
        "* Model training!"
      ]
    },
    {
      "cell_type": "code",
      "execution_count": 37,
      "metadata": {
        "colab": {
          "base_uri": "https://localhost:8080/"
        },
        "id": "jUF2Rpxy2zMX",
        "outputId": "30602f34-9392-4cc8-d2ab-41be6dba26e9"
      },
      "outputs": [
        {
          "name": "stdout",
          "output_type": "stream",
          "text": [
            "Train Size: 7629, Validation Size: 1908\n"
          ]
        }
      ],
      "source": [
        "from sklearn.model_selection import train_test_split\n",
        "from torch.utils.data import TensorDataset, DataLoader\n",
        "\n",
        "# Handle missing values (optional here)\n",
        "X = np.nan_to_num(X, nan=0.0)\n",
        "\n",
        "# Train/Validation split\n",
        "X_train, X_val, y_train, y_val = train_test_split(X, y, test_size=0.2, random_state=42, stratify=y)\n",
        "\n",
        "# Convert to torch tensors\n",
        "X_train = torch.tensor(X_train, dtype=torch.float32)\n",
        "y_train = torch.tensor(y_train, dtype=torch.float32)\n",
        "X_val = torch.tensor(X_val, dtype=torch.float32)\n",
        "y_val = torch.tensor(y_val, dtype=torch.float32)\n",
        "\n",
        "# DataLoader (optional for larger batches)\n",
        "train_dataset = TensorDataset(X_train, y_train)\n",
        "val_dataset = TensorDataset(X_val, y_val)\n",
        "\n",
        "train_loader = DataLoader(train_dataset, batch_size=64, shuffle=True)\n",
        "val_loader = DataLoader(val_dataset, batch_size=64)\n",
        "\n",
        "print(f\"Train Size: {len(train_dataset)}, Validation Size: {len(val_dataset)}\")"
      ]
    },
    {
      "cell_type": "markdown",
      "metadata": {
        "id": "LXQ9-J5e2-6_"
      },
      "source": [
        "# Define TransformerClassifier"
      ]
    },
    {
      "cell_type": "code",
      "execution_count": 68,
      "metadata": {
        "colab": {
          "base_uri": "https://localhost:8080/"
        },
        "id": "ApYQbJ5S3AXm",
        "outputId": "d4409ff4-d23e-44c0-9442-6dd81eceb7fd"
      },
      "outputs": [
        {
          "name": "stdout",
          "output_type": "stream",
          "text": [
            "Model Initialized on cuda\n"
          ]
        }
      ],
      "source": [
        "# --- TransformerClassifier Model ---\n",
        "\n",
        "class TransformerClassifier(nn.Module):\n",
        "    def __init__(self, input_size, seq_length, embed_dim=32, num_heads=4, num_layers=2, dropout=0.1):\n",
        "        super().__init__()\n",
        "        self.input_proj = nn.Linear(input_size, embed_dim)\n",
        "        self.pos_embedding = nn.Parameter(torch.randn(1, seq_length, embed_dim))  # <-- dynamic!\n",
        "\n",
        "        encoder_layer = nn.TransformerEncoderLayer(\n",
        "            d_model=embed_dim, nhead=num_heads, dropout=dropout, batch_first=True\n",
        "        )\n",
        "        self.encoder = nn.TransformerEncoder(encoder_layer, num_layers=num_layers)\n",
        "        self.fc = nn.Linear(embed_dim, 1)\n",
        "\n",
        "    def forward(self, x):\n",
        "        x = self.input_proj(x) + self.pos_embedding\n",
        "        x = self.encoder(x)\n",
        "        x = x.mean(dim=1)  # Average over time steps\n",
        "        return self.fc(x).squeeze(-1)  # logits\n",
        "\n",
        "# Assuming X is your input tensor (shape: (N, 12, 15))\n",
        "seq_length = X.shape[1]   # 12\n",
        "input_size = X.shape[2]   # 15\n",
        "\n",
        "# Correct model creation\n",
        "model = TransformerClassifier(\n",
        "    input_size=input_size,\n",
        "    seq_length=seq_length,\n",
        "    embed_dim=32,      # (optional: you can adjust embedding dimension)\n",
        "    num_heads=4,       # (optional: multi-heads in transformer)\n",
        "    num_layers=2,      # (optional: number of Transformer layers)\n",
        "    dropout=0.1        # (optional: regularization)\n",
        ")\n",
        "\n",
        "# Device setup\n",
        "device = torch.device(\"cuda\" if torch.cuda.is_available() else \"cpu\")\n",
        "model = model.to(device)\n",
        "\n",
        "print(f\"Model Initialized on {device}\")"
      ]
    },
    {
      "cell_type": "markdown",
      "metadata": {
        "id": "MrRMCcPm3Jmw"
      },
      "source": [
        "# Optimizer + Loss Setup"
      ]
    },
    {
      "cell_type": "code",
      "execution_count": 69,
      "metadata": {
        "colab": {
          "base_uri": "https://localhost:8080/"
        },
        "id": "UznK9xq53Lpe",
        "outputId": "93452a63-f247-4e43-b0dc-e8a391de7de3"
      },
      "outputs": [
        {
          "name": "stdout",
          "output_type": "stream",
          "text": [
            "Loss and optimizer setup complete\n"
          ]
        },
        {
          "name": "stderr",
          "output_type": "stream",
          "text": [
            "<ipython-input-69-e7a0f5620848>:1: UserWarning: To copy construct from a tensor, it is recommended to use sourceTensor.clone().detach() or sourceTensor.clone().detach().requires_grad_(True), rather than torch.tensor(sourceTensor).\n",
            "  pos_weight = torch.tensor((y_train == 0).sum() / (y_train == 1).sum(), device=device)\n"
          ]
        }
      ],
      "source": [
        "pos_weight = torch.tensor((y_train == 0).sum() / (y_train == 1).sum(), device=device)\n",
        "criterion = nn.BCEWithLogitsLoss(pos_weight=pos_weight)\n",
        "\n",
        "optimizer = torch.optim.Adam(model.parameters(), lr=5e-5, eps=1e-6, weight_decay=1e-5)\n",
        "\n",
        "print(\"Loss and optimizer setup complete\")"
      ]
    },
    {
      "cell_type": "markdown",
      "metadata": {
        "id": "ImBPVzNW3ffk"
      },
      "source": [
        "#Full Training Loop (Train the TransformerClassifier)\n",
        "\n",
        "Next Action:\n",
        "* Train the model for multiple epochs\n",
        "* Track Training Loss, Validation Loss, Validation AUC\n",
        "* Save the Best Model (based on Validation AUC)\n",
        "* Plot curves for Loss and AUC at the end"
      ]
    },
    {
      "cell_type": "code",
      "execution_count": 70,
      "metadata": {
        "colab": {
          "base_uri": "https://localhost:8080/"
        },
        "id": "G5MkDU1H3rXe",
        "outputId": "7a59f7a4-242e-434c-9535-dbdc78ba1a2d"
      },
      "outputs": [
        {
          "name": "stdout",
          "output_type": "stream",
          "text": [
            "Epoch 1/15 | Train Loss: 0.7100 | Val Loss: 0.6342 | Val AUC: 0.8137\n",
            "Epoch 2/15 | Train Loss: 0.6581 | Val Loss: 0.6231 | Val AUC: 0.8152\n",
            "Epoch 3/15 | Train Loss: 0.6502 | Val Loss: 0.6259 | Val AUC: 0.8154\n",
            "Epoch 4/15 | Train Loss: 0.6432 | Val Loss: 0.6204 | Val AUC: 0.8193\n",
            "Epoch 5/15 | Train Loss: 0.6404 | Val Loss: 0.6172 | Val AUC: 0.8198\n",
            "Epoch 6/15 | Train Loss: 0.6382 | Val Loss: 0.6351 | Val AUC: 0.8209\n",
            "Epoch 7/15 | Train Loss: 0.6367 | Val Loss: 0.6128 | Val AUC: 0.8220\n",
            "Epoch 8/15 | Train Loss: 0.6356 | Val Loss: 0.6122 | Val AUC: 0.8208\n",
            "Epoch 9/15 | Train Loss: 0.6307 | Val Loss: 0.6219 | Val AUC: 0.8215\n",
            "Epoch 10/15 | Train Loss: 0.6303 | Val Loss: 0.6110 | Val AUC: 0.8212\n",
            "Epoch 11/15 | Train Loss: 0.6299 | Val Loss: 0.6158 | Val AUC: 0.8222\n",
            "Epoch 12/15 | Train Loss: 0.6279 | Val Loss: 0.6131 | Val AUC: 0.8224\n",
            "Epoch 13/15 | Train Loss: 0.6315 | Val Loss: 0.6115 | Val AUC: 0.8224\n",
            "Epoch 14/15 | Train Loss: 0.6286 | Val Loss: 0.6129 | Val AUC: 0.8226\n",
            "Epoch 15/15 | Train Loss: 0.6299 | Val Loss: 0.6114 | Val AUC: 0.8224\n",
            "\n",
            "Best Validation AUC: 0.8226\n"
          ]
        }
      ],
      "source": [
        "import torch\n",
        "import torch.nn as nn\n",
        "import numpy as np\n",
        "from sklearn.metrics import roc_auc_score\n",
        "\n",
        "n_epochs = 15\n",
        "best_auc = 0.0\n",
        "train_losses, val_losses, val_aucs = [], [], []\n",
        "\n",
        "# Updated Optimizer\n",
        "optimizer = torch.optim.Adam(model.parameters(), lr=5e-5, eps=1e-6, weight_decay=1e-5)\n",
        "\n",
        "# Learning Rate Scheduler (Step decay every 3 epochs)\n",
        "scheduler = torch.optim.lr_scheduler.StepLR(optimizer, step_size=3, gamma=0.5)\n",
        "\n",
        "# Updated Loss\n",
        "pos_weight = torch.tensor([3.0]).to(device)  # Adjust if necessary\n",
        "criterion = nn.BCEWithLogitsLoss(pos_weight=pos_weight)\n",
        "\n",
        "for epoch in range(1, n_epochs + 1):\n",
        "    model.train()\n",
        "    train_loss = 0.0\n",
        "\n",
        "    for batch_X, batch_y in train_loader:\n",
        "        batch_X, batch_y = batch_X.to(device), batch_y.to(device)\n",
        "\n",
        "        optimizer.zero_grad()\n",
        "        logits = model(batch_X)\n",
        "\n",
        "        if torch.isnan(logits).any():\n",
        "            print(\"NaN detected in logits during training! Exiting...\")\n",
        "            break\n",
        "\n",
        "        loss = criterion(logits, batch_y)\n",
        "        loss.backward()\n",
        "\n",
        "        # Gradient Clipping\n",
        "        torch.nn.utils.clip_grad_norm_(model.parameters(), max_norm=0.3)\n",
        "        optimizer.step()\n",
        "\n",
        "        train_loss += loss.item() * batch_X.size(0)\n",
        "\n",
        "    train_loss /= len(train_loader.dataset)\n",
        "\n",
        "    # Validation\n",
        "    model.eval()\n",
        "    val_loss = 0.0\n",
        "    val_probs = []\n",
        "    val_targets = []\n",
        "\n",
        "    with torch.no_grad():\n",
        "        for batch_X, batch_y in val_loader:\n",
        "            batch_X, batch_y = batch_X.to(device), batch_y.to(device)\n",
        "            logits = model(batch_X)\n",
        "\n",
        "            # Check NaN\n",
        "            if torch.isnan(logits).any():\n",
        "                print(\"NaN detected in logits at validation batch! Exiting...\")\n",
        "                break\n",
        "\n",
        "            loss = criterion(logits, batch_y)\n",
        "\n",
        "            val_loss += loss.item() * batch_X.size(0)\n",
        "            val_probs.append(torch.sigmoid(logits).cpu().numpy())\n",
        "            val_targets.append(batch_y.cpu().numpy())\n",
        "\n",
        "    val_loss /= len(val_loader.dataset)\n",
        "    val_probs = np.concatenate(val_probs)\n",
        "    val_targets = np.concatenate(val_targets)\n",
        "\n",
        "    # Important: Check NaNs\n",
        "    if np.isnan(val_probs).any():\n",
        "        print(\"NaNs detected in val_probs! Stopping training.\")\n",
        "        break\n",
        "\n",
        "    val_preds = (val_probs >= 0.5).astype(int)\n",
        "    val_auc = roc_auc_score(val_targets, val_probs)\n",
        "\n",
        "    train_losses.append(train_loss)\n",
        "    val_losses.append(val_loss)\n",
        "    val_aucs.append(val_auc)\n",
        "\n",
        "    if val_auc > best_auc:\n",
        "        best_auc = val_auc\n",
        "        torch.save(model.state_dict(), \"best_transformer_shock_model.pt\")\n",
        "\n",
        "    print(f\"Epoch {epoch}/{n_epochs} | Train Loss: {train_loss:.4f} | Val Loss: {val_loss:.4f} | Val AUC: {val_auc:.4f}\")\n",
        "\n",
        "    # Step scheduler\n",
        "    scheduler.step()\n",
        "\n",
        "print(f\"\\nBest Validation AUC: {best_auc:.4f}\")"
      ]
    },
    {
      "cell_type": "markdown",
      "metadata": {
        "id": "dwRA1KD935NY"
      },
      "source": [
        "# Plot Training and Validation Curves"
      ]
    },
    {
      "cell_type": "code",
      "execution_count": 71,
      "metadata": {
        "colab": {
          "base_uri": "https://localhost:8080/",
          "height": 487
        },
        "id": "Bp7sVla639FB",
        "outputId": "024c63b2-9036-4896-d994-4b14d05b2967"
      },
      "outputs": [
        {
          "data": {
            "image/png": "[encoded data removed]",
            "text/plain": [
              "<Figure size 1200x500 with 2 Axes>"
            ]
          },
          "metadata": {},
          "output_type": "display_data"
        }
      ],
      "source": [
        "plt.figure(figsize=(12,5))\n",
        "\n",
        "plt.subplot(1,2,1)\n",
        "plt.plot(train_losses, label='Train Loss')\n",
        "plt.plot(val_losses, label='Validation Loss')\n",
        "plt.xlabel('Epoch')\n",
        "plt.ylabel('Loss')\n",
        "plt.title('Loss Curves')\n",
        "plt.legend()\n",
        "\n",
        "plt.subplot(1,2,2)\n",
        "plt.plot(val_aucs, label='Validation AUC', color='green')\n",
        "plt.xlabel('Epoch')\n",
        "plt.ylabel('AUC')\n",
        "plt.title('Validation AUC Curve')\n",
        "plt.legend()\n",
        "\n",
        "plt.show()"
      ]
    },
    {
      "cell_type": "markdown",
      "metadata": {
        "id": "kbETya40laf8"
      },
      "source": [
        "## Loss Curves:\n",
        "* Training Loss: Smooth and steady decrease. No oscillation, no sudden spikes = ✅ Excellent optimization.\n",
        "* Validation Loss: Parallel to training loss with a slight gap (which is normal and even desirable to prevent overfitting).\n",
        "* No overfitting detected even till epoch 15.\n",
        "\n",
        "## Validation AUC Curve:\n",
        "* Steady climb — from ~0.813 to ~0.823.\n",
        "* No sudden dips or volatility, a healthy small variance.\n",
        "* Plateauing behavior seen after Epoch 10–12 → natural convergence.\n",
        "\n",
        "## My Comments on model training\n",
        "* Model shows strong generalization without overfitting.\n",
        "* Learning dynamics are smooth and consistent.\n",
        "* Achieved best AUC = 0.8226, which is high for clinical data.\n",
        "* Model exhibits stable convergence within reasonable number of epochs.\n"
      ]
    },
    {
      "cell_type": "markdown",
      "metadata": {
        "id": "fC2eBRrD4KT7"
      },
      "source": [
        "#  Final Evaluation (Confusion Matrix + Report + Final AUC)\n",
        "Next Action:\n",
        "\n",
        "* Load the best saved model\n",
        "*\tEvaluate it on the validation set\n",
        "*\tPrint:\n",
        "*\tConfusion matrix\n",
        "*\tClassification report (precision, recall, f1)\n",
        "*\tFinal Validation AUC"
      ]
    },
    {
      "cell_type": "code",
      "execution_count": 74,
      "metadata": {
        "colab": {
          "base_uri": "https://localhost:8080/",
          "height": 686
        },
        "id": "5HHd--3i4Dzg",
        "outputId": "44b13508-af06-4063-b588-18a715f343a9"
      },
      "outputs": [
        {
          "name": "stdout",
          "output_type": "stream",
          "text": [
            "Final Validation AUC: 0.8226\n",
            "\n",
            "Classification Report:\n",
            "              precision    recall  f1-score   support\n",
            "\n",
            "         0.0       0.92      0.93      0.92      1638\n",
            "         1.0       0.54      0.49      0.51       270\n",
            "\n",
            "    accuracy                           0.87      1908\n",
            "   macro avg       0.73      0.71      0.72      1908\n",
            "weighted avg       0.86      0.87      0.87      1908\n",
            "\n"
          ]
        },
        {
          "data": {
            "image/png": "[encoded data removed]",
            "text/plain": [
              "<Figure size 640x480 with 2 Axes>"
            ]
          },
          "metadata": {},
          "output_type": "display_data"
        }
      ],
      "source": [
        "# Load Best Model\n",
        "model.load_state_dict(torch.load(\"best_transformer_shock_model.pt\"))\n",
        "model.eval()\n",
        "\n",
        "# Predict on Validation Set\n",
        "all_probs = []\n",
        "all_targets = []\n",
        "\n",
        "with torch.no_grad():\n",
        "    for batch_X, batch_y in val_loader:\n",
        "        batch_X, batch_y = batch_X.to(device), batch_y.to(device)\n",
        "        logits = model(batch_X)\n",
        "        probs = torch.sigmoid(logits).cpu().numpy()\n",
        "        targets = batch_y.cpu().numpy()\n",
        "\n",
        "        all_probs.append(probs)\n",
        "        all_targets.append(targets)\n",
        "\n",
        "# Combine batches\n",
        "all_probs = np.concatenate(all_probs)\n",
        "all_targets = np.concatenate(all_targets)\n",
        "\n",
        "# Predictions\n",
        "final_preds = (all_probs >= 0.5).astype(int)\n",
        "\n",
        "# Metrics\n",
        "final_auc = roc_auc_score(all_targets, all_probs)\n",
        "print(f\"Final Validation AUC: {final_auc:.4f}\")\n",
        "\n",
        "print(\"\\nClassification Report:\")\n",
        "print(classification_report(all_targets, final_preds))\n",
        "\n",
        "# Confusion Matrix\n",
        "cm = confusion_matrix(all_targets, final_preds)\n",
        "sns.heatmap(cm, annot=True, fmt=\"d\", cmap=\"Blues\")\n",
        "plt.title(\"Confusion Matrix\")\n",
        "plt.xlabel(\"Predicted\")\n",
        "plt.ylabel(\"True\")\n",
        "plt.show()"
      ]
    },
    {
      "cell_type": "markdown",
      "metadata": {
        "id": "ipodb2N07aOH"
      },
      "source": [
        "# SHAP Analysis to Find Top Clinical Contributors\n",
        "\n",
        "* Use the trained TransformerClassifier\n",
        "* Apply SHAP (SHapley Additive exPlanations)\n",
        "* Understand which features (vitals/labs) contributed most to the shock prediction for each patient\n",
        "* Visualize global feature importance and per-patient waterfall plots"
      ]
    },
    {
      "cell_type": "code",
      "execution_count": 75,
      "metadata": {
        "colab": {
          "base_uri": "https://localhost:8080/"
        },
        "id": "KJ7gLUEQ7STo",
        "outputId": "99cc0400-a5af-495c-b1dd-3827a5beadc8"
      },
      "outputs": [
        {
          "name": "stderr",
          "output_type": "stream",
          "text": [
            "PermutationExplainer explainer: 301it [01:33,  2.86it/s]"
          ]
        },
        {
          "name": "stdout",
          "output_type": "stream",
          "text": [
            "SHAP values shape: (300, 180)\n"
          ]
        },
        {
          "name": "stderr",
          "output_type": "stream",
          "text": [
            "\n"
          ]
        }
      ],
      "source": [
        "import shap\n",
        "# Small wrapper to flatten for SHAP, then unflatten inside model\n",
        "def model_predict_numpy(x_numpy_flat):\n",
        "    x_tensor = torch.tensor(x_numpy_flat.reshape(-1, 12, len(all_features)), dtype=torch.float32).to(device)\n",
        "    with torch.no_grad():\n",
        "        preds = torch.sigmoid(model(x_tensor)).cpu().numpy()\n",
        "    return preds\n",
        "\n",
        "# Choose background data: small random sample\n",
        "background_idx = np.random.choice(len(X_val), size=100, replace=False)\n",
        "background_data = X_val[background_idx].cpu().numpy()\n",
        "\n",
        "# Subsample for SHAP explanation\n",
        "sample_idx = np.random.choice(len(X_val), size=300, replace=False)\n",
        "X_sample = X_val[sample_idx].cpu().numpy()\n",
        "\n",
        "# Flatten inputs\n",
        "background_data_flat = background_data.reshape(background_data.shape[0], -1)\n",
        "X_sample_flat = X_sample.reshape(X_sample.shape[0], -1)\n",
        "\n",
        "# Create Sampling Explainer\n",
        "explainer = shap.Explainer(model_predict_numpy, background_data_flat)\n",
        "\n",
        "# Compute SHAP values\n",
        "shap_values = explainer(X_sample_flat)\n",
        "\n",
        "# Done\n",
        "print(f\"SHAP values shape: {shap_values.shape}\")"
      ]
    },
    {
      "cell_type": "markdown",
      "metadata": {
        "id": "EWOXoJvo-IfJ"
      },
      "source": [
        "# Global Feature Importance (after corrected SHAP)\n",
        "\n",
        "Summary of Flow:\n",
        "\n",
        "* shap_values → .values gives raw numbers.\n",
        "* Reshape from (patients, 12 × features) → (patients, 12, features).\n",
        "* Mean over time, then mean over patients.\n",
        "* Final barplot showing most important vitals/labs driving shock prediction.\n",
        "\n",
        "See like:\n",
        "MAP > Lactate > HR > Temp > RR ...\n"
      ]
    },
    {
      "cell_type": "code",
      "execution_count": 76,
      "metadata": {
        "colab": {
          "base_uri": "https://localhost:8080/",
          "height": 583
        },
        "id": "qqlBEHTy-DMj",
        "outputId": "a882b264-d87d-48fa-9336-641438da1033"
      },
      "outputs": [
        {
          "name": "stdout",
          "output_type": "stream",
          "text": [
            "Reshaped SHAP values: (300, 12, 15)\n"
          ]
        },
        {
          "data": {
            "image/png": "[encoded data removed]",
            "text/plain": [
              "<Figure size 1000x600 with 1 Axes>"
            ]
          },
          "metadata": {},
          "output_type": "display_data"
        }
      ],
      "source": [
        "# shap_values.values has shape (samples, features_flat)\n",
        "\n",
        "# Step 1: Reshape back to (samples, 12 hours, features)\n",
        "shap_values_array = shap_values.values.reshape(-1, 12, len(all_features))  # (patients, 12, features)\n",
        "\n",
        "print(f\"Reshaped SHAP values: {shap_values_array.shape}\")  # (N, 12, features)\n",
        "\n",
        "# Step 2: Average over time (12 hours) to get 1 importance per feature\n",
        "shap_mean_over_time = np.mean(np.abs(shap_values_array), axis=1)  # (patients, features)\n",
        "\n",
        "# Step 3: Mean importance across all patients\n",
        "mean_shap_per_feature = np.mean(shap_mean_over_time, axis=0)  # (features,)\n",
        "\n",
        "# Step 4: Prepare DataFrame for plotting\n",
        "feature_importance_df = pd.DataFrame({\n",
        "    'feature': all_features,\n",
        "    'importance': mean_shap_per_feature\n",
        "}).sort_values(by='importance', ascending=False)\n",
        "\n",
        "# Step 5: Plot\n",
        "plt.figure(figsize=(10, 6))\n",
        "sns.barplot(data=feature_importance_df, x='importance', y='feature')\n",
        "plt.title('Global Feature Importance (SHAP)', fontsize=14)\n",
        "plt.xlabel('Mean Absolute SHAP Value')\n",
        "plt.ylabel('Clinical Features')\n",
        "plt.show()"
      ]
    },
    {
      "cell_type": "markdown",
      "metadata": {
        "id": "Lx0DdAZw-1ie"
      },
      "source": [
        "Top Predictive Features for Shock Prediction:\n",
        "This graph shows its not only fitting noise but earning real, interpretable, clinical patterns.\n",
        "\n",
        "| Rank | Feature         | Clinical Interpretation                                 |\n",
        "|:----:|:----------------|:--------------------------------------------------------|\n",
        "| 1    | **SpO₂**         | Oxygen saturation — critical for hypoperfusion/hypoxia in shock |\n",
        "| 2    | **SBP** (Systolic BP) | Lower SBP indicates hypotension, a hallmark of shock |\n",
        "| 3    | **HR** (Heart Rate) | Tachycardia (HR >100 bpm) is an early physiological response to shock |\n",
        "| 4    | **DBP** (Diastolic BP) | Important for understanding vascular tone and perfusion |\n",
        "| 5    | **Temperature**  | Fever or hypothermia are common in septic and cardiogenic shock |\n",
        "| 6    | **RR** (Respiratory Rate) | Respiratory compensation for metabolic acidosis in shock |\n",
        "| 7    | **Platelets**    | Organ dysfunction marker (sepsis, bleeding risk)        |\n",
        "| 8    | **Sodium**       | Electrolyte imbalance often occurs during shock         |\n",
        "| 9    | **BUN** (Blood Urea Nitrogen) | Kidney dysfunction marker during shock |\n",
        "| 10   | **GCS_Total**    | Neurological status — decreased consciousness in severe shock |\n",
        "| 11   | **Hemoglobin**   | Anemia may worsen oxygen delivery in shock              |\n",
        "| 12   | **Lactate**      | Classic biomarker for tissue hypoxia and anaerobic metabolism |\n",
        "| 13   | **Creatinine**   | Renal dysfunction during hypoperfusion                  |\n",
        "| 14   | **Potassium**    | Electrolyte imbalance, cardiac risk in shock            |\n",
        "| 15   | **WBC** (White Blood Cells) | Immune response; high/low WBC can occur in septic shock |\n"
      ]
    },
    {
      "cell_type": "markdown",
      "metadata": {
        "id": "L56lPLXQ_po0"
      },
      "source": [
        "# LLM Prompt Generator\n",
        "\n",
        "Now I can work on LLM Prompt Generator based on SHAP top features to add explainability for shock detection, like:\n",
        "\n",
        "```\n",
        "“The patient’s SpO₂ dropped significantly, SBP is low, HR is high — suggestive of impending shock.”\n",
        "and feed to GPT-4, Mistral, etc.)\n",
        "```\n",
        "\n",
        "Plan for Generator:\n",
        "\n",
        "* Create a Prompt Template using Top Features from SHAP\n",
        "* Write a Python Function to auto-generate prompts from patient data\n",
        "* Call GPT-4 / OpenAI API / Mistral-7B locally (flexible)\n",
        "* Receive Natural Language Clinical Reasoning for each patient\n",
        "\n",
        "** Prompt Engineering is very important: **\n",
        "\n",
        "\n",
        "\n",
        "> You are a critical care specialist. Based on the following vital signs and lab results, explain why the patient may be going into shock.\n",
        "Vitals and Labs:\n",
        "- SpO₂: 86% (Low)\n",
        "- SBP: 78 mmHg (Low)\n",
        "- HR: 135 bpm (High)\n",
        "- Temperature: 36.0°C (Normal)\n",
        "- Lactate: 4.2 mmol/L (Elevated)\n",
        "Prediction: Shock is likely.\n",
        "Explain the clinical reasoning for this prediction.\n",
        "\n",
        "\n"
      ]
    },
    {
      "cell_type": "markdown",
      "metadata": {
        "id": "PR-vhOz5Dcef"
      },
      "source": [
        "**Auto-Generate Prompt Function**\n"
      ]
    },
    {
      "cell_type": "code",
      "execution_count": 78,
      "metadata": {
        "id": "_jaFD_Mn-akg"
      },
      "outputs": [],
      "source": [
        "def generate_explanation_prompt(patient_features: dict, prediction: str = \"Shock is likely\"):\n",
        "    \"\"\"\n",
        "    Create a few-shot LLM prompt from a patient's top features.\n",
        "\n",
        "    Args:\n",
        "        patient_features (dict): {'Feature Name': (Value, Category)}\n",
        "        prediction (str): \"Shock is likely\" or \"Shock unlikely\"\n",
        "\n",
        "    Returns:\n",
        "        str: Prompt to send to LLM\n",
        "    \"\"\"\n",
        "\n",
        "    prompt = \"\"\"\n",
        "    You are a senior critical care physician analyzing a patient's clinical data.\\n\\nVitals and Labs:\\n\"\"\"\n",
        "\n",
        "    for feature, (value, category) in patient_features.items():\n",
        "        prompt += f\"- {feature}: {value} ({category})\\n\"\n",
        "\n",
        "    prompt += f\"\\nPrediction: {prediction}.\\n\\nExplain the clinical reasoning for this prediction.\"\n",
        "\n",
        "    return prompt\n"
      ]
    },
    {
      "cell_type": "markdown",
      "metadata": {
        "id": "6mvy4yFrKJlh"
      },
      "source": [
        "# Example of Patient Features Format:"
      ]
    },
    {
      "cell_type": "code",
      "execution_count": 79,
      "metadata": {
        "colab": {
          "base_uri": "https://localhost:8080/"
        },
        "id": "FO--h5gv_Qc8",
        "outputId": "e813d3b1-74c7-411c-d115-86b7c95b5ae5"
      },
      "outputs": [
        {
          "name": "stdout",
          "output_type": "stream",
          "text": [
            "\n",
            "    You are a senior critical care physician analyzing a patient's clinical data.\n",
            "\n",
            "Vitals and Labs:\n",
            "- SpO₂: 86 (Low)\n",
            "- SBP: 78 (Low)\n",
            "- HR: 135 (High)\n",
            "- Temperature: 36.0 (Normal)\n",
            "- Lactate: 4.2 (Elevated)\n",
            "\n",
            "Prediction: Shock is likely.\n",
            "\n",
            "Explain the clinical reasoning for this prediction.\n"
          ]
        }
      ],
      "source": [
        "patient_features = {\n",
        "    'SpO₂': (86, 'Low'),\n",
        "    'SBP': (78, 'Low'),\n",
        "    'HR': (135, 'High'),\n",
        "    'Temperature': (36.0, 'Normal'),\n",
        "    'Lactate': (4.2, 'Elevated')\n",
        "}\n",
        "\n",
        "prompt = generate_explanation_prompt(patient_features)\n",
        "print(prompt)"
      ]
    },
    {
      "cell_type": "markdown",
      "metadata": {
        "id": "6zfG_EDxJ8tl"
      },
      "source": [
        "# LLM OpenAI\n",
        "Now we can ask this prompt with Vitals and Labs to LLM to GPT for explaination:\n"
      ]
    },
    {
      "cell_type": "code",
      "execution_count": 21,
      "metadata": {
        "id": "hUysan0lKRPJ"
      },
      "outputs": [],
      "source": [
        "import openai\n",
        "\n",
        "openai_client = openai.OpenAI(api_key=userdata.get('OPENAI_API_KEY'))\n",
        "\n",
        "def get_gpt4_explanation(prompt):\n",
        "    response = openai_client.chat.completions.create(\n",
        "        model=\"gpt-4\",\n",
        "        messages=[\n",
        "            {\"role\": \"system\", \"content\": \"You are a medical expert.\"},\n",
        "            {\"role\": \"user\", \"content\": prompt}\n",
        "        ],\n",
        "        temperature=0.2\n",
        "    )\n",
        "    return response.choices[0].message.content"
      ]
    },
    {
      "cell_type": "markdown",
      "metadata": {
        "id": "pLZCV15xLgOz"
      },
      "source": [
        "We have training data and setup to call GPT (Model: GPT-4o)\n",
        "\n",
        "* Pick 10-20 patients from your validation set\n",
        "* For each patient: find top 5 important features from SHAP\n",
        "* Categorize the values (e.g., \"Low HR\", \"High Lactate\")\n",
        "* Generate prompt using generate_explanation_prompt\n",
        "* Send to GPT-4 or Local LLM\n",
        "* Save and Display explanations beautifully\n"
      ]
    },
    {
      "cell_type": "code",
      "execution_count": 23,
      "metadata": {
        "id": "NNkUoCupL0Qd"
      },
      "outputs": [],
      "source": [
        "# Select random SHAP samples\n",
        "num_shap_samples = shap_values.values.shape[0]  # e.g., 300\n",
        "num_samples = 5  # How many explanations you want\n",
        "sample_idx = np.random.choice(num_shap_samples, size=num_samples, replace=False)\n",
        "\n",
        "# Prepare\n",
        "explanation_outputs = []\n",
        "\n",
        "for shap_idx in sample_idx:\n",
        "    # SHAP values\n",
        "    patient_shap = shap_values.values[shap_idx].reshape(12, len(all_features))\n",
        "    feature_importance_patient = np.mean(np.abs(patient_shap), axis=0)\n",
        "\n",
        "    # Top 5 features\n",
        "    top_features_idx = np.argsort(feature_importance_patient)[::-1][:5]\n",
        "\n",
        "    # Patient vitals\n",
        "    patient_data = X_sample[shap_idx]  # Already NumPy\n",
        "    patient_data_mean = np.nanmean(patient_data, axis=0)\n",
        "\n",
        "    patient_features = {}\n",
        "    for feature_idx in top_features_idx:\n",
        "        feat_name = all_features[feature_idx]\n",
        "        feat_value = round(patient_data_mean[feature_idx], 2)\n",
        "\n",
        "        # Skip if value is 0.0 (likely missing)\n",
        "        if feat_value == 0.0:\n",
        "            continue\n",
        "\n",
        "        # Categorize\n",
        "        if feat_name in ['SpO₂', 'SBP', 'DBP']:\n",
        "            category = \"Low\" if feat_value < 90 else \"Normal\"\n",
        "        elif feat_name in ['HR', 'RR']:\n",
        "            category = \"High\" if feat_value > 100 else \"Normal\"\n",
        "        elif feat_name in ['Temperature']:\n",
        "            category = \"High\" if feat_value > 37.5 else \"Normal\"\n",
        "        elif feat_name in ['Lactate', 'Creatinine', 'BUN', 'Potassium']:\n",
        "            category = \"Elevated\" if feat_value > 2 else \"Normal\"\n",
        "        else:\n",
        "            category = \"Normal\"\n",
        "\n",
        "        patient_features[feat_name] = (feat_value, category)\n",
        "\n",
        "    # Only generate prompt if we have valid features\n",
        "    if len(patient_features) == 0:\n",
        "        continue\n",
        "\n",
        "    # Generate prompt\n",
        "    prompt = generate_explanation_prompt(patient_features)\n",
        "\n",
        "    # Call LLM\n",
        "    try:\n",
        "        explanation_text = get_gpt4_explanation(prompt)\n",
        "    except Exception as e:\n",
        "        explanation_text = f\"Error calling LLM: {e}\"\n",
        "\n",
        "    # Save output\n",
        "    explanation_outputs.append({\n",
        "        'patient_idx': shap_idx,\n",
        "        'features': patient_features,\n",
        "        'prompt': prompt,\n",
        "        'explanation': explanation_text\n",
        "    })"
      ]
    },
    {
      "cell_type": "markdown",
      "metadata": {
        "id": "Z7YCjkPiPTpc"
      },
      "source": [
        "# Explanations on predictions by GPT 4"
      ]
    },
    {
      "cell_type": "code",
      "execution_count": 24,
      "metadata": {
        "colab": {
          "base_uri": "https://localhost:8080/"
        },
        "id": "VZZNCoQyL7oY",
        "outputId": "e09492fd-ee75-4627-8ca9-51f2a8a76af9"
      },
      "outputs": [
        {
          "name": "stdout",
          "output_type": "stream",
          "text": [
            "================================================================================\n",
            "Patient ID (SHAP sample index): 194\n",
            "Top Features Used: {'SpO2': (np.float32(89.42), 'Normal'), 'HR': (np.float32(77.33), 'Normal'), 'Sodium': (np.float32(23.33), 'Normal'), 'Platelets': (np.float32(50.25), 'Normal')}\n",
            "\n",
            "Generated Explanation:\n",
            "The prediction of shock in this patient could be due to the SpO2 level and the platelet count. \n",
            "\n",
            "SpO2, or peripheral capillary oxygen saturation, is an estimate of the amount of oxygen in the blood. A normal SpO2 level is typically between 94% and 100%. This patient's SpO2 level is 89.42%, which is below the normal range. This could indicate that the patient's tissues are not receiving enough oxygen, which can lead to shock.\n",
            "\n",
            "The patient's platelet count is also a concern. Platelets are a type of blood cell that helps the blood clot. A normal platelet count ranges from 150,000 to 450,000 platelets per microliter of blood. This patient's platelet count is significantly below the normal range at 50.25. A low platelet count can lead to excessive bleeding, which can also result in shock.\n",
            "\n",
            "The patient's heart rate and sodium levels are within normal ranges, which would not typically indicate a risk of shock. However, the low SpO2 and platelet count are significant enough to predict a likely risk of shock. \n",
            "\n",
            "It's important to note that this is a prediction based on the given data. Further diagnostic tests and patient history would be needed to confirm this prediction.\n",
            "================================================================================\n"
          ]
        }
      ],
      "source": [
        "# --- Display Explanations ---\n",
        "for exp in explanation_outputs:\n",
        "    print(\"=\"*80)\n",
        "    print(f\"Patient ID (SHAP sample index): {exp['patient_idx']}\")\n",
        "    print(\"Top Features Used:\", exp['features'])\n",
        "    print(\"\\nGenerated Explanation:\")\n",
        "    print(exp['explanation'])\n",
        "    print(\"=\"*80)"
      ]
    },
    {
      "cell_type": "markdown",
      "metadata": {
        "id": "e6JbSEkIUAGP"
      },
      "source": [
        "# Explaination on GPT Response"
      ]
    },
    {
      "cell_type": "markdown",
      "metadata": {
        "id": "qxur0D1iSSQ1"
      },
      "source": [
        "| Positive | Needs Care |\n",
        "|:---|:---|\n",
        "| LLM (GPT-4) correctly reasons when enough features are given (e.g., low SpO₂ + low DBP) | If only one feature like Platelets or Sodium is available, GPT-4 says \"insufficient data\" — which is correct clinically |\n",
        "| In patients with 2–3 strong vitals (SpO₂, DBP, HR), GPT-4 clinically links shock correctly | Some sodium values like 11.75 still sneak in (very low) — could add better bounds-checking if needed |\n",
        "| When vitals are sufficient, explanations are very natural, human-like clinical reasoning | Shock can’t be reliably predicted from just sodium or platelets — so GPT-4 gives cautious response, which is excellent and responsible |\n",
        "\n",
        "Suggestion:\n",
        "\n",
        "| Area | Suggestion |\n",
        "|:---|:---|\n",
        "| Vital bounds | Add a small filter: if Sodium < 100, ignore (because 11.75 is pathologically wrong) |\n",
        "| Patient selection | Prefer patients where top SHAP features include vitals like SpO₂, BP, HR for better clinical examples |\n",
        "| Paper appendix | For each patient, show: vitals table + explanation + (optional) SHAP feature bar plot |"
      ]
    },
    {
      "cell_type": "markdown",
      "metadata": {
        "id": "DNtftPDswkdq"
      },
      "source": [
        "#Scoring GPT models for explainability"
      ]
    },
    {
      "cell_type": "code",
      "execution_count": 80,
      "metadata": {
        "colab": {
          "base_uri": "https://localhost:8080/"
        },
        "id": "wnMV6NEqBfPS",
        "outputId": "a4179c9e-2b76-423d-cc92-0e13709aadfc"
      },
      "outputs": [
        {
          "name": "stdout",
          "output_type": "stream",
          "text": [
            "['SpO2_t0', 'HR_t0', 'SBP_t0', 'DBP_t0', 'RR_t0', 'Temp_t0', 'WBC_t0', 'Platelets_t0', 'Sodium_t0', 'Potassium_t0']\n",
            "180\n"
          ]
        }
      ],
      "source": [
        "# Your original list of 15 features\n",
        "feature_list = ['SpO2', 'HR', 'SBP', 'DBP', 'RR', 'Temp', 'WBC', 'Platelets', 'Sodium', 'Potassium', 'Creatinine', 'BUN', 'Glucose', 'Lactate', 'Hemoglobin']\n",
        "\n",
        "# Build flattened feature names\n",
        "flattened_feature_names = []\n",
        "\n",
        "for t in range(12):  # for 12 hours\n",
        "    for feat in feature_list:\n",
        "        flattened_feature_names.append(f\"{feat}_t{t}\")\n",
        "\n",
        "print(flattened_feature_names[:10])  # Quick preview\n",
        "print(len(flattened_feature_names))  # Should be exactly 180"
      ]
    },
    {
      "cell_type": "code",
      "execution_count": 81,
      "metadata": {
        "id": "gaR0i4lEWVNn"
      },
      "outputs": [],
      "source": [
        "def map_value_to_label(base_feat_name, value):\n",
        "    if base_feat_name == \"SpO2\":\n",
        "        if value < 90:\n",
        "            return \"Low\"\n",
        "        else:\n",
        "            return \"Normal\"\n",
        "    elif base_feat_name == \"SBP\":\n",
        "        if value < 90:\n",
        "            return \"Low\"\n",
        "        else:\n",
        "            return \"Normal\"\n",
        "    elif base_feat_name == \"DBP\":\n",
        "        if value < 60:\n",
        "            return \"Low\"\n",
        "        else:\n",
        "            return \"Normal\"\n",
        "    elif base_feat_name == \"HR\":\n",
        "        if value < 60:\n",
        "            return \"Low\"\n",
        "        elif value > 100:\n",
        "            return \"High\"\n",
        "        else:\n",
        "            return \"Normal\"\n",
        "    elif base_feat_name == \"Platelets\":\n",
        "        if value < 150:\n",
        "            return \"Low\"\n",
        "        else:\n",
        "            return \"Normal\"\n",
        "    elif base_feat_name == \"Sodium\":\n",
        "        if value < 135:\n",
        "            return \"Low\"\n",
        "        elif value > 145:\n",
        "            return \"High\"\n",
        "        else:\n",
        "            return \"Normal\"\n",
        "    elif base_feat_name == \"Potassium\":\n",
        "        if value < 3.5:\n",
        "            return \"Low\"\n",
        "        elif value > 5.0:\n",
        "            return \"High\"\n",
        "        else:\n",
        "            return \"Normal\"\n",
        "    elif base_feat_name == \"RR\":\n",
        "        if value < 12:\n",
        "            return \"Low\"\n",
        "        elif value > 20:\n",
        "            return \"High\"\n",
        "        else:\n",
        "            return \"Normal\"\n",
        "    else:\n",
        "        return \"Normal\"  # fallback default"
      ]
    },
    {
      "cell_type": "code",
      "execution_count": 93,
      "metadata": {
        "id": "pkpKDdVG7gaK"
      },
      "outputs": [],
      "source": [
        "# Flatten X_val properly\n",
        "X_val_flat = X_val.reshape((X_val.shape[0], -1))  # (40000, 180)\n",
        "\n",
        "# Only use first 300 patients that have SHAP explanations\n",
        "n_patients = min(20, shap_values_array.shape[0])  # 20 patients out of 300\n",
        "sample_indices = np.random.choice(300, size=n_patients, replace=False)\n",
        "\n",
        "sample_patients = []\n",
        "\n",
        "for idx in sample_indices:\n",
        "    shap_row = shap_values_array[idx]\n",
        "    x_row = X_val_flat[idx]\n",
        "    model_pred = int(final_preds[idx])\n",
        "    model_prob = float(all_probs[idx])\n",
        "\n",
        "    top_indices = np.argsort(np.abs(shap_row))[-5:][::-1]\n",
        "    top_indices = np.array(top_indices).flatten().tolist()  # 💥\n",
        "\n",
        "    features_dict = {}\n",
        "    valid_features = 0\n",
        "\n",
        "    for feature_idx in top_indices:\n",
        "        feature_idx = int(feature_idx)  # Now safe\n",
        "\n",
        "        feat_name = flattened_feature_names[feature_idx]\n",
        "        feat_value = float(x_row[feature_idx])\n",
        "        base_feat_name = feat_name.split('_')[0]\n",
        "        feat_label = map_value_to_label(base_feat_name, feat_value)\n",
        "\n",
        "        features_dict[base_feat_name] = (feat_value, feat_label)\n",
        "\n",
        "        if not np.isnan(feat_value) and abs(feat_value) > 1e-3:\n",
        "            valid_features += 1\n",
        "\n",
        "    if valid_features >= 2:\n",
        "        sample_patients.append((int(idx), features_dict, model_pred, model_prob))"
      ]
    },
    {
      "cell_type": "markdown",
      "metadata": {
        "id": "afinISi5APIb"
      },
      "source": [
        "# Run GPT-4 Reasoning Generation and Save"
      ]
    },
    {
      "cell_type": "code",
      "execution_count": 65,
      "metadata": {
        "colab": {
          "base_uri": "https://localhost:8080/"
        },
        "id": "BsiyWYExALaa",
        "outputId": "fd172e3a-f648-45fd-ee6e-75dcd09bccb0"
      },
      "outputs": [
        {
          "name": "stdout",
          "output_type": "stream",
          "text": [
            "✅ Patient 41 Reasoning:\n",
            "1. Shock is suspected in this patient due to the significantly low SpO2 (oxygen saturation) levels and DBP (diastolic blood pressure). These readings indicate that the patient's body is not receiving adequate oxygen and blood flow, which are key indicators of shock.\n",
            "\n",
            "2. Based on the provided data, I would estimate the probability of the patient currently being in or progressing to shock to be around 90%. This is due to the persistently low SpO2 and DBP levels, which are critical indicators of shock.\n",
            "\n",
            "3. Alternative clinical explanations could include severe respiratory distress or failure, given the low SpO2 levels. Another possibility could be a severe cardiac event, such as heart failure or myocardial infarction, which could explain the low DBP.\n",
            "\n",
            "4. Important missing data that would significantly affect this prediction include the patient's heart rate, respiratory rate, and systolic blood pressure. Information about the patient's consciousness level, skin condition (cold, clammy, pale, or cyanotic), and urine output could also be crucial in making a more accurate diagnosis.\n",
            "⚡ Shock Probability: 90%\n",
            "================================================================================\n",
            "✅ Patient 132 Reasoning:\n",
            "1. Shock is suspected in this patient due to the significantly low systolic blood pressure (SBP) readings at time points t1 and t3. SBP is a critical measure of perfusion pressure to the organs, and such low values indicate a severe compromise in blood flow, which is a characteristic of shock.\n",
            "\n",
            "2. Based on the available data, the probability that the patient is currently in or progressing to shock is approximately 80%. This is primarily due to the critically low SBP readings, despite other parameters being within normal limits.\n",
            "\n",
            "3. Alternative clinical explanations could include severe dehydration or acute heart failure, both of which can cause a significant drop in blood pressure. Additionally, the patient could have experienced a vasovagal syncope, a sudden drop in heart rate and blood pressure leading to fainting.\n",
            "\n",
            "4. Important missing data that would significantly affect this prediction include heart rate, respiratory rate, temperature, and levels of consciousness. Additionally, lab results such as lactate levels, complete blood count, and kidney function tests would provide a more comprehensive understanding of the patient's condition.\n",
            "⚡ Shock Probability: 80%\n",
            "================================================================================\n",
            "✅ Patient 126 Reasoning:\n",
            "1. Shock is suspected in this patient due to the presence of low systolic blood pressure (SBP_t3 and SBP_t10) and low diastolic blood pressure (DBP_t2), which indicate poor perfusion. Additionally, the low SpO2_t6 suggests that the patient is not getting enough oxygen, which can be a result of inadequate blood flow, a common feature of shock.\n",
            "\n",
            "2. Based on the provided data, I would estimate the probability of this patient currently being in or progressing to shock to be around 80-90%. This is due to the combination of low blood pressure and low oxygen saturation, which are both critical indicators of shock.\n",
            "\n",
            "3. Alternative clinical explanations could include severe dehydration, which can also cause low blood pressure, or a respiratory condition such as chronic obstructive pulmonary disease (COPD) or pneumonia, which could explain the low oxygen saturation.\n",
            "\n",
            "4. Important missing data that would significantly affect my prediction include heart rate, respiratory rate, and information about the patient's level of consciousness. These are all vital signs that can provide additional insight into the patient's condition. Additionally, lab results such as lactate levels and complete blood count could be helpful in confirming or ruling out shock.\n",
            "⚡ Shock Probability: 90%\n",
            "================================================================================\n",
            "✅ Patient 177 Reasoning:\n",
            "1. Shock is suspected in this patient due to the presence of hypoxia, as indicated by a SpO2_t1 value of 0.00, which is significantly low. Additionally, the DBP_t9 value of 0.00 is concerning as it suggests a lack of adequate blood pressure to perfuse the body's tissues.\n",
            "\n",
            "2. Based on the available data, I would estimate the probability of the patient being in or progressing to shock to be around 80%. This is due to the severe hypoxia and the extremely low diastolic blood pressure, both of which are critical indicators of shock.\n",
            "\n",
            "3. Alternative clinical explanations could include severe respiratory failure leading to hypoxia, or a major cardiovascular event such as a heart attack, which could cause a drop in blood pressure. \n",
            "\n",
            "4. Important missing data that would significantly affect this prediction include the patient's heart rate, respiratory rate, temperature, and level of consciousness. Information about any pre-existing conditions, recent surgeries, or injuries would also be helpful. Additionally, laboratory data such as lactate levels, complete blood count, and blood gas analysis would provide a more comprehensive picture of the patient's condition.\n",
            "⚡ Shock Probability: 80%\n",
            "================================================================================\n",
            "✅ Patient 222 Reasoning:\n",
            "1. Shock is suspected in this patient due to the persistently low SpO2 levels and low systolic blood pressure (SBP). Low SpO2 indicates poor oxygen saturation in the blood, which can be due to inadequate oxygen delivery to the tissues. The low SBP suggests poor perfusion, another hallmark of shock.\n",
            "\n",
            "2. Given the data, I would estimate the probability of this patient being in or progressing to shock to be around 90%. This is due to the persistent low SpO2 and SBP, which are critical indicators of shock.\n",
            "\n",
            "3. Alternative clinical explanations could include severe respiratory failure or cardiac failure. Both conditions can lead to low oxygen saturation and low blood pressure. \n",
            "\n",
            "4. Important missing data that could significantly affect this prediction include heart rate, respiratory rate, temperature, and levels of lactate in the blood. These parameters can provide additional information about the patient's hemodynamic status and the severity of their condition.\n",
            "⚡ Shock Probability: 90%\n",
            "================================================================================\n",
            "✅ Patient 283 Reasoning:\n",
            "1. Shock is suspected in this patient due to the extremely low systolic blood pressure (SBP) and diastolic blood pressure (DBP) readings. These values indicate a severe decrease in perfusion pressure, which can lead to inadequate oxygen and nutrient delivery to the body's tissues, a condition characteristic of shock.\n",
            "\n",
            "2. Given the consistently low SBP and DBP values, I would estimate the probability of this patient being in or progressing to shock to be around 90%. \n",
            "\n",
            "3. Alternative clinical explanations could include severe dehydration or acute heart failure, both of which can cause a significant drop in blood pressure. \n",
            "\n",
            "4. Important missing data that would significantly affect this prediction include heart rate, respiratory rate, body temperature, and blood oxygen levels. Information about the patient's medical history, current medications, and symptoms would also be valuable.\n",
            "⚡ Shock Probability: 90%\n",
            "================================================================================\n",
            "✅ Patient 157 Reasoning:\n",
            "1. Shock is suspected in this patient due to the persistently low SpO2 levels at multiple time points, indicating that the patient's tissues are not receiving adequate oxygen. Despite the patient's systolic blood pressure (SBP) being within normal range, the low oxygen saturation levels suggest that there may be an issue with oxygen delivery to the tissues, which is a characteristic of shock.\n",
            "\n",
            "2. Based on the provided data, I would estimate the probability of the patient currently being in or progressing to shock to be around 70-80%. This is due to the consistently low SpO2 levels, which are a significant concern.\n",
            "\n",
            "3. Alternative clinical explanations could include severe respiratory conditions such as chronic obstructive pulmonary disease (COPD) or acute respiratory distress syndrome (ARDS), which can also cause low SpO2 levels. Additionally, conditions like pneumonia or pulmonary embolism could also be considered.\n",
            "\n",
            "4. Important missing data that would significantly affect this prediction include the patient's heart rate, respiratory rate, temperature, and information about any underlying conditions. Additionally, data on the patient's response to supplemental oxygen, if given, would be useful. A complete blood count (CBC) and arterial blood gas (ABG) analysis would also provide valuable information.\n",
            "⚡ Shock Probability: 80%\n",
            "================================================================================\n",
            "✅ Patient 141 Reasoning:\n",
            "1. Shock is suspected in this patient due to the presence of low systolic blood pressure (SBP_t2: 0.00) and low diastolic blood pressure (DBP_t3: 0.00), which indicate inadequate blood flow to the body's organs and tissues. Additionally, the low oxygen saturation level at time 1 (SpO2_t1: 0.00) suggests that the patient's tissues may not be receiving enough oxygen, another common sign of shock.\n",
            "\n",
            "2. Based on the given data, I would estimate the probability of this patient currently being in or progressing to shock to be around 80%. This is due to the severe abnormalities in blood pressure and oxygen saturation, which are critical indicators of shock.\n",
            "\n",
            "3. Alternative clinical explanations could include severe dehydration, which can also cause low blood pressure, or a pulmonary condition such as chronic obstructive pulmonary disease (COPD) or pneumonia, which could explain the low oxygen saturation.\n",
            "\n",
            "4. Important missing data that would significantly affect my prediction include the patient's heart rate, respiratory rate, temperature, and level of consciousness. Additionally, information about the patient's medical history, current medications, and any recent injuries or illnesses would also be helpful in making a more accurate prediction.\n",
            "⚡ Shock Probability: 80%\n",
            "================================================================================\n",
            "✅ Patient 68 Reasoning:\n",
            "1. Shock is suspected in this patient due to the extremely low SpO2 (oxygen saturation) and SBP (systolic blood pressure) readings. These values indicate that the patient's tissues are not receiving adequate oxygen and blood flow, which are key indicators of shock.\n",
            "\n",
            "2. Given the severity of the patient's hypoxia and hypotension, I would estimate the probability of the patient being in or progressing to shock to be around 90%.\n",
            "\n",
            "3. Alternative clinical explanations could include severe respiratory failure or cardiac arrest, both of which could cause low oxygen saturation and blood pressure. However, these conditions would also typically present with other symptoms not mentioned in the data.\n",
            "\n",
            "4. Important missing data that could significantly affect this prediction include heart rate, respiratory rate, temperature, and level of consciousness. Additionally, information about the patient's medical history, current medications, and any recent surgeries or injuries would also be useful in making a more accurate diagnosis.\n",
            "⚡ Shock Probability: 90%\n",
            "================================================================================\n",
            "✅ Patient 167 Reasoning:\n",
            "1. Shock is suspected in this patient due to the extremely low SpO2 (oxygen saturation) and SBP (systolic blood pressure) values at multiple time points. These values indicate that the patient's tissues are not receiving adequate oxygen and blood flow, which are key indicators of shock.\n",
            "\n",
            "2. Given the severity of the patient's hypoxia and hypotension, I would estimate the probability of the patient being in or progressing to shock to be near 100%.\n",
            "\n",
            "3. Alternative clinical explanations could include severe heart failure or pulmonary embolism, both of which can cause low oxygen saturation and blood pressure. However, these conditions would typically present with additional symptoms not mentioned in the data summary.\n",
            "\n",
            "4. Important missing data that could significantly affect my prediction include the patient's heart rate, respiratory rate, temperature, and level of consciousness. Additionally, information about the patient's medical history, current medications, and any recent surgeries or injuries would also be useful in making a more accurate diagnosis.\n",
            "⚡ Shock Probability: 100%\n",
            "================================================================================\n",
            "✅ Patient 83 Reasoning:\n",
            "1. Shock is suspected in this patient due to the extremely low systolic blood pressure (SBP_t3) and diastolic blood pressure (DBP_t6), which indicate poor perfusion. Additionally, the patient's oxygen saturation (SpO2_t7, SpO2_t4, SpO2_t8) is critically low, suggesting that the tissues are not receiving adequate oxygen.\n",
            "\n",
            "2. Given the severity of the patient's hypotension and hypoxia, I would estimate the probability of the patient being in or progressing to shock to be around 90%.\n",
            "\n",
            "3. Alternative clinical explanations could include severe heart failure, which could cause low blood pressure and oxygen saturation. Another possibility is a severe respiratory condition like acute respiratory distress syndrome (ARDS) which could lead to low oxygen saturation.\n",
            "\n",
            "4. Important missing data that would significantly affect this prediction include the patient's heart rate, respiratory rate, temperature, and level of consciousness. Information about any pre-existing conditions, recent surgeries, or trauma would also be useful.\n",
            "⚡ Shock Probability: 90%\n",
            "================================================================================\n",
            "✅ Patient 69 Reasoning:\n",
            "1. Shock is suspected in this patient due to the significantly low SpO2_t6 value. This indicates that the patient's blood oxygen saturation is critically low, which can lead to inadequate oxygen supply to the body's tissues and organs, a condition often seen in shock.\n",
            "\n",
            "2. Based on the provided data, I would estimate the probability of the patient currently being in or progressing to shock at around 70%. This is primarily due to the low SpO2_t6 value, which is a critical indicator of shock.\n",
            "\n",
            "3. Alternative clinical explanations could include severe respiratory conditions such as pneumonia or acute respiratory distress syndrome (ARDS), which can also cause low blood oxygen levels. Heart failure is another possibility, as it can lead to inadequate oxygen supply to the body.\n",
            "\n",
            "4. Important missing data that would significantly affect the prediction include heart rate, respiratory rate, temperature, and lactate levels. These parameters are crucial in diagnosing shock and determining its severity. Additionally, information about the patient's medical history, symptoms, and physical examination findings would also be very helpful.\n",
            "⚡ Shock Probability: 70%\n",
            "================================================================================\n",
            "✅ Patient 31 Reasoning:\n",
            "1. Shock is suspected in this patient due to the extremely low systolic and diastolic blood pressure (SBP and DBP respectively), indicating poor perfusion. Additionally, the patient's SpO2 levels are critically low, suggesting severe hypoxemia, which can lead to tissue hypoxia and organ dysfunction, hallmarks of shock.\n",
            "\n",
            "2. Given the severity of the patient's hypotension and hypoxemia, I would estimate the probability of the patient being in or progressing to shock to be around 90%.\n",
            "\n",
            "3. Differential diagnoses could include severe dehydration, acute heart failure, or a severe allergic reaction (anaphylaxis), all of which can cause hypotension and hypoxemia. \n",
            "\n",
            "4. Important missing data that would significantly affect this prediction include heart rate, respiratory rate, temperature, and lactate levels. These parameters can help determine the type and severity of shock, and guide appropriate treatment.\n",
            "⚡ Shock Probability: 90%\n",
            "================================================================================\n",
            "✅ Patient 5 Reasoning:\n",
            "1. Shock is suspected in this patient due to the consistently low SpO2 levels. SpO2, or peripheral oxygen saturation, is a measure of the amount of oxygen-carrying hemoglobin in the blood relative to the amount of hemoglobin not carrying oxygen. Low levels can indicate that the body's tissues and organs are not receiving enough oxygen, which can be a sign of shock.\n",
            "\n",
            "2. Based on the provided data, I would estimate a 60-70% probability that the patient is currently in or progressing to shock. This is due to the persistently low SpO2 levels, which suggest that the patient's tissues and organs may not be receiving adequate oxygen.\n",
            "\n",
            "3. Alternative clinical explanations could include severe respiratory conditions such as chronic obstructive pulmonary disease (COPD) or pneumonia, which can also cause low SpO2 levels. Heart conditions, such as heart failure, could also be a possibility as they can lead to inadequate oxygen supply to the body's tissues and organs.\n",
            "\n",
            "4. Important missing data that would significantly affect this prediction include the patient's heart rate, respiratory rate, and temperature. Information about the patient's medical history, current symptoms, and results of physical examination would also be helpful. Additionally, blood tests to measure levels of lactate and other markers of organ function would provide valuable information about the patient's condition.\n",
            "⚡ Shock Probability: 70%\n",
            "================================================================================\n",
            "✅ Patient 17 Reasoning:\n",
            "1. Shock is suspected in this patient due to the extremely low systolic blood pressure (SBP_t10 and SBP_t3) and diastolic blood pressure (DBP_t10), indicating poor perfusion. Additionally, the low SpO2_t2 and SpO2_t7 values suggest that the patient is not adequately oxygenating, which can lead to tissue hypoxia, a common feature of shock.\n",
            "\n",
            "2. Given the severity of the patient's hypotension and hypoxia, I would estimate the probability of the patient being in or progressing to shock to be around 90%.\n",
            "\n",
            "3. Alternative clinical explanations could include severe dehydration, which can also cause hypotension, or a severe respiratory condition such as acute respiratory distress syndrome (ARDS) or pneumonia, which could explain the low SpO2 levels.\n",
            "\n",
            "4. Important missing data that would significantly affect this prediction include the patient's heart rate, temperature, and level of consciousness. Additionally, laboratory data such as lactate levels, complete blood count, and kidney function tests would be helpful in confirming the diagnosis and assessing the severity of the patient's condition.\n",
            "⚡ Shock Probability: 90%\n",
            "================================================================================\n",
            "✅ Patient 15 Reasoning:\n",
            "1. Shock is suspected in this patient due to the persistently low diastolic blood pressure (DBP) readings at multiple time points (DBP_t6, DBP_t7, DBP_t8), indicating poor perfusion. Additionally, the low SpO2_t3 value suggests inadequate oxygen saturation, which can be a result of poor tissue perfusion, a common feature of shock.\n",
            "\n",
            "2. Based on the given data, I would estimate the probability of this patient being in or progressing to shock to be around 80-90%. The persistently low DBP and low SpO2 are strong indicators of shock.\n",
            "\n",
            "3. Alternative clinical explanations could include severe dehydration, which can also lead to low blood pressure, or a respiratory condition like chronic obstructive pulmonary disease (COPD) or pneumonia, which could explain the low SpO2.\n",
            "\n",
            "4. Important missing data that would significantly affect my prediction include heart rate, respiratory rate, temperature, and patient's consciousness level. Information about the patient's medical history, current medications, and recent events (like trauma, surgery, or infection) would also be useful.\n",
            "⚡ Shock Probability: 90%\n",
            "================================================================================\n",
            "✅ Patient 58 Reasoning:\n",
            "1. Shock is suspected in this patient due to the extremely low SpO2 and SBP values. SpO2, or peripheral oxygen saturation, is a measure of the amount of oxygen-carrying hemoglobin in the blood relative to the amount of hemoglobin not carrying oxygen. A low SpO2 indicates that the patient is not getting enough oxygen. Similarly, a low SBP, or systolic blood pressure, indicates that the patient's heart is not pumping enough blood to the body's tissues and organs.\n",
            "\n",
            "2. Given the consistently low SpO2 and SBP values, I would estimate the probability that the patient is currently in or progressing to shock to be very high, around 90-95%.\n",
            "\n",
            "3. Alternative clinical explanations could include severe respiratory failure or cardiac arrest. Both of these conditions can lead to low SpO2 and SBP values.\n",
            "\n",
            "4. Important missing data that would significantly affect my prediction includes the patient's heart rate, respiratory rate, and temperature. These vital signs can provide additional information about the patient's condition and help to confirm or rule out the diagnosis of shock. Additionally, information about the patient's medical history, symptoms, and physical examination findings would also be helpful.\n",
            "⚡ Shock Probability: 95%\n",
            "================================================================================\n",
            "✅ Patient 6 Reasoning:\n",
            "1. Shock is suspected in this patient due to the extremely low systolic blood pressure (SBP_t4 and SBP_t6) and low oxygen saturation levels (SpO2_t5 and SpO2_t7). These are indicative of poor perfusion and oxygenation, which are hallmarks of shock.\n",
            "\n",
            "2. Given the severity of the patient's hypotension and hypoxia, I would estimate the probability of the patient being in or progressing to shock to be around 90%.\n",
            "\n",
            "3. Alternative clinical explanations could include severe dehydration, acute heart failure, or a severe pulmonary condition such as acute respiratory distress syndrome (ARDS) which could explain the low oxygen saturation levels.\n",
            "\n",
            "4. Important missing data that would significantly affect the prediction include heart rate, respiratory rate, temperature, and lactate levels. Information about the patient's medical history, current medications, and recent events (such as surgery or trauma) would also be helpful.\n",
            "⚡ Shock Probability: 90%\n",
            "================================================================================\n",
            "✅ Patient 289 Reasoning:\n",
            "1. Shock is suspected in this patient due to the significant drop in systolic blood pressure (SBP) at time point 8 (SBP_t8: 0.00), which is abnormally low. This sudden decrease in blood pressure can indicate a severe reduction in blood flow to the body's organs and tissues, a hallmark of shock.\n",
            "\n",
            "2. Based on the available data, I would estimate the probability of this patient currently being in or progressing to shock to be around 80-90%. This is primarily due to the drastic drop in SBP, which is a critical indicator of shock.\n",
            "\n",
            "3. Alternative clinical explanations could include severe dehydration, which can also cause a drop in blood pressure, or a cardiac event such as a heart attack, which can disrupt normal blood flow and pressure. \n",
            "\n",
            "4. Important missing data that would significantly affect this prediction include heart rate, respiratory rate, and temperature, as these are vital signs that can indicate the body's response to a shock state. Additionally, information about the patient's medical history, symptoms, and results from lab tests (like complete blood count, blood gases, lactate levels) would provide a more comprehensive understanding of the patient's condition.\n",
            "⚡ Shock Probability: 90%\n",
            "================================================================================\n",
            "✅ Patient 57 Reasoning:\n",
            "1. Shock is suspected in this patient due to the extremely low diastolic blood pressure (DBP) readings at two different time points (DBP_t1 and DBP_t11), which indicate inadequate blood flow to the body's tissues. Additionally, the SpO2_t0 reading is significantly low, suggesting that the patient's tissues are not receiving enough oxygen.\n",
            "\n",
            "2. Given the critical nature of these readings, I would estimate the probability of the patient currently being in or progressing to shock at around 80-90%.\n",
            "\n",
            "3. Alternative clinical explanations could include severe dehydration, which can also cause low blood pressure, or a severe respiratory condition, which could explain the low oxygen saturation.\n",
            "\n",
            "4. Important missing data that would significantly affect this prediction include the patient's heart rate, systolic blood pressure, temperature, and respiratory rate. Information about the patient's medical history, current medications, and any recent trauma or surgery would also be useful.\n",
            "⚡ Shock Probability: 90%\n",
            "================================================================================\n",
            "✅ Completed! Reasoning saved to: /content/gpt4_shock_reasoning.csv\n"
          ]
        }
      ],
      "source": [
        "# ----------------------------------------------\n",
        "# Run GPT-4 Reasoning Generation and Save\n",
        "# ----------------------------------------------\n",
        "\n",
        "csv_path = \"/content/gpt4_shock_reasoning.csv\"\n",
        "columns = [\"patient_id\", \"reasoning_text\", \"shock_probability_estimate\", \"timestamp\"]\n",
        "df = pd.DataFrame(columns=columns)\n",
        "\n",
        "for patient_id, features in sample_patients:\n",
        "    record = generate_clinical_reasoning(patient_id, features, openai_client)\n",
        "    if record:\n",
        "        df = pd.concat([df, pd.DataFrame([record])], ignore_index=True)\n",
        "        df.to_csv(csv_path, index=False)\n",
        "        time.sleep(1)  # To avoid hitting OpenAI rate limits\n",
        "\n",
        "print(f\"✅ Completed! Reasoning saved to: {csv_path}\")"
      ]
    },
    {
      "cell_type": "markdown",
      "metadata": {
        "id": "mXhCFZn3Fm7x"
      },
      "source": [
        "# Saving Patient Summary for running GPT 4, Gemini and Mistral\n",
        "| patient_id | top_features |model_prediction|model_probabilty|\n",
        "|:---|:---|:---|:---|\n",
        "\n",
        "This will be analyzed at local connecting Local Mistral, Gemini 1.5 Pro, GPT 4 for Score card creation.\n",
        "\n",
        "\n"
      ]
    },
    {
      "cell_type": "code",
      "execution_count": 101,
      "metadata": {
        "colab": {
          "base_uri": "https://localhost:8080/"
        },
        "id": "3Ex1BO7-J2xM",
        "outputId": "96533f9e-9d29-4e2f-9e2e-f4ab01dad612"
      },
      "outputs": [
        {
          "name": "stdout",
          "output_type": "stream",
          "text": [
            "✅ Saved patient_summary.csv\n"
          ]
        }
      ],
      "source": [
        "# Save the 20 patients into a simple CSV\n",
        "summary_data = []\n",
        "\n",
        "for patient_id, features, model_pred,model_prob in sample_patients:\n",
        "    summary_data.append({\n",
        "        \"patient_id\": patient_id,\n",
        "        \"top_features\": str(features),\n",
        "        \"model_prediction\": model_pred,\n",
        "        \"model_probability\": model_prob\n",
        "    })\n",
        "\n",
        "df_summary = pd.DataFrame(summary_data)\n",
        "df_summary.to_csv(\"patient_summary.csv\", index=False)\n",
        "\n",
        "print(\"✅ Saved patient_summary.csv\")"
      ]
    },
    {
      "cell_type": "markdown",
      "metadata": {
        "id": "3A1HzSkXUqJY"
      },
      "source": [
        "# Export Clinical Explanations\n",
        "\n",
        "Storing explanation to csv"
      ]
    },
    {
      "cell_type": "code",
      "execution_count": 96,
      "metadata": {
        "colab": {
          "base_uri": "https://localhost:8080/"
        },
        "id": "crwPYbDaUvu6",
        "outputId": "34e5110a-5e7a-4285-fe8b-c980ec60c647"
      },
      "outputs": [
        {
          "name": "stdout",
          "output_type": "stream",
          "text": [
            "Clinical explanations saved as 'shock_explanations.csv'.\n"
          ]
        }
      ],
      "source": [
        "import pandas as pd\n",
        "import json\n",
        "\n",
        "# Prepare data for export\n",
        "export_data = []\n",
        "for exp in explanation_outputs:\n",
        "    export_data.append({\n",
        "        \"Patient_ID\": exp['patient_idx'],\n",
        "        \"Top_Features\": \"; \".join([f\"{k}: {v[0]} ({v[1]})\" for k, v in exp['features'].items()]),\n",
        "        \"Prompt\": exp['prompt'],\n",
        "        \"Generated_Explanation\": exp['explanation']\n",
        "    })\n",
        "\n",
        "# Convert to DataFrame\n",
        "df_explanations = pd.DataFrame(export_data)\n",
        "\n",
        "# Save as CSV\n",
        "df_explanations.to_csv(\"shock_explanations.csv\", index=False)\n",
        "\n",
        "print(\"Clinical explanations saved as 'shock_explanations.csv'.\")"
      ]
    }
  ],
  "metadata": {
    "accelerator": "GPU",
    "colab": {
      "gpuType": "T4",
      "machine_shape": "hm",
      "provenance": []
    },
    "kernelspec": {
      "display_name": "Python 3",
      "name": "python3"
    },
    "language_info": {
      "name": "python"
    }
  },
  "nbformat": 4,
  "nbformat_minor": 0
}
