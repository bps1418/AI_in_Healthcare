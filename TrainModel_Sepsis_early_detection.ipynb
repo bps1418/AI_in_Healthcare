{
  "cells": [
    {
      "cell_type": "markdown",
      "metadata": {
        "id": "J823W6p6sfnG"
      },
      "source": [
        "AI-Powered Early Detection of Sepsis Using Real-Time Patient Data\n",
        "\n",
        "Project Objective:\n",
        "\n",
        "Develop an AI model that predicts the onset of sepsis in hospitalized patients before clinical symptoms become severe. Sepsis is a life-threatening condition caused by the body’s response to infection, and early detection can save lives.\n",
        "\n",
        "**Why This Project?**\n",
        "\n",
        "\n",
        "\n",
        "1.   Sepsis is deadly: It accounts for 1 in 3 hospital deaths.\n",
        "2.   Early detection can reduce mortality rates significantly.\n",
        "3.   ML can help by identifying hidden patterns in patient vitals that doctors might miss.\n",
        "\n",
        "Approach:\n",
        "1. Data Collection: Using MIMIC III dataset (BIGQUERY)\n",
        "2. Data processing:\n",
        "  *   Handling Missing values (imputation using KNN)\n",
        "  *   Feature Engineering\n",
        "      * Time series trends Vital Signs\n",
        "      * Lab results changes over time\n",
        "      * Patient age, or pre-existing conditions.\n",
        "  *   Normalize Data (For Standardizing data)\n",
        "3. Model Development & Training:\n",
        "    Basic or baseline Models\n",
        "    * Random Forest / XGBoost to classification\n",
        "    * Logistic Regression for explainability\n",
        "    Deep Learning Approach\n",
        "    * LSTM / GRU (for time-series patient vitals)\n",
        "\t  * Transformer-based models (e.g., Time-Series BERT) for sequence modeling\n",
        "\t  * Graph Neural Networks (GNNs) for relationships between patient parameters\n",
        "4. Model Evaluation\n",
        "  * Performance Metrics:\n",
        "\t    * Precision, Recall, F1-Score (since false negatives are critical)\n",
        "\t    * AUROC (Area Under ROC Curve) for model discrimination\n",
        "\t* Explainability\n",
        "\t    * Use SHAP or LIME to explain AI decisions to doctors.\n"
      ]
    },
    {
      "cell_type": "markdown",
      "metadata": {
        "id": "3dBi4Rtzv5QZ"
      },
      "source": [
        "Import library"
      ]
    },
    {
      "cell_type": "code",
      "execution_count": null,
      "metadata": {
        "id": "vgmFhy5UsV0E"
      },
      "outputs": [],
      "source": [
        "import pandas as pd\n",
        "import numpy as np\n",
        "import gzip\n",
        "import matplotlib.pyplot as plt\n",
        "import seaborn as sns\n",
        "from google.colab import files,drive\n",
        "from google.colab import auth\n",
        "from google.cloud import bigquery\n",
        "from google.colab import userdata\n",
        "import gc"
      ]
    },
    {
      "cell_type": "markdown",
      "metadata": {
        "id": "LE0Dhk9x0O25"
      },
      "source": [
        "Lets get started!!! Loading MIMIC III datasets from Google BigQuery\n",
        "\n",
        "**Step 1**: Get Access of MIMIC Dataset from Physionet\n",
        "Go to physionet and request for MIMIC III Dataset via Google BigQuery.\n",
        "\n",
        "**Step 2**: Access of MIMIC Dataset III from COLAB:\n",
        "1. Create secret for project id in Colab and use it like below:\n",
        "from google.colab import userdata\n",
        "project_id = userdata.get('project_id') # defined secret\n",
        "2. Authenticate and give permission to COLAB to acccess MIMIC III dataset as below:\n",
        "auth.authenticate_user()\n",
        "client = bigquery.Client(project=project_id)\n",
        "3. Below dataset we will use for this project:\n",
        "  * CHARTEVENTS – Contains vital signs, lab tests, etc.\n",
        "  * LABEVENTS – Contains laboratory test results.\n",
        "  * ICUSTAYS – ICU admission data.\n",
        "  * ADMISSIONS – General admission info.\n",
        "  * PATIENTS – Demographics.\n",
        "  * OUTPUTEVENTS – Fluid balance data (optional).\n",
        "\n",
        "# Different ways of getting MIMIC data to drive\n",
        "* Move compressed one big file downloaded from physionet Manually to Google Drive or Colab and then extract and then uncompress here in notebook\n",
        "* Move all different saperate files like CHARTEVENTS.csv.gz, ICUSTAYS.csv.gz and then upload then one by one with google.colab.files.upload() and read it using pandas\n",
        "*  Use BIGQUERY Query and run query to read MIMIC data\n"
      ]
    },
    {
      "cell_type": "markdown",
      "metadata": {
        "id": "lfstHznkWKoV"
      },
      "source": [
        "Load chartevents and other patient's data from Google BIGQUERY"
      ]
    },
    {
      "cell_type": "code",
      "execution_count": null,
      "metadata": {
        "id": "0gU24apKW08d"
      },
      "outputs": [],
      "source": [
        "# Authenticate to Google Cloud\n",
        "project_id = userdata.get('project_id') # defined secret\n",
        "auth.authenticate_user()\n",
        "client = bigquery.Client(project=project_id)"
      ]
    },
    {
      "cell_type": "code",
      "execution_count": null,
      "metadata": {
        "id": "k7P72dr-Y0DO"
      },
      "outputs": [],
      "source": [
        "chartevents_query = \"select SUBJECT_ID, HADM_ID, ICUSTAY_ID, ITEMID, CHARTTIME, VALUENUM from `physionet-data.mimiciii_clinical.chartevents`\"\n",
        "patients_query = \"Select * from `physionet-data.mimiciii_clinical.patients`\"\n",
        "icustays_query = \"select * from `physionet-data.mimiciii_clinical.icustays`\"\n",
        "labevents_query = \"select * from `physionet-data.mimiciii_clinical.labevents`\"\n",
        "admissions_query = \"select * from `physionet-data.mimiciii_clinical.admissions`\"\n",
        "outpatients_query = \"select * from `physionet-data.mimiciii_clinical.outputevents`\"\n",
        "prescriptions_query = \"select * from `physionet-data.mimiciii_clinical.prescriptions`\"\n"
      ]
    },
    {
      "cell_type": "code",
      "execution_count": null,
      "metadata": {
        "colab": {
          "base_uri": "https://localhost:8080/"
        },
        "id": "V_U2k-2eencP",
        "outputId": "1c54ec9d-3c7a-408f-93f2-0e05b3e8c873"
      },
      "outputs": [
        {
          "data": {
            "text/plain": [
              "23"
            ]
          },
          "execution_count": 4,
          "metadata": {},
          "output_type": "execute_result"
        }
      ],
      "source": [
        "#Load patients data\n",
        "data = client.query(patients_query)\n",
        "patients = data.to_dataframe()\n",
        "del data\n",
        "gc.collect()\n",
        "#Load ICUSTAY data\n",
        "data = client.query(icustays_query)\n",
        "icustays = data.to_dataframe()\n",
        "del data\n",
        "gc.collect()\n",
        "#Load Admission data\n",
        "data = client.query(admissions_query)\n",
        "admissions = data.to_dataframe()\n",
        "del data\n",
        "gc.collect()\n",
        "data = client.query(labevents_query)\n",
        "labevents = data.to_dataframe()\n",
        "del data\n",
        "gc.collect()\n",
        "data = client.query(outpatients_query)\n",
        "outpatients = data.to_dataframe()\n",
        "del data\n",
        "gc.collect()\n",
        "data = client.query(prescriptions_query)\n",
        "prescriptions = data.to_dataframe()\n",
        "del data\n",
        "gc.collect()"
      ]
    },
    {
      "cell_type": "code",
      "execution_count": null,
      "metadata": {
        "colab": {
          "base_uri": "https://localhost:8080/"
        },
        "id": "4IGiQH4tWQr2",
        "outputId": "1d379566-8d3e-4f51-eec0-049db19ab244"
      },
      "outputs": [
        {
          "data": {
            "text/plain": [
              "0"
            ]
          },
          "execution_count": 5,
          "metadata": {},
          "output_type": "execute_result"
        }
      ],
      "source": [
        "#Load patient chart events\n",
        "data = client.query(chartevents_query)\n",
        "chartevents = data.to_dataframe()\n",
        "del data\n",
        "gc.collect()"
      ]
    },
    {
      "cell_type": "markdown",
      "metadata": {
        "id": "L2RwgHpyAMm4"
      },
      "source": [
        "Standardize the headers to upper"
      ]
    },
    {
      "cell_type": "code",
      "execution_count": null,
      "metadata": {
        "id": "-jxSzlvFASMc"
      },
      "outputs": [],
      "source": [
        "chartevents.columns = chartevents.columns.str.upper()\n",
        "icustays.columns = icustays.columns.str.upper()\n",
        "admissions.columns = admissions.columns.str.upper()\n",
        "patients.columns = patients.columns.str.upper()\n",
        "labevents.columns = labevents.columns.str.upper()\n",
        "outpatients.columns = outpatients.columns.str.upper()\n",
        "prescriptions.columns = prescriptions.columns.str.upper()"
      ]
    },
    {
      "cell_type": "markdown",
      "metadata": {
        "id": "7PODhY_3_1Rt"
      },
      "source": [
        "Step 4: Identify Sepsis Cases\n",
        "\n",
        "I use the Sepsis-3 criteria:\n",
        "\n",
        "* Suspected infection: Evidence of infection AND antibiotics + cultures ordered.\n",
        "* Organ dysfunction: SOFA score ≥ 2 above baseline."
      ]
    },
    {
      "cell_type": "code",
      "execution_count": null,
      "metadata": {
        "colab": {
          "base_uri": "https://localhost:8080/"
        },
        "id": "6jnIur8i_oYs",
        "outputId": "1fef90fd-a40e-49f4-c782-eb34877d11c6"
      },
      "outputs": [
        {
          "name": "stderr",
          "output_type": "stream",
          "text": [
            "<ipython-input-7-dddf336e2b53>:14: SettingWithCopyWarning: \n",
            "A value is trying to be set on a copy of a slice from a DataFrame.\n",
            "Try using .loc[row_indexer,col_indexer] = value instead\n",
            "\n",
            "See the caveats in the documentation: https://pandas.pydata.org/pandas-docs/stable/user_guide/indexing.html#returning-a-view-versus-a-copy\n",
            "  sepsis_vitals['CHARTTIME'] = pd.to_datetime(sepsis_vitals['CHARTTIME'])\n"
          ]
        }
      ],
      "source": [
        "# Filtering for sepsis-related vitals\n",
        "sepsis_item_ids = {\n",
        "    'Heart Rate': [211, 220045],  # BPM\n",
        "    'Respiratory Rate': [618, 220210],  # Breaths per min\n",
        "    'Temperature': [223762, 678],  # Fahrenheit or Celsius\n",
        "    'Mean Blood Pressure': [220052, 456],  # MAP\n",
        "    'Glasgow Coma Scale': [198, 226755],  # GCS\n",
        "}\n",
        "\n",
        "# Filter dataset for sepsis-related values\n",
        "sepsis_vitals = chartevents[chartevents['ITEMID'].isin(sum(sepsis_item_ids.values(), []))]\n",
        "\n",
        "# Convert charttime to datetime\n",
        "sepsis_vitals['CHARTTIME'] = pd.to_datetime(sepsis_vitals['CHARTTIME'])\n",
        "\n",
        "# Sort by patient and time\n",
        "sepsis_vitals = sepsis_vitals.sort_values(by=['SUBJECT_ID', 'CHARTTIME'])"
      ]
    },
    {
      "cell_type": "code",
      "execution_count": null,
      "metadata": {
        "colab": {
          "base_uri": "https://localhost:8080/",
          "height": 81
        },
        "id": "nmCEQ2QQD9kH",
        "outputId": "d5c30916-b12f-48f4-aa73-063da471358b"
      },
      "outputs": [
        {
          "data": {
            "application/vnd.google.colaboratory.intrinsic+json": {
              "type": "dataframe",
              "variable_name": "sepsis_vitals"
            },
            "text/html": [
              "\n",
              "  <div id=\"df-3f3882de-7617-40cd-bf66-462884ad2ffb\" class=\"colab-df-container\">\n",
              "    <div>\n",
              "<style scoped>\n",
              "    .dataframe tbody tr th:only-of-type {\n",
              "        vertical-align: middle;\n",
              "    }\n",
              "\n",
              "    .dataframe tbody tr th {\n",
              "        vertical-align: top;\n",
              "    }\n",
              "\n",
              "    .dataframe thead th {\n",
              "        text-align: right;\n",
              "    }\n",
              "</style>\n",
              "<table border=\"1\" class=\"dataframe\">\n",
              "  <thead>\n",
              "    <tr style=\"text-align: right;\">\n",
              "      <th></th>\n",
              "      <th>SUBJECT_ID</th>\n",
              "      <th>HADM_ID</th>\n",
              "      <th>ICUSTAY_ID</th>\n",
              "      <th>ITEMID</th>\n",
              "      <th>CHARTTIME</th>\n",
              "      <th>VALUENUM</th>\n",
              "    </tr>\n",
              "  </thead>\n",
              "  <tbody>\n",
              "    <tr>\n",
              "      <th>252923129</th>\n",
              "      <td>2</td>\n",
              "      <td>163353</td>\n",
              "      <td>243653</td>\n",
              "      <td>211</td>\n",
              "      <td>2138-07-17 20:20:00</td>\n",
              "      <td>148.0</td>\n",
              "    </tr>\n",
              "  </tbody>\n",
              "</table>\n",
              "</div>\n",
              "    <div class=\"colab-df-buttons\">\n",
              "\n",
              "  <div class=\"colab-df-container\">\n",
              "    <button class=\"colab-df-convert\" onclick=\"convertToInteractive('df-3f3882de-7617-40cd-bf66-462884ad2ffb')\"\n",
              "            title=\"Convert this dataframe to an interactive table.\"\n",
              "            style=\"display:none;\">\n",
              "\n",
              "  <svg xmlns=\"http://www.w3.org/2000/svg\" height=\"24px\" viewBox=\"0 -960 960 960\">\n",
              "    <path d=\"M120-120v-720h720v720H120Zm60-500h600v-160H180v160Zm220 220h160v-160H400v160Zm0 220h160v-160H400v160ZM180-400h160v-160H180v160Zm440 0h160v-160H620v160ZM180-180h160v-160H180v160Zm440 0h160v-160H620v160Z\"/>\n",
              "  </svg>\n",
              "    </button>\n",
              "\n",
              "  <style>\n",
              "    .colab-df-container {\n",
              "      display:flex;\n",
              "      gap: 12px;\n",
              "    }\n",
              "\n",
              "    .colab-df-convert {\n",
              "      background-color: #E8F0FE;\n",
              "      border: none;\n",
              "      border-radius: 50%;\n",
              "      cursor: pointer;\n",
              "      display: none;\n",
              "      fill: #1967D2;\n",
              "      height: 32px;\n",
              "      padding: 0 0 0 0;\n",
              "      width: 32px;\n",
              "    }\n",
              "\n",
              "    .colab-df-convert:hover {\n",
              "      background-color: #E2EBFA;\n",
              "      box-shadow: 0px 1px 2px rgba(60, 64, 67, 0.3), 0px 1px 3px 1px rgba(60, 64, 67, 0.15);\n",
              "      fill: #174EA6;\n",
              "    }\n",
              "\n",
              "    .colab-df-buttons div {\n",
              "      margin-bottom: 4px;\n",
              "    }\n",
              "\n",
              "    [theme=dark] .colab-df-convert {\n",
              "      background-color: #3B4455;\n",
              "      fill: #D2E3FC;\n",
              "    }\n",
              "\n",
              "    [theme=dark] .colab-df-convert:hover {\n",
              "      background-color: #434B5C;\n",
              "      box-shadow: 0px 1px 3px 1px rgba(0, 0, 0, 0.15);\n",
              "      filter: drop-shadow(0px 1px 2px rgba(0, 0, 0, 0.3));\n",
              "      fill: #FFFFFF;\n",
              "    }\n",
              "  </style>\n",
              "\n",
              "    <script>\n",
              "      const buttonEl =\n",
              "        document.querySelector('#df-3f3882de-7617-40cd-bf66-462884ad2ffb button.colab-df-convert');\n",
              "      buttonEl.style.display =\n",
              "        google.colab.kernel.accessAllowed ? 'block' : 'none';\n",
              "\n",
              "      async function convertToInteractive(key) {\n",
              "        const element = document.querySelector('#df-3f3882de-7617-40cd-bf66-462884ad2ffb');\n",
              "        const dataTable =\n",
              "          await google.colab.kernel.invokeFunction('convertToInteractive',\n",
              "                                                    [key], {});\n",
              "        if (!dataTable) return;\n",
              "\n",
              "        const docLinkHtml = 'Like what you see? Visit the ' +\n",
              "          '<a target=\"_blank\" href=https://colab.research.google.com/notebooks/data_table.ipynb>data table notebook</a>'\n",
              "          + ' to learn more about interactive tables.';\n",
              "        element.innerHTML = '';\n",
              "        dataTable['output_type'] = 'display_data';\n",
              "        await google.colab.output.renderOutput(dataTable, element);\n",
              "        const docLink = document.createElement('div');\n",
              "        docLink.innerHTML = docLinkHtml;\n",
              "        element.appendChild(docLink);\n",
              "      }\n",
              "    </script>\n",
              "  </div>\n",
              "\n",
              "\n",
              "    </div>\n",
              "  </div>\n"
            ],
            "text/plain": [
              "           SUBJECT_ID  HADM_ID  ICUSTAY_ID  ITEMID           CHARTTIME  \\\n",
              "252923129           2   163353      243653     211 2138-07-17 20:20:00   \n",
              "\n",
              "           VALUENUM  \n",
              "252923129     148.0  "
            ]
          },
          "execution_count": 9,
          "metadata": {},
          "output_type": "execute_result"
        }
      ],
      "source": [
        "sepsis_vitals.head(1)"
      ]
    },
    {
      "cell_type": "markdown",
      "metadata": {
        "id": "hH_ZJxwAAjNw"
      },
      "source": [
        "Step 5: Identify Suspected Infection\n",
        "\n",
        "Look for Antibiotics + Blood Cultures"
      ]
    },
    {
      "cell_type": "code",
      "execution_count": null,
      "metadata": {
        "id": "CFKQwx0VAkP6"
      },
      "outputs": [],
      "source": [
        "# Check for blood culture tests (LABITEMID varies)\n",
        "blood_culture_ids = [50886]  # Example LABITEMIDs for blood cultures\n",
        "blood_cultures = labevents[labevents['ITEMID'].isin(blood_culture_ids)]"
      ]
    },
    {
      "cell_type": "code",
      "execution_count": null,
      "metadata": {
        "colab": {
          "base_uri": "https://localhost:8080/",
          "height": 81
        },
        "id": "2iU0JE2sEHEu",
        "outputId": "f0e8d0c7-d7ea-40e9-efd4-80b35aa74fd9"
      },
      "outputs": [
        {
          "data": {
            "application/vnd.google.colaboratory.intrinsic+json": {
              "repr_error": "0",
              "type": "dataframe",
              "variable_name": "blood_cultures"
            },
            "text/html": [
              "\n",
              "  <div id=\"df-eab73771-6e74-41cd-9415-345885ef6159\" class=\"colab-df-container\">\n",
              "    <div>\n",
              "<style scoped>\n",
              "    .dataframe tbody tr th:only-of-type {\n",
              "        vertical-align: middle;\n",
              "    }\n",
              "\n",
              "    .dataframe tbody tr th {\n",
              "        vertical-align: top;\n",
              "    }\n",
              "\n",
              "    .dataframe thead th {\n",
              "        text-align: right;\n",
              "    }\n",
              "</style>\n",
              "<table border=\"1\" class=\"dataframe\">\n",
              "  <thead>\n",
              "    <tr style=\"text-align: right;\">\n",
              "      <th></th>\n",
              "      <th>ROW_ID</th>\n",
              "      <th>SUBJECT_ID</th>\n",
              "      <th>HADM_ID</th>\n",
              "      <th>ITEMID</th>\n",
              "      <th>CHARTTIME</th>\n",
              "      <th>VALUE</th>\n",
              "      <th>VALUENUM</th>\n",
              "      <th>VALUEUOM</th>\n",
              "      <th>FLAG</th>\n",
              "    </tr>\n",
              "  </thead>\n",
              "  <tbody>\n",
              "    <tr>\n",
              "      <th>41024</th>\n",
              "      <td>1873828</td>\n",
              "      <td>2961</td>\n",
              "      <td>130443</td>\n",
              "      <td>50886</td>\n",
              "      <td>2109-03-14 15:34:00</td>\n",
              "      <td>HOLD</td>\n",
              "      <td>NaN</td>\n",
              "      <td>None</td>\n",
              "      <td>None</td>\n",
              "    </tr>\n",
              "  </tbody>\n",
              "</table>\n",
              "</div>\n",
              "    <div class=\"colab-df-buttons\">\n",
              "\n",
              "  <div class=\"colab-df-container\">\n",
              "    <button class=\"colab-df-convert\" onclick=\"convertToInteractive('df-eab73771-6e74-41cd-9415-345885ef6159')\"\n",
              "            title=\"Convert this dataframe to an interactive table.\"\n",
              "            style=\"display:none;\">\n",
              "\n",
              "  <svg xmlns=\"http://www.w3.org/2000/svg\" height=\"24px\" viewBox=\"0 -960 960 960\">\n",
              "    <path d=\"M120-120v-720h720v720H120Zm60-500h600v-160H180v160Zm220 220h160v-160H400v160Zm0 220h160v-160H400v160ZM180-400h160v-160H180v160Zm440 0h160v-160H620v160ZM180-180h160v-160H180v160Zm440 0h160v-160H620v160Z\"/>\n",
              "  </svg>\n",
              "    </button>\n",
              "\n",
              "  <style>\n",
              "    .colab-df-container {\n",
              "      display:flex;\n",
              "      gap: 12px;\n",
              "    }\n",
              "\n",
              "    .colab-df-convert {\n",
              "      background-color: #E8F0FE;\n",
              "      border: none;\n",
              "      border-radius: 50%;\n",
              "      cursor: pointer;\n",
              "      display: none;\n",
              "      fill: #1967D2;\n",
              "      height: 32px;\n",
              "      padding: 0 0 0 0;\n",
              "      width: 32px;\n",
              "    }\n",
              "\n",
              "    .colab-df-convert:hover {\n",
              "      background-color: #E2EBFA;\n",
              "      box-shadow: 0px 1px 2px rgba(60, 64, 67, 0.3), 0px 1px 3px 1px rgba(60, 64, 67, 0.15);\n",
              "      fill: #174EA6;\n",
              "    }\n",
              "\n",
              "    .colab-df-buttons div {\n",
              "      margin-bottom: 4px;\n",
              "    }\n",
              "\n",
              "    [theme=dark] .colab-df-convert {\n",
              "      background-color: #3B4455;\n",
              "      fill: #D2E3FC;\n",
              "    }\n",
              "\n",
              "    [theme=dark] .colab-df-convert:hover {\n",
              "      background-color: #434B5C;\n",
              "      box-shadow: 0px 1px 3px 1px rgba(0, 0, 0, 0.15);\n",
              "      filter: drop-shadow(0px 1px 2px rgba(0, 0, 0, 0.3));\n",
              "      fill: #FFFFFF;\n",
              "    }\n",
              "  </style>\n",
              "\n",
              "    <script>\n",
              "      const buttonEl =\n",
              "        document.querySelector('#df-eab73771-6e74-41cd-9415-345885ef6159 button.colab-df-convert');\n",
              "      buttonEl.style.display =\n",
              "        google.colab.kernel.accessAllowed ? 'block' : 'none';\n",
              "\n",
              "      async function convertToInteractive(key) {\n",
              "        const element = document.querySelector('#df-eab73771-6e74-41cd-9415-345885ef6159');\n",
              "        const dataTable =\n",
              "          await google.colab.kernel.invokeFunction('convertToInteractive',\n",
              "                                                    [key], {});\n",
              "        if (!dataTable) return;\n",
              "\n",
              "        const docLinkHtml = 'Like what you see? Visit the ' +\n",
              "          '<a target=\"_blank\" href=https://colab.research.google.com/notebooks/data_table.ipynb>data table notebook</a>'\n",
              "          + ' to learn more about interactive tables.';\n",
              "        element.innerHTML = '';\n",
              "        dataTable['output_type'] = 'display_data';\n",
              "        await google.colab.output.renderOutput(dataTable, element);\n",
              "        const docLink = document.createElement('div');\n",
              "        docLink.innerHTML = docLinkHtml;\n",
              "        element.appendChild(docLink);\n",
              "      }\n",
              "    </script>\n",
              "  </div>\n",
              "\n",
              "\n",
              "    </div>\n",
              "  </div>\n"
            ],
            "text/plain": [
              "        ROW_ID  SUBJECT_ID  HADM_ID  ITEMID           CHARTTIME VALUE  \\\n",
              "41024  1873828        2961   130443   50886 2109-03-14 15:34:00  HOLD   \n",
              "\n",
              "       VALUENUM VALUEUOM  FLAG  \n",
              "41024       NaN     None  None  "
            ]
          },
          "execution_count": 11,
          "metadata": {},
          "output_type": "execute_result"
        }
      ],
      "source": [
        "blood_cultures.head(1)"
      ]
    },
    {
      "cell_type": "code",
      "execution_count": null,
      "metadata": {
        "id": "_iZH6JX1A2FT"
      },
      "outputs": [],
      "source": [
        "# Mark if a patient had a blood culture test\n",
        "blood_culture_patients = blood_cultures['SUBJECT_ID'].unique()\n",
        "\n",
        "antibiotics_list = [\"VANCOMYCIN\", \"MEROPENEM\", \"PIPERACILLIN\", \"CEFEPIME\"]\n",
        "prescribed_abx = prescriptions[prescriptions['DRUG'].str.contains('|'.join(antibiotics_list), case=False, na=False)]"
      ]
    },
    {
      "cell_type": "code",
      "execution_count": null,
      "metadata": {
        "id": "fBiIHbmFA6TE"
      },
      "outputs": [],
      "source": [
        "# Mark suspected infection cases\n",
        "suspected_infection = set(blood_culture_patients) & set(prescribed_abx['SUBJECT_ID'].unique())"
      ]
    },
    {
      "cell_type": "markdown",
      "metadata": {
        "id": "mbLZiQ-EA-a5"
      },
      "source": [
        "Step 6: Identify Organ Dysfunction (SOFA Score ≥ 2)\n",
        "\n",
        "Calculate Mean Arterial Pressure (MAP) & Glasgow Coma Scale (GCS)\n",
        "\n",
        "```\n",
        "# This is formatted as code\n",
        "```\n",
        "\n"
      ]
    },
    {
      "cell_type": "code",
      "execution_count": null,
      "metadata": {
        "id": "M5JeOrt7A_SX"
      },
      "outputs": [],
      "source": [
        "# Extract Mean Blood Pressure (MAP)\n",
        "map_values = sepsis_vitals[sepsis_vitals['ITEMID'].isin(sepsis_item_ids['Mean Blood Pressure'])]\n",
        "\n",
        "# Extract Glasgow Coma Scale (GCS)\n",
        "gcs_values = sepsis_vitals[sepsis_vitals['ITEMID'].isin(sepsis_item_ids['Glasgow Coma Scale'])]"
      ]
    },
    {
      "cell_type": "code",
      "execution_count": null,
      "metadata": {
        "colab": {
          "base_uri": "https://localhost:8080/",
          "height": 81
        },
        "id": "10MGjMczSsGW",
        "outputId": "7f16e42d-ce45-490e-9768-ea49cef11bb4"
      },
      "outputs": [
        {
          "data": {
            "application/vnd.google.colaboratory.intrinsic+json": {
              "type": "dataframe",
              "variable_name": "map_values"
            },
            "text/html": [
              "\n",
              "  <div id=\"df-a27a8b2d-50b2-4ecd-a27f-ca017dfbfd93\" class=\"colab-df-container\">\n",
              "    <div>\n",
              "<style scoped>\n",
              "    .dataframe tbody tr th:only-of-type {\n",
              "        vertical-align: middle;\n",
              "    }\n",
              "\n",
              "    .dataframe tbody tr th {\n",
              "        vertical-align: top;\n",
              "    }\n",
              "\n",
              "    .dataframe thead th {\n",
              "        text-align: right;\n",
              "    }\n",
              "</style>\n",
              "<table border=\"1\" class=\"dataframe\">\n",
              "  <thead>\n",
              "    <tr style=\"text-align: right;\">\n",
              "      <th></th>\n",
              "      <th>SUBJECT_ID</th>\n",
              "      <th>HADM_ID</th>\n",
              "      <th>ICUSTAY_ID</th>\n",
              "      <th>ITEMID</th>\n",
              "      <th>CHARTTIME</th>\n",
              "      <th>VALUENUM</th>\n",
              "    </tr>\n",
              "  </thead>\n",
              "  <tbody>\n",
              "    <tr>\n",
              "      <th>209800561</th>\n",
              "      <td>3</td>\n",
              "      <td>145834</td>\n",
              "      <td>211552</td>\n",
              "      <td>456</td>\n",
              "      <td>2101-10-20 18:45:00</td>\n",
              "      <td>36.666698</td>\n",
              "    </tr>\n",
              "  </tbody>\n",
              "</table>\n",
              "</div>\n",
              "    <div class=\"colab-df-buttons\">\n",
              "\n",
              "  <div class=\"colab-df-container\">\n",
              "    <button class=\"colab-df-convert\" onclick=\"convertToInteractive('df-a27a8b2d-50b2-4ecd-a27f-ca017dfbfd93')\"\n",
              "            title=\"Convert this dataframe to an interactive table.\"\n",
              "            style=\"display:none;\">\n",
              "\n",
              "  <svg xmlns=\"http://www.w3.org/2000/svg\" height=\"24px\" viewBox=\"0 -960 960 960\">\n",
              "    <path d=\"M120-120v-720h720v720H120Zm60-500h600v-160H180v160Zm220 220h160v-160H400v160Zm0 220h160v-160H400v160ZM180-400h160v-160H180v160Zm440 0h160v-160H620v160ZM180-180h160v-160H180v160Zm440 0h160v-160H620v160Z\"/>\n",
              "  </svg>\n",
              "    </button>\n",
              "\n",
              "  <style>\n",
              "    .colab-df-container {\n",
              "      display:flex;\n",
              "      gap: 12px;\n",
              "    }\n",
              "\n",
              "    .colab-df-convert {\n",
              "      background-color: #E8F0FE;\n",
              "      border: none;\n",
              "      border-radius: 50%;\n",
              "      cursor: pointer;\n",
              "      display: none;\n",
              "      fill: #1967D2;\n",
              "      height: 32px;\n",
              "      padding: 0 0 0 0;\n",
              "      width: 32px;\n",
              "    }\n",
              "\n",
              "    .colab-df-convert:hover {\n",
              "      background-color: #E2EBFA;\n",
              "      box-shadow: 0px 1px 2px rgba(60, 64, 67, 0.3), 0px 1px 3px 1px rgba(60, 64, 67, 0.15);\n",
              "      fill: #174EA6;\n",
              "    }\n",
              "\n",
              "    .colab-df-buttons div {\n",
              "      margin-bottom: 4px;\n",
              "    }\n",
              "\n",
              "    [theme=dark] .colab-df-convert {\n",
              "      background-color: #3B4455;\n",
              "      fill: #D2E3FC;\n",
              "    }\n",
              "\n",
              "    [theme=dark] .colab-df-convert:hover {\n",
              "      background-color: #434B5C;\n",
              "      box-shadow: 0px 1px 3px 1px rgba(0, 0, 0, 0.15);\n",
              "      filter: drop-shadow(0px 1px 2px rgba(0, 0, 0, 0.3));\n",
              "      fill: #FFFFFF;\n",
              "    }\n",
              "  </style>\n",
              "\n",
              "    <script>\n",
              "      const buttonEl =\n",
              "        document.querySelector('#df-a27a8b2d-50b2-4ecd-a27f-ca017dfbfd93 button.colab-df-convert');\n",
              "      buttonEl.style.display =\n",
              "        google.colab.kernel.accessAllowed ? 'block' : 'none';\n",
              "\n",
              "      async function convertToInteractive(key) {\n",
              "        const element = document.querySelector('#df-a27a8b2d-50b2-4ecd-a27f-ca017dfbfd93');\n",
              "        const dataTable =\n",
              "          await google.colab.kernel.invokeFunction('convertToInteractive',\n",
              "                                                    [key], {});\n",
              "        if (!dataTable) return;\n",
              "\n",
              "        const docLinkHtml = 'Like what you see? Visit the ' +\n",
              "          '<a target=\"_blank\" href=https://colab.research.google.com/notebooks/data_table.ipynb>data table notebook</a>'\n",
              "          + ' to learn more about interactive tables.';\n",
              "        element.innerHTML = '';\n",
              "        dataTable['output_type'] = 'display_data';\n",
              "        await google.colab.output.renderOutput(dataTable, element);\n",
              "        const docLink = document.createElement('div');\n",
              "        docLink.innerHTML = docLinkHtml;\n",
              "        element.appendChild(docLink);\n",
              "      }\n",
              "    </script>\n",
              "  </div>\n",
              "\n",
              "\n",
              "    </div>\n",
              "  </div>\n"
            ],
            "text/plain": [
              "           SUBJECT_ID  HADM_ID  ICUSTAY_ID  ITEMID           CHARTTIME  \\\n",
              "209800561           3   145834      211552     456 2101-10-20 18:45:00   \n",
              "\n",
              "            VALUENUM  \n",
              "209800561  36.666698  "
            ]
          },
          "execution_count": 15,
          "metadata": {},
          "output_type": "execute_result"
        }
      ],
      "source": [
        "map_values.head(1)"
      ]
    },
    {
      "cell_type": "code",
      "execution_count": null,
      "metadata": {
        "colab": {
          "base_uri": "https://localhost:8080/",
          "height": 81
        },
        "id": "1naC4upwShGH",
        "outputId": "bccbb50e-40e8-4a48-a4ca-c5f5a1d5e9bd"
      },
      "outputs": [
        {
          "data": {
            "application/vnd.google.colaboratory.intrinsic+json": {
              "type": "dataframe",
              "variable_name": "gcs_values"
            },
            "text/html": [
              "\n",
              "  <div id=\"df-7fdad313-a771-45df-84df-a56f69b2dde9\" class=\"colab-df-container\">\n",
              "    <div>\n",
              "<style scoped>\n",
              "    .dataframe tbody tr th:only-of-type {\n",
              "        vertical-align: middle;\n",
              "    }\n",
              "\n",
              "    .dataframe tbody tr th {\n",
              "        vertical-align: top;\n",
              "    }\n",
              "\n",
              "    .dataframe thead th {\n",
              "        text-align: right;\n",
              "    }\n",
              "</style>\n",
              "<table border=\"1\" class=\"dataframe\">\n",
              "  <thead>\n",
              "    <tr style=\"text-align: right;\">\n",
              "      <th></th>\n",
              "      <th>SUBJECT_ID</th>\n",
              "      <th>HADM_ID</th>\n",
              "      <th>ICUSTAY_ID</th>\n",
              "      <th>ITEMID</th>\n",
              "      <th>CHARTTIME</th>\n",
              "      <th>VALUENUM</th>\n",
              "    </tr>\n",
              "  </thead>\n",
              "  <tbody>\n",
              "    <tr>\n",
              "      <th>115356174</th>\n",
              "      <td>3</td>\n",
              "      <td>145834</td>\n",
              "      <td>211552</td>\n",
              "      <td>198</td>\n",
              "      <td>2101-10-21 03:00:00</td>\n",
              "      <td>3.0</td>\n",
              "    </tr>\n",
              "  </tbody>\n",
              "</table>\n",
              "</div>\n",
              "    <div class=\"colab-df-buttons\">\n",
              "\n",
              "  <div class=\"colab-df-container\">\n",
              "    <button class=\"colab-df-convert\" onclick=\"convertToInteractive('df-7fdad313-a771-45df-84df-a56f69b2dde9')\"\n",
              "            title=\"Convert this dataframe to an interactive table.\"\n",
              "            style=\"display:none;\">\n",
              "\n",
              "  <svg xmlns=\"http://www.w3.org/2000/svg\" height=\"24px\" viewBox=\"0 -960 960 960\">\n",
              "    <path d=\"M120-120v-720h720v720H120Zm60-500h600v-160H180v160Zm220 220h160v-160H400v160Zm0 220h160v-160H400v160ZM180-400h160v-160H180v160Zm440 0h160v-160H620v160ZM180-180h160v-160H180v160Zm440 0h160v-160H620v160Z\"/>\n",
              "  </svg>\n",
              "    </button>\n",
              "\n",
              "  <style>\n",
              "    .colab-df-container {\n",
              "      display:flex;\n",
              "      gap: 12px;\n",
              "    }\n",
              "\n",
              "    .colab-df-convert {\n",
              "      background-color: #E8F0FE;\n",
              "      border: none;\n",
              "      border-radius: 50%;\n",
              "      cursor: pointer;\n",
              "      display: none;\n",
              "      fill: #1967D2;\n",
              "      height: 32px;\n",
              "      padding: 0 0 0 0;\n",
              "      width: 32px;\n",
              "    }\n",
              "\n",
              "    .colab-df-convert:hover {\n",
              "      background-color: #E2EBFA;\n",
              "      box-shadow: 0px 1px 2px rgba(60, 64, 67, 0.3), 0px 1px 3px 1px rgba(60, 64, 67, 0.15);\n",
              "      fill: #174EA6;\n",
              "    }\n",
              "\n",
              "    .colab-df-buttons div {\n",
              "      margin-bottom: 4px;\n",
              "    }\n",
              "\n",
              "    [theme=dark] .colab-df-convert {\n",
              "      background-color: #3B4455;\n",
              "      fill: #D2E3FC;\n",
              "    }\n",
              "\n",
              "    [theme=dark] .colab-df-convert:hover {\n",
              "      background-color: #434B5C;\n",
              "      box-shadow: 0px 1px 3px 1px rgba(0, 0, 0, 0.15);\n",
              "      filter: drop-shadow(0px 1px 2px rgba(0, 0, 0, 0.3));\n",
              "      fill: #FFFFFF;\n",
              "    }\n",
              "  </style>\n",
              "\n",
              "    <script>\n",
              "      const buttonEl =\n",
              "        document.querySelector('#df-7fdad313-a771-45df-84df-a56f69b2dde9 button.colab-df-convert');\n",
              "      buttonEl.style.display =\n",
              "        google.colab.kernel.accessAllowed ? 'block' : 'none';\n",
              "\n",
              "      async function convertToInteractive(key) {\n",
              "        const element = document.querySelector('#df-7fdad313-a771-45df-84df-a56f69b2dde9');\n",
              "        const dataTable =\n",
              "          await google.colab.kernel.invokeFunction('convertToInteractive',\n",
              "                                                    [key], {});\n",
              "        if (!dataTable) return;\n",
              "\n",
              "        const docLinkHtml = 'Like what you see? Visit the ' +\n",
              "          '<a target=\"_blank\" href=https://colab.research.google.com/notebooks/data_table.ipynb>data table notebook</a>'\n",
              "          + ' to learn more about interactive tables.';\n",
              "        element.innerHTML = '';\n",
              "        dataTable['output_type'] = 'display_data';\n",
              "        await google.colab.output.renderOutput(dataTable, element);\n",
              "        const docLink = document.createElement('div');\n",
              "        docLink.innerHTML = docLinkHtml;\n",
              "        element.appendChild(docLink);\n",
              "      }\n",
              "    </script>\n",
              "  </div>\n",
              "\n",
              "\n",
              "    </div>\n",
              "  </div>\n"
            ],
            "text/plain": [
              "           SUBJECT_ID  HADM_ID  ICUSTAY_ID  ITEMID           CHARTTIME  \\\n",
              "115356174           3   145834      211552     198 2101-10-21 03:00:00   \n",
              "\n",
              "           VALUENUM  \n",
              "115356174       3.0  "
            ]
          },
          "execution_count": 16,
          "metadata": {},
          "output_type": "execute_result"
        }
      ],
      "source": [
        "gcs_values.head(1)"
      ]
    },
    {
      "cell_type": "markdown",
      "metadata": {
        "id": "bcIS91WqBF-e"
      },
      "source": [
        "Apply SOFA Score Criteria"
      ]
    },
    {
      "cell_type": "code",
      "execution_count": null,
      "metadata": {
        "id": "PIdPiw3eBDkC"
      },
      "outputs": [],
      "source": [
        "# Define SOFA thresholds (simplified version)\n",
        "def calculate_sofa(map_val, gcs_val):\n",
        "    sofa_score = 0\n",
        "    if map_val < 70:  # Low blood pressure\n",
        "        sofa_score += 1\n",
        "    if gcs_val < 13:  # Decreased consciousness\n",
        "        sofa_score += 1\n",
        "    return sofa_score\n",
        "\n",
        "# Merge MAP and GCS values by patient\n",
        "sepsis_data = map_values.merge(gcs_values, on=['SUBJECT_ID', 'CHARTTIME'], suffixes=('_map', '_gcs'))\n",
        "\n",
        "# Calculate SOFA score\n",
        "sepsis_data['SOFA_SCORE'] = sepsis_data.apply(lambda row: calculate_sofa(row['VALUENUM_map'], row['VALUENUM_gcs']), axis=1)\n",
        "\n",
        "# Filter patients with SOFA Score ≥ 2\n",
        "sepsis_cases = sepsis_data[sepsis_data['SOFA_SCORE'] >= 2]\n",
        "\n",
        "# Combine with suspected infection cases\n",
        "final_sepsis_cases = sepsis_cases[sepsis_cases['SUBJECT_ID'].isin(suspected_infection)]"
      ]
    },
    {
      "cell_type": "code",
      "execution_count": null,
      "metadata": {
        "colab": {
          "base_uri": "https://localhost:8080/",
          "height": 81
        },
        "id": "WI8ZJobLTLj4",
        "outputId": "04cc45a8-972d-4cde-b63b-f68fee45ba83"
      },
      "outputs": [
        {
          "data": {
            "application/vnd.google.colaboratory.intrinsic+json": {
              "type": "dataframe",
              "variable_name": "sepsis_data"
            },
            "text/html": [
              "\n",
              "  <div id=\"df-9f551322-46c2-4151-a1fe-68fef87d1aa2\" class=\"colab-df-container\">\n",
              "    <div>\n",
              "<style scoped>\n",
              "    .dataframe tbody tr th:only-of-type {\n",
              "        vertical-align: middle;\n",
              "    }\n",
              "\n",
              "    .dataframe tbody tr th {\n",
              "        vertical-align: top;\n",
              "    }\n",
              "\n",
              "    .dataframe thead th {\n",
              "        text-align: right;\n",
              "    }\n",
              "</style>\n",
              "<table border=\"1\" class=\"dataframe\">\n",
              "  <thead>\n",
              "    <tr style=\"text-align: right;\">\n",
              "      <th></th>\n",
              "      <th>SUBJECT_ID</th>\n",
              "      <th>HADM_ID_map</th>\n",
              "      <th>ICUSTAY_ID_map</th>\n",
              "      <th>ITEMID_map</th>\n",
              "      <th>CHARTTIME</th>\n",
              "      <th>VALUENUM_map</th>\n",
              "      <th>HADM_ID_gcs</th>\n",
              "      <th>ICUSTAY_ID_gcs</th>\n",
              "      <th>ITEMID_gcs</th>\n",
              "      <th>VALUENUM_gcs</th>\n",
              "      <th>SOFA_SCORE</th>\n",
              "    </tr>\n",
              "  </thead>\n",
              "  <tbody>\n",
              "    <tr>\n",
              "      <th>0</th>\n",
              "      <td>3</td>\n",
              "      <td>145834</td>\n",
              "      <td>211552</td>\n",
              "      <td>456</td>\n",
              "      <td>2101-10-24 15:00:00</td>\n",
              "      <td>74.0</td>\n",
              "      <td>145834</td>\n",
              "      <td>211552</td>\n",
              "      <td>198</td>\n",
              "      <td>15.0</td>\n",
              "      <td>0</td>\n",
              "    </tr>\n",
              "  </tbody>\n",
              "</table>\n",
              "</div>\n",
              "    <div class=\"colab-df-buttons\">\n",
              "\n",
              "  <div class=\"colab-df-container\">\n",
              "    <button class=\"colab-df-convert\" onclick=\"convertToInteractive('df-9f551322-46c2-4151-a1fe-68fef87d1aa2')\"\n",
              "            title=\"Convert this dataframe to an interactive table.\"\n",
              "            style=\"display:none;\">\n",
              "\n",
              "  <svg xmlns=\"http://www.w3.org/2000/svg\" height=\"24px\" viewBox=\"0 -960 960 960\">\n",
              "    <path d=\"M120-120v-720h720v720H120Zm60-500h600v-160H180v160Zm220 220h160v-160H400v160Zm0 220h160v-160H400v160ZM180-400h160v-160H180v160Zm440 0h160v-160H620v160ZM180-180h160v-160H180v160Zm440 0h160v-160H620v160Z\"/>\n",
              "  </svg>\n",
              "    </button>\n",
              "\n",
              "  <style>\n",
              "    .colab-df-container {\n",
              "      display:flex;\n",
              "      gap: 12px;\n",
              "    }\n",
              "\n",
              "    .colab-df-convert {\n",
              "      background-color: #E8F0FE;\n",
              "      border: none;\n",
              "      border-radius: 50%;\n",
              "      cursor: pointer;\n",
              "      display: none;\n",
              "      fill: #1967D2;\n",
              "      height: 32px;\n",
              "      padding: 0 0 0 0;\n",
              "      width: 32px;\n",
              "    }\n",
              "\n",
              "    .colab-df-convert:hover {\n",
              "      background-color: #E2EBFA;\n",
              "      box-shadow: 0px 1px 2px rgba(60, 64, 67, 0.3), 0px 1px 3px 1px rgba(60, 64, 67, 0.15);\n",
              "      fill: #174EA6;\n",
              "    }\n",
              "\n",
              "    .colab-df-buttons div {\n",
              "      margin-bottom: 4px;\n",
              "    }\n",
              "\n",
              "    [theme=dark] .colab-df-convert {\n",
              "      background-color: #3B4455;\n",
              "      fill: #D2E3FC;\n",
              "    }\n",
              "\n",
              "    [theme=dark] .colab-df-convert:hover {\n",
              "      background-color: #434B5C;\n",
              "      box-shadow: 0px 1px 3px 1px rgba(0, 0, 0, 0.15);\n",
              "      filter: drop-shadow(0px 1px 2px rgba(0, 0, 0, 0.3));\n",
              "      fill: #FFFFFF;\n",
              "    }\n",
              "  </style>\n",
              "\n",
              "    <script>\n",
              "      const buttonEl =\n",
              "        document.querySelector('#df-9f551322-46c2-4151-a1fe-68fef87d1aa2 button.colab-df-convert');\n",
              "      buttonEl.style.display =\n",
              "        google.colab.kernel.accessAllowed ? 'block' : 'none';\n",
              "\n",
              "      async function convertToInteractive(key) {\n",
              "        const element = document.querySelector('#df-9f551322-46c2-4151-a1fe-68fef87d1aa2');\n",
              "        const dataTable =\n",
              "          await google.colab.kernel.invokeFunction('convertToInteractive',\n",
              "                                                    [key], {});\n",
              "        if (!dataTable) return;\n",
              "\n",
              "        const docLinkHtml = 'Like what you see? Visit the ' +\n",
              "          '<a target=\"_blank\" href=https://colab.research.google.com/notebooks/data_table.ipynb>data table notebook</a>'\n",
              "          + ' to learn more about interactive tables.';\n",
              "        element.innerHTML = '';\n",
              "        dataTable['output_type'] = 'display_data';\n",
              "        await google.colab.output.renderOutput(dataTable, element);\n",
              "        const docLink = document.createElement('div');\n",
              "        docLink.innerHTML = docLinkHtml;\n",
              "        element.appendChild(docLink);\n",
              "      }\n",
              "    </script>\n",
              "  </div>\n",
              "\n",
              "\n",
              "    </div>\n",
              "  </div>\n"
            ],
            "text/plain": [
              "   SUBJECT_ID  HADM_ID_map  ICUSTAY_ID_map  ITEMID_map           CHARTTIME  \\\n",
              "0           3       145834          211552         456 2101-10-24 15:00:00   \n",
              "\n",
              "   VALUENUM_map  HADM_ID_gcs  ICUSTAY_ID_gcs  ITEMID_gcs  VALUENUM_gcs  \\\n",
              "0          74.0       145834          211552         198          15.0   \n",
              "\n",
              "   SOFA_SCORE  \n",
              "0           0  "
            ]
          },
          "execution_count": 18,
          "metadata": {},
          "output_type": "execute_result"
        }
      ],
      "source": [
        "sepsis_data.head(1)"
      ]
    },
    {
      "cell_type": "code",
      "execution_count": null,
      "metadata": {
        "colab": {
          "base_uri": "https://localhost:8080/",
          "height": 81
        },
        "id": "wjUohrWlBaA_",
        "outputId": "f9305e8c-b335-4739-816f-9bbe8ef9abf5"
      },
      "outputs": [
        {
          "data": {
            "application/vnd.google.colaboratory.intrinsic+json": {
              "summary": "{\n  \"name\": \"final_sepsis_cases\",\n  \"rows\": 562,\n  \"fields\": [\n    {\n      \"column\": \"SUBJECT_ID\",\n      \"properties\": {\n        \"dtype\": \"Int64\",\n        \"num_unique_values\": 49,\n        \"samples\": [\n          7600,\n          25385,\n          25674\n        ],\n        \"semantic_type\": \"\",\n        \"description\": \"\"\n      }\n    },\n    {\n      \"column\": \"HADM_ID_map\",\n      \"properties\": {\n        \"dtype\": \"Int64\",\n        \"num_unique_values\": 69,\n        \"samples\": [\n          139950,\n          198608,\n          196628\n        ],\n        \"semantic_type\": \"\",\n        \"description\": \"\"\n      }\n    },\n    {\n      \"column\": \"ICUSTAY_ID_map\",\n      \"properties\": {\n        \"dtype\": \"Int64\",\n        \"num_unique_values\": 73,\n        \"samples\": [\n          223544,\n          291858,\n          263579\n        ],\n        \"semantic_type\": \"\",\n        \"description\": \"\"\n      }\n    },\n    {\n      \"column\": \"ITEMID_map\",\n      \"properties\": {\n        \"dtype\": \"Int64\",\n        \"num_unique_values\": 1,\n        \"samples\": [\n          456\n        ],\n        \"semantic_type\": \"\",\n        \"description\": \"\"\n      }\n    },\n    {\n      \"column\": \"CHARTTIME\",\n      \"properties\": {\n        \"dtype\": \"date\",\n        \"min\": \"2100-06-26 20:00:00\",\n        \"max\": \"2202-04-09 05:00:00\",\n        \"num_unique_values\": 562,\n        \"samples\": [\n          \"2193-08-30 03:00:00\"\n        ],\n        \"semantic_type\": \"\",\n        \"description\": \"\"\n      }\n    },\n    {\n      \"column\": \"VALUENUM_map\",\n      \"properties\": {\n        \"dtype\": \"number\",\n        \"std\": 6.157117835569056,\n        \"min\": 36.33330154418945,\n        \"max\": 69.66670227050781,\n        \"num_unique_values\": 76,\n        \"samples\": [\n          64.0\n        ],\n        \"semantic_type\": \"\",\n        \"description\": \"\"\n      }\n    },\n    {\n      \"column\": \"HADM_ID_gcs\",\n      \"properties\": {\n        \"dtype\": \"Int64\",\n        \"num_unique_values\": 69,\n        \"samples\": [\n          139950\n        ],\n        \"semantic_type\": \"\",\n        \"description\": \"\"\n      }\n    },\n    {\n      \"column\": \"ICUSTAY_ID_gcs\",\n      \"properties\": {\n        \"dtype\": \"Int64\",\n        \"num_unique_values\": 73,\n        \"samples\": [\n          223544\n        ],\n        \"semantic_type\": \"\",\n        \"description\": \"\"\n      }\n    },\n    {\n      \"column\": \"ITEMID_gcs\",\n      \"properties\": {\n        \"dtype\": \"Int64\",\n        \"num_unique_values\": 1,\n        \"samples\": [\n          198\n        ],\n        \"semantic_type\": \"\",\n        \"description\": \"\"\n      }\n    },\n    {\n      \"column\": \"VALUENUM_gcs\",\n      \"properties\": {\n        \"dtype\": \"number\",\n        \"std\": 2.257004246239968,\n        \"min\": 3.0,\n        \"max\": 12.0,\n        \"num_unique_values\": 10,\n        \"samples\": [\n          4.0\n        ],\n        \"semantic_type\": \"\",\n        \"description\": \"\"\n      }\n    },\n    {\n      \"column\": \"SOFA_SCORE\",\n      \"properties\": {\n        \"dtype\": \"number\",\n        \"std\": 0,\n        \"min\": 2,\n        \"max\": 2,\n        \"num_unique_values\": 1,\n        \"samples\": [\n          2\n        ],\n        \"semantic_type\": \"\",\n        \"description\": \"\"\n      }\n    }\n  ]\n}",
              "type": "dataframe",
              "variable_name": "final_sepsis_cases"
            },
            "text/html": [
              "\n",
              "  <div id=\"df-381a42df-9386-4faa-9eb5-3afa6a9bf165\" class=\"colab-df-container\">\n",
              "    <div>\n",
              "<style scoped>\n",
              "    .dataframe tbody tr th:only-of-type {\n",
              "        vertical-align: middle;\n",
              "    }\n",
              "\n",
              "    .dataframe tbody tr th {\n",
              "        vertical-align: top;\n",
              "    }\n",
              "\n",
              "    .dataframe thead th {\n",
              "        text-align: right;\n",
              "    }\n",
              "</style>\n",
              "<table border=\"1\" class=\"dataframe\">\n",
              "  <thead>\n",
              "    <tr style=\"text-align: right;\">\n",
              "      <th></th>\n",
              "      <th>SUBJECT_ID</th>\n",
              "      <th>HADM_ID_map</th>\n",
              "      <th>ICUSTAY_ID_map</th>\n",
              "      <th>ITEMID_map</th>\n",
              "      <th>CHARTTIME</th>\n",
              "      <th>VALUENUM_map</th>\n",
              "      <th>HADM_ID_gcs</th>\n",
              "      <th>ICUSTAY_ID_gcs</th>\n",
              "      <th>ITEMID_gcs</th>\n",
              "      <th>VALUENUM_gcs</th>\n",
              "      <th>SOFA_SCORE</th>\n",
              "    </tr>\n",
              "  </thead>\n",
              "  <tbody>\n",
              "    <tr>\n",
              "      <th>2367</th>\n",
              "      <td>231</td>\n",
              "      <td>198608</td>\n",
              "      <td>239979</td>\n",
              "      <td>456</td>\n",
              "      <td>2176-05-18 14:00:00</td>\n",
              "      <td>69.333298</td>\n",
              "      <td>198608</td>\n",
              "      <td>239979</td>\n",
              "      <td>198</td>\n",
              "      <td>7.0</td>\n",
              "      <td>2</td>\n",
              "    </tr>\n",
              "  </tbody>\n",
              "</table>\n",
              "</div>\n",
              "    <div class=\"colab-df-buttons\">\n",
              "\n",
              "  <div class=\"colab-df-container\">\n",
              "    <button class=\"colab-df-convert\" onclick=\"convertToInteractive('df-381a42df-9386-4faa-9eb5-3afa6a9bf165')\"\n",
              "            title=\"Convert this dataframe to an interactive table.\"\n",
              "            style=\"display:none;\">\n",
              "\n",
              "  <svg xmlns=\"http://www.w3.org/2000/svg\" height=\"24px\" viewBox=\"0 -960 960 960\">\n",
              "    <path d=\"M120-120v-720h720v720H120Zm60-500h600v-160H180v160Zm220 220h160v-160H400v160Zm0 220h160v-160H400v160ZM180-400h160v-160H180v160Zm440 0h160v-160H620v160ZM180-180h160v-160H180v160Zm440 0h160v-160H620v160Z\"/>\n",
              "  </svg>\n",
              "    </button>\n",
              "\n",
              "  <style>\n",
              "    .colab-df-container {\n",
              "      display:flex;\n",
              "      gap: 12px;\n",
              "    }\n",
              "\n",
              "    .colab-df-convert {\n",
              "      background-color: #E8F0FE;\n",
              "      border: none;\n",
              "      border-radius: 50%;\n",
              "      cursor: pointer;\n",
              "      display: none;\n",
              "      fill: #1967D2;\n",
              "      height: 32px;\n",
              "      padding: 0 0 0 0;\n",
              "      width: 32px;\n",
              "    }\n",
              "\n",
              "    .colab-df-convert:hover {\n",
              "      background-color: #E2EBFA;\n",
              "      box-shadow: 0px 1px 2px rgba(60, 64, 67, 0.3), 0px 1px 3px 1px rgba(60, 64, 67, 0.15);\n",
              "      fill: #174EA6;\n",
              "    }\n",
              "\n",
              "    .colab-df-buttons div {\n",
              "      margin-bottom: 4px;\n",
              "    }\n",
              "\n",
              "    [theme=dark] .colab-df-convert {\n",
              "      background-color: #3B4455;\n",
              "      fill: #D2E3FC;\n",
              "    }\n",
              "\n",
              "    [theme=dark] .colab-df-convert:hover {\n",
              "      background-color: #434B5C;\n",
              "      box-shadow: 0px 1px 3px 1px rgba(0, 0, 0, 0.15);\n",
              "      filter: drop-shadow(0px 1px 2px rgba(0, 0, 0, 0.3));\n",
              "      fill: #FFFFFF;\n",
              "    }\n",
              "  </style>\n",
              "\n",
              "    <script>\n",
              "      const buttonEl =\n",
              "        document.querySelector('#df-381a42df-9386-4faa-9eb5-3afa6a9bf165 button.colab-df-convert');\n",
              "      buttonEl.style.display =\n",
              "        google.colab.kernel.accessAllowed ? 'block' : 'none';\n",
              "\n",
              "      async function convertToInteractive(key) {\n",
              "        const element = document.querySelector('#df-381a42df-9386-4faa-9eb5-3afa6a9bf165');\n",
              "        const dataTable =\n",
              "          await google.colab.kernel.invokeFunction('convertToInteractive',\n",
              "                                                    [key], {});\n",
              "        if (!dataTable) return;\n",
              "\n",
              "        const docLinkHtml = 'Like what you see? Visit the ' +\n",
              "          '<a target=\"_blank\" href=https://colab.research.google.com/notebooks/data_table.ipynb>data table notebook</a>'\n",
              "          + ' to learn more about interactive tables.';\n",
              "        element.innerHTML = '';\n",
              "        dataTable['output_type'] = 'display_data';\n",
              "        await google.colab.output.renderOutput(dataTable, element);\n",
              "        const docLink = document.createElement('div');\n",
              "        docLink.innerHTML = docLinkHtml;\n",
              "        element.appendChild(docLink);\n",
              "      }\n",
              "    </script>\n",
              "  </div>\n",
              "\n",
              "\n",
              "    </div>\n",
              "  </div>\n"
            ],
            "text/plain": [
              "      SUBJECT_ID  HADM_ID_map  ICUSTAY_ID_map  ITEMID_map           CHARTTIME  \\\n",
              "2367         231       198608          239979         456 2176-05-18 14:00:00   \n",
              "\n",
              "      VALUENUM_map  HADM_ID_gcs  ICUSTAY_ID_gcs  ITEMID_gcs  VALUENUM_gcs  \\\n",
              "2367     69.333298       198608          239979         198           7.0   \n",
              "\n",
              "      SOFA_SCORE  \n",
              "2367           2  "
            ]
          },
          "execution_count": 19,
          "metadata": {},
          "output_type": "execute_result"
        }
      ],
      "source": [
        "final_sepsis_cases.head(1)"
      ]
    },
    {
      "cell_type": "markdown",
      "metadata": {
        "id": "I6gcQuV3BNMd"
      },
      "source": [
        "Step 7: Lets save the sepsis cases to file"
      ]
    },
    {
      "cell_type": "code",
      "execution_count": null,
      "metadata": {
        "id": "9ZdRpmGZBQ9W"
      },
      "outputs": [],
      "source": [
        "final_sepsis_cases.to_csv(\"identified_sepsis_cases.csv\", index=False)"
      ]
    },
    {
      "cell_type": "markdown",
      "metadata": {
        "id": "2LLpkH9zCano"
      },
      "source": [
        "Lets visualize the sepsis cases before model training"
      ]
    },
    {
      "cell_type": "code",
      "execution_count": null,
      "metadata": {
        "id": "Vggh8Tw0CgeH"
      },
      "outputs": [],
      "source": [
        "sepsis_data = pd.read_csv(\"identified_sepsis_cases.csv\")\n",
        "\n",
        "# Convert CHARTTIME to datetime for proper time-series visualization\n",
        "sepsis_data['CHARTTIME'] = pd.to_datetime(sepsis_data['CHARTTIME'])\n",
        "\n",
        "# Select a subset of patients for visualization (e.g., first 5 patients)\n",
        "subset_patients = sepsis_data['SUBJECT_ID'].unique()[:5]\n",
        "sepsis_subset = sepsis_data[sepsis_data['SUBJECT_ID'].isin(subset_patients)]"
      ]
    },
    {
      "cell_type": "code",
      "execution_count": null,
      "metadata": {
        "colab": {
          "base_uri": "https://localhost:8080/",
          "height": 141
        },
        "id": "eRJ44eqBzrQS",
        "outputId": "c8f81924-bdaf-4f10-d7cb-24d9ec320f06"
      },
      "outputs": [
        {
          "ename": "NameError",
          "evalue": "name 'sepsis_data' is not defined",
          "output_type": "error",
          "traceback": [
            "\u001b[0;31m---------------------------------------------------------------------------\u001b[0m",
            "\u001b[0;31mNameError\u001b[0m                                 Traceback (most recent call last)",
            "\u001b[0;32m<ipython-input-1-6a10f9a04539>\u001b[0m in \u001b[0;36m<cell line: 0>\u001b[0;34m()\u001b[0m\n\u001b[0;32m----> 1\u001b[0;31m \u001b[0msepsis_data\u001b[0m\u001b[0;34m.\u001b[0m\u001b[0mcount\u001b[0m\u001b[0;34m(\u001b[0m\u001b[0;34m)\u001b[0m\u001b[0;34m.\u001b[0m\u001b[0mT\u001b[0m\u001b[0;34m\u001b[0m\u001b[0;34m\u001b[0m\u001b[0m\n\u001b[0m",
            "\u001b[0;31mNameError\u001b[0m: name 'sepsis_data' is not defined"
          ]
        }
      ],
      "source": [
        "sepsis_data.count()"
      ]
    },
    {
      "cell_type": "markdown",
      "metadata": {
        "id": "88XEWUJwCySe"
      },
      "source": [
        "**Plot Mean Arterial Pressure (MAP) Trends**"
      ]
    },
    {
      "cell_type": "code",
      "execution_count": null,
      "metadata": {
        "colab": {
          "base_uri": "https://localhost:8080/",
          "height": 585
        },
        "id": "00swzuvtCjpe",
        "outputId": "605aca6b-b67f-45d8-90fd-89499fbbb596"
      },
      "outputs": [
        {
          "data": {
            "image/png": "[encoded data removed]",
            "text/plain": [
              "<Figure size 1200x600 with 1 Axes>"
            ]
          },
          "metadata": {},
          "output_type": "display_data"
        }
      ],
      "source": [
        "plt.figure(figsize=(12, 6))\n",
        "sns.lineplot(data=sepsis_subset, x=\"CHARTTIME\", y=\"VALUENUM_map\", hue=\"SUBJECT_ID\", marker=\"o\")\n",
        "plt.xlabel(\"Time\")\n",
        "plt.ylabel(\"Mean Arterial Pressure (MAP)\")\n",
        "plt.title(\"Trend of Mean Arterial Pressure in Sepsis Patients\")\n",
        "plt.legend(title=\"Patient ID\")\n",
        "plt.xticks(rotation=45)\n",
        "plt.show()"
      ]
    },
    {
      "cell_type": "markdown",
      "metadata": {
        "id": "R8GSBvEIC0xD"
      },
      "source": [
        "**Plot Glasgow Coma Scale (GCS) Trends**"
      ]
    },
    {
      "cell_type": "code",
      "execution_count": null,
      "metadata": {
        "colab": {
          "base_uri": "https://localhost:8080/",
          "height": 585
        },
        "id": "n-7I-gZfC3n3",
        "outputId": "2e9f7394-819d-44b4-c376-ae76739fc918"
      },
      "outputs": [
        {
          "data": {
            "image/png": "[encoded data removed]",
            "text/plain": [
              "<Figure size 1200x600 with 1 Axes>"
            ]
          },
          "metadata": {},
          "output_type": "display_data"
        }
      ],
      "source": [
        "plt.figure(figsize=(12, 6))\n",
        "sns.lineplot(data=sepsis_subset, x=\"CHARTTIME\", y=\"VALUENUM_gcs\", hue=\"SUBJECT_ID\", marker=\"o\")\n",
        "plt.xlabel(\"Time\")\n",
        "plt.ylabel(\"Glasgow Coma Scale (GCS)\")\n",
        "plt.title(\"Trend of Glasgow Coma Scale in Sepsis Patients\")\n",
        "plt.legend(title=\"Patient ID\")\n",
        "plt.xticks(rotation=45)\n",
        "plt.show()"
      ]
    },
    {
      "cell_type": "markdown",
      "metadata": {
        "id": "nOQT5vt-qsU-"
      },
      "source": [
        "The Glasgow Coma Scale (GCS) trend graph looks good.\n"
      ]
    },
    {
      "cell_type": "markdown",
      "metadata": {
        "id": "QB-zf-gOGAqs"
      },
      "source": [
        "## Data Processing ##\n",
        "\n",
        "Data looks good so we proceed to data processing;\n",
        "\n",
        "**Assumption:** we will start processing data sepsis_vitals"
      ]
    },
    {
      "cell_type": "markdown",
      "metadata": {
        "id": "X4rwN4i7G2qt"
      },
      "source": [
        "Step 1: **Handle Missing Values**\n",
        "\n",
        "* Drop patients with excessive missing data.\n",
        "* Impute missing values using interpolation."
      ]
    },
    {
      "cell_type": "code",
      "execution_count": null,
      "metadata": {
        "id": "rGL5s1MUG2YZ"
      },
      "outputs": [],
      "source": [
        "# Drop rows where VALUENUM (Vital Signs) are NaN\n",
        "sepsis_vitals = sepsis_vitals.dropna(subset=['VALUENUM'])\n",
        "# Forward-fill missing values within the same patient\n",
        "sepsis_vitals['VALUENUM'] = sepsis_vitals.groupby('SUBJECT_ID')['VALUENUM'].ffill()\n",
        "# Back-fill remaining missing values\n",
        "sepsis_vitals['VALUENUM'] = sepsis_vitals.groupby('SUBJECT_ID')['VALUENUM'].bfill()"
      ]
    },
    {
      "cell_type": "markdown",
      "metadata": {
        "id": "yDCvZXu4JWA9"
      },
      "source": [
        "Step 2: **Convert Data Types**\n",
        "\n",
        "To ensure smooth processing, convert CHARTTIME and VALUENUM to correct types:"
      ]
    },
    {
      "cell_type": "code",
      "execution_count": null,
      "metadata": {
        "id": "05AAbAMYJHRK"
      },
      "outputs": [],
      "source": [
        "# Ensure CHARTTIME is a datetime object\n",
        "sepsis_vitals['CHARTTIME'] = pd.to_datetime(sepsis_vitals['CHARTTIME'])\n",
        "\n",
        "# Convert VALUENUM to float (vital signs should always be numeric)\n",
        "sepsis_vitals['VALUENUM'] = sepsis_vitals['VALUENUM'].astype('float64')"
      ]
    },
    {
      "cell_type": "markdown",
      "metadata": {
        "id": "3fr93N64Jzq5"
      },
      "source": [
        "Step 4: **Feature Engineering (SOFA Score & Infection Markers)**\n",
        "\n",
        "* SOFA Score Calculation\n",
        "* We calculate SOFA scores using Mean Arterial Pressure (MAP) and Glasgow Coma Scale (GCS).\n",
        "* Suspected Infection Criteria\n",
        "* Antibiotics + Blood Culture: A patient is considered to have suspected infection if blood cultures and antibiotics are ordered within 24 hours."
      ]
    },
    {
      "cell_type": "code",
      "execution_count": null,
      "metadata": {
        "id": "aaxkz2QyJ6jg"
      },
      "outputs": [],
      "source": [
        "# Check for blood culture tests (LABITEMID varies)\n",
        "blood_culture_ids = [50886]  # Validate Blood Culture id\n",
        "blood_cultures = labevents[labevents['ITEMID'].isin(blood_culture_ids)]\n",
        "\n",
        "# Identify patients with blood culture tests\n",
        "blood_culture_patients = blood_cultures['SUBJECT_ID'].unique()\n",
        "\n",
        "# Find patients who received antibiotics\n",
        "antibiotics_list = [\"VANCOMYCIN\", \"MEROPENEM\", \"PIPERACILLIN\", \"CEFEPIME\"]\n",
        "prescribed_abx = prescriptions[prescriptions['DRUG'].str.contains('|'.join(antibiotics_list), case=False, na=False)]\n",
        "\n",
        "# Find patients who had blood cultures + antibiotics within 24 hours\n",
        "suspected_infection = set(blood_culture_patients) & set(prescribed_abx['SUBJECT_ID'].unique())\n",
        "\n",
        "# Assign a label for suspected sepsis\n",
        "sepsis_vitals['SUSPECTED_SEPSIS'] = sepsis_vitals['SUBJECT_ID'].apply(lambda x: 1 if x in suspected_infection else 0)"
      ]
    },
    {
      "cell_type": "code",
      "execution_count": null,
      "metadata": {
        "colab": {
          "base_uri": "https://localhost:8080/",
          "height": 81
        },
        "id": "EP7icbDqKmua",
        "outputId": "10585a41-41c0-432c-d940-7a96917405c1"
      },
      "outputs": [
        {
          "data": {
            "application/vnd.google.colaboratory.intrinsic+json": {
              "summary": "{\n  \"name\": \"sepsis_vitals[sepsis_vitals['SUSPECTED_SEPSIS'] >= 1]\",\n  \"rows\": 1,\n  \"fields\": [\n    {\n      \"column\": \"SUBJECT_ID\",\n      \"properties\": {\n        \"dtype\": \"Int64\",\n        \"num_unique_values\": 1,\n        \"samples\": [\n          9\n        ],\n        \"semantic_type\": \"\",\n        \"description\": \"\"\n      }\n    },\n    {\n      \"column\": \"HADM_ID\",\n      \"properties\": {\n        \"dtype\": \"Int64\",\n        \"num_unique_values\": 1,\n        \"samples\": [\n          150750\n        ],\n        \"semantic_type\": \"\",\n        \"description\": \"\"\n      }\n    },\n    {\n      \"column\": \"ICUSTAY_ID\",\n      \"properties\": {\n        \"dtype\": \"Int64\",\n        \"num_unique_values\": 1,\n        \"samples\": [\n          220597\n        ],\n        \"semantic_type\": \"\",\n        \"description\": \"\"\n      }\n    },\n    {\n      \"column\": \"ITEMID\",\n      \"properties\": {\n        \"dtype\": \"Int64\",\n        \"num_unique_values\": 1,\n        \"samples\": [\n          618\n        ],\n        \"semantic_type\": \"\",\n        \"description\": \"\"\n      }\n    },\n    {\n      \"column\": \"CHARTTIME\",\n      \"properties\": {\n        \"dtype\": \"date\",\n        \"min\": \"2149-11-09 13:00:00\",\n        \"max\": \"2149-11-09 13:00:00\",\n        \"num_unique_values\": 1,\n        \"samples\": [\n          \"2149-11-09 13:00:00\"\n        ],\n        \"semantic_type\": \"\",\n        \"description\": \"\"\n      }\n    },\n    {\n      \"column\": \"VALUENUM\",\n      \"properties\": {\n        \"dtype\": \"number\",\n        \"std\": null,\n        \"min\": 16.0,\n        \"max\": 16.0,\n        \"num_unique_values\": 1,\n        \"samples\": [\n          16.0\n        ],\n        \"semantic_type\": \"\",\n        \"description\": \"\"\n      }\n    },\n    {\n      \"column\": \"SUSPECTED_SEPSIS\",\n      \"properties\": {\n        \"dtype\": \"number\",\n        \"std\": null,\n        \"min\": 1,\n        \"max\": 1,\n        \"num_unique_values\": 1,\n        \"samples\": [\n          1\n        ],\n        \"semantic_type\": \"\",\n        \"description\": \"\"\n      }\n    }\n  ]\n}",
              "type": "dataframe"
            },
            "text/html": [
              "\n",
              "  <div id=\"df-613025e0-5fad-4d20-910a-a964836e3484\" class=\"colab-df-container\">\n",
              "    <div>\n",
              "<style scoped>\n",
              "    .dataframe tbody tr th:only-of-type {\n",
              "        vertical-align: middle;\n",
              "    }\n",
              "\n",
              "    .dataframe tbody tr th {\n",
              "        vertical-align: top;\n",
              "    }\n",
              "\n",
              "    .dataframe thead th {\n",
              "        text-align: right;\n",
              "    }\n",
              "</style>\n",
              "<table border=\"1\" class=\"dataframe\">\n",
              "  <thead>\n",
              "    <tr style=\"text-align: right;\">\n",
              "      <th></th>\n",
              "      <th>SUBJECT_ID</th>\n",
              "      <th>HADM_ID</th>\n",
              "      <th>ICUSTAY_ID</th>\n",
              "      <th>ITEMID</th>\n",
              "      <th>CHARTTIME</th>\n",
              "      <th>VALUENUM</th>\n",
              "      <th>SUSPECTED_SEPSIS</th>\n",
              "    </tr>\n",
              "  </thead>\n",
              "  <tbody>\n",
              "    <tr>\n",
              "      <th>4903135</th>\n",
              "      <td>9</td>\n",
              "      <td>150750</td>\n",
              "      <td>220597</td>\n",
              "      <td>618</td>\n",
              "      <td>2149-11-09 13:00:00</td>\n",
              "      <td>16.0</td>\n",
              "      <td>1</td>\n",
              "    </tr>\n",
              "  </tbody>\n",
              "</table>\n",
              "</div>\n",
              "    <div class=\"colab-df-buttons\">\n",
              "\n",
              "  <div class=\"colab-df-container\">\n",
              "    <button class=\"colab-df-convert\" onclick=\"convertToInteractive('df-613025e0-5fad-4d20-910a-a964836e3484')\"\n",
              "            title=\"Convert this dataframe to an interactive table.\"\n",
              "            style=\"display:none;\">\n",
              "\n",
              "  <svg xmlns=\"http://www.w3.org/2000/svg\" height=\"24px\" viewBox=\"0 -960 960 960\">\n",
              "    <path d=\"M120-120v-720h720v720H120Zm60-500h600v-160H180v160Zm220 220h160v-160H400v160Zm0 220h160v-160H400v160ZM180-400h160v-160H180v160Zm440 0h160v-160H620v160ZM180-180h160v-160H180v160Zm440 0h160v-160H620v160Z\"/>\n",
              "  </svg>\n",
              "    </button>\n",
              "\n",
              "  <style>\n",
              "    .colab-df-container {\n",
              "      display:flex;\n",
              "      gap: 12px;\n",
              "    }\n",
              "\n",
              "    .colab-df-convert {\n",
              "      background-color: #E8F0FE;\n",
              "      border: none;\n",
              "      border-radius: 50%;\n",
              "      cursor: pointer;\n",
              "      display: none;\n",
              "      fill: #1967D2;\n",
              "      height: 32px;\n",
              "      padding: 0 0 0 0;\n",
              "      width: 32px;\n",
              "    }\n",
              "\n",
              "    .colab-df-convert:hover {\n",
              "      background-color: #E2EBFA;\n",
              "      box-shadow: 0px 1px 2px rgba(60, 64, 67, 0.3), 0px 1px 3px 1px rgba(60, 64, 67, 0.15);\n",
              "      fill: #174EA6;\n",
              "    }\n",
              "\n",
              "    .colab-df-buttons div {\n",
              "      margin-bottom: 4px;\n",
              "    }\n",
              "\n",
              "    [theme=dark] .colab-df-convert {\n",
              "      background-color: #3B4455;\n",
              "      fill: #D2E3FC;\n",
              "    }\n",
              "\n",
              "    [theme=dark] .colab-df-convert:hover {\n",
              "      background-color: #434B5C;\n",
              "      box-shadow: 0px 1px 3px 1px rgba(0, 0, 0, 0.15);\n",
              "      filter: drop-shadow(0px 1px 2px rgba(0, 0, 0, 0.3));\n",
              "      fill: #FFFFFF;\n",
              "    }\n",
              "  </style>\n",
              "\n",
              "    <script>\n",
              "      const buttonEl =\n",
              "        document.querySelector('#df-613025e0-5fad-4d20-910a-a964836e3484 button.colab-df-convert');\n",
              "      buttonEl.style.display =\n",
              "        google.colab.kernel.accessAllowed ? 'block' : 'none';\n",
              "\n",
              "      async function convertToInteractive(key) {\n",
              "        const element = document.querySelector('#df-613025e0-5fad-4d20-910a-a964836e3484');\n",
              "        const dataTable =\n",
              "          await google.colab.kernel.invokeFunction('convertToInteractive',\n",
              "                                                    [key], {});\n",
              "        if (!dataTable) return;\n",
              "\n",
              "        const docLinkHtml = 'Like what you see? Visit the ' +\n",
              "          '<a target=\"_blank\" href=https://colab.research.google.com/notebooks/data_table.ipynb>data table notebook</a>'\n",
              "          + ' to learn more about interactive tables.';\n",
              "        element.innerHTML = '';\n",
              "        dataTable['output_type'] = 'display_data';\n",
              "        await google.colab.output.renderOutput(dataTable, element);\n",
              "        const docLink = document.createElement('div');\n",
              "        docLink.innerHTML = docLinkHtml;\n",
              "        element.appendChild(docLink);\n",
              "      }\n",
              "    </script>\n",
              "  </div>\n",
              "\n",
              "\n",
              "    </div>\n",
              "  </div>\n"
            ],
            "text/plain": [
              "         SUBJECT_ID  HADM_ID  ICUSTAY_ID  ITEMID           CHARTTIME  \\\n",
              "4903135           9   150750      220597     618 2149-11-09 13:00:00   \n",
              "\n",
              "         VALUENUM  SUSPECTED_SEPSIS  \n",
              "4903135      16.0                 1  "
            ]
          },
          "execution_count": 11,
          "metadata": {},
          "output_type": "execute_result"
        }
      ],
      "source": [
        "sepsis_vitals[sepsis_vitals['SUSPECTED_SEPSIS'] >= 1].head(1)\n"
      ]
    },
    {
      "cell_type": "markdown",
      "metadata": {
        "id": "pUIehiJgMGM3"
      },
      "source": [
        "Step 5: **Normalize & Standardize Data**\n",
        "\n",
        "To improve model performance, scale vital signs using MinMax Scaling or Standardization."
      ]
    },
    {
      "cell_type": "code",
      "execution_count": null,
      "metadata": {
        "id": "UGhsBQFRMJdk"
      },
      "outputs": [],
      "source": [
        "from sklearn.preprocessing import MinMaxScaler\n",
        "\n",
        "# Normalize vital signs\n",
        "scaler = MinMaxScaler()\n",
        "\n",
        "# Apply scaling to VALUENUM column (vital signs)\n",
        "sepsis_vitals['VALUENUM_NORM'] = scaler.fit_transform(sepsis_vitals[['VALUENUM']])"
      ]
    },
    {
      "cell_type": "code",
      "execution_count": null,
      "metadata": {
        "colab": {
          "base_uri": "https://localhost:8080/"
        },
        "id": "jq3P5smgMU8x",
        "outputId": "4fbe4c0e-bfc3-42c4-b182-64fbf5bfd378"
      },
      "outputs": [
        {
          "name": "stdout",
          "output_type": "stream",
          "text": [
            "           SUBJECT_ID  HADM_ID  ICUSTAY_ID  ITEMID           CHARTTIME  \\\n",
            "125299465           2   163353      243653     211 2138-07-17 20:20:00   \n",
            "\n",
            "           VALUENUM  SUSPECTED_SEPSIS  VALUENUM_NORM  \n",
            "125299465     148.0                 0       0.000028  \n",
            "SUBJECT_ID                   Int64\n",
            "HADM_ID                      Int64\n",
            "ICUSTAY_ID                   Int64\n",
            "ITEMID                       Int64\n",
            "CHARTTIME           datetime64[us]\n",
            "VALUENUM                   float64\n",
            "SUSPECTED_SEPSIS             int64\n",
            "VALUENUM_NORM              float64\n",
            "dtype: object\n",
            "SUBJECT_ID              0\n",
            "HADM_ID                 0\n",
            "ICUSTAY_ID          13853\n",
            "ITEMID                  0\n",
            "CHARTTIME               0\n",
            "VALUENUM                0\n",
            "SUSPECTED_SEPSIS        0\n",
            "VALUENUM_NORM           0\n",
            "dtype: int64\n"
          ]
        }
      ],
      "source": [
        "print(sepsis_vitals.head(1))  # Check first few rows\n",
        "print(sepsis_vitals.dtypes)  # Ensure correct data types\n",
        "print(sepsis_vitals.isnull().sum())  # Verify no missing values"
      ]
    },
    {
      "cell_type": "markdown",
      "metadata": {
        "id": "ucvE88JLNIjl"
      },
      "source": [
        "Many ICUSTAY_ID Missing?\n",
        "\n",
        "Possible reasons:\n",
        "1. Data Merge Issue: If ICUSTAY_ID was joined from another table (e.g., ICUSTAYS.csv.gz), some patient records might not have ICU stay data.\n",
        "2. Missing Data in MIMIC-III: Some vitals (e.g., emergency room readings) may not have ICU information.\n",
        "3. Data Processing Mistake: The column might have been altered during filtering or merging."
      ]
    },
    {
      "cell_type": "markdown",
      "metadata": {
        "id": "LSF-Acu7Nfi0"
      },
      "source": [
        "Check How Many Unique ICUSTAY_IDs Exist"
      ]
    },
    {
      "cell_type": "code",
      "execution_count": null,
      "metadata": {
        "colab": {
          "base_uri": "https://localhost:8080/"
        },
        "id": "TFY22JSaNbLu",
        "outputId": "7ab92394-35c1-4f54-f447-7a14707d1ab6"
      },
      "outputs": [
        {
          "name": "stdout",
          "output_type": "stream",
          "text": [
            "60187\n",
            "           SUBJECT_ID  ICUSTAY_ID\n",
            "125299465           2      243653\n",
            "289272833           3      211552\n",
            "39024153            4      294638\n",
            "134760809           5      214757\n",
            "52175748            6      228232\n",
            "7875600             7      236754\n",
            "5131440             8      262299\n",
            "4903135             9      220597\n",
            "89886047           10      288409\n",
            "3943845            11      229441\n"
          ]
        }
      ],
      "source": [
        "print(sepsis_vitals['ICUSTAY_ID'].nunique())  # Count unique ICU stays\n",
        "print(sepsis_vitals[['SUBJECT_ID', 'ICUSTAY_ID']].drop_duplicates().head(10))  # View some unique patient-stay mappings"
      ]
    },
    {
      "cell_type": "markdown",
      "metadata": {
        "id": "WRYYXgLsNsae"
      },
      "source": [
        "Fill Missing ICUSTAY_ID Using ICUSTAYS\n",
        "\n",
        "We can map ICU stay IDs from ICUSTAYS where possible:"
      ]
    },
    {
      "cell_type": "code",
      "execution_count": null,
      "metadata": {
        "colab": {
          "base_uri": "https://localhost:8080/"
        },
        "id": "KAkBjJ5jNpJP",
        "outputId": "e178e06f-40ef-42d4-97ea-4e8fe02f63a1"
      },
      "outputs": [
        {
          "name": "stdout",
          "output_type": "stream",
          "text": [
            "SUBJECT_ID              0\n",
            "HADM_ID                 0\n",
            "ICUSTAY_ID_x        14396\n",
            "ITEMID                  0\n",
            "CHARTTIME               0\n",
            "VALUENUM                0\n",
            "SUSPECTED_SEPSIS        0\n",
            "VALUENUM_NORM           0\n",
            "ICUSTAY_ID_y         4661\n",
            "dtype: int64\n"
          ]
        }
      ],
      "source": [
        "# Merge ICU stay IDs into the dataset based on SUBJECT_ID & HADM_ID\n",
        "sepsis_vitals = sepsis_vitals.merge(icustays[['SUBJECT_ID', 'HADM_ID', 'ICUSTAY_ID']],\n",
        "                                    on=['SUBJECT_ID', 'HADM_ID'], how='left')\n",
        "\n",
        "# Check if missing values decreased\n",
        "print(sepsis_vitals.isnull().sum())  # Should show fewer missing ICU stay IDs"
      ]
    },
    {
      "cell_type": "markdown",
      "metadata": {
        "id": "WgoJEZlcOAY3"
      },
      "source": [
        "Forward Fill ICUSTAY_ID\n",
        "\n",
        "If ICUSTAY_ID is still missing after merging, try forward filling within the same patient:"
      ]
    },
    {
      "cell_type": "code",
      "execution_count": null,
      "metadata": {
        "id": "2I8W7_ceOGPi"
      },
      "outputs": [],
      "source": [
        "# Fill missing ICU stay IDs within the same patient\n",
        "sepsis_vitals['ICUSTAY_ID_x'] = sepsis_vitals.groupby('SUBJECT_ID')['ICUSTAY_ID_y'].ffill()"
      ]
    },
    {
      "cell_type": "markdown",
      "metadata": {
        "id": "kVaHkZf3OL_Z"
      },
      "source": [
        "**Drop Remaining Rows (If Necessary)**\n",
        "\n",
        "Analyze data again and if ICUSTAY is still null then decide:\n",
        "1. Drop all remaining nulls:\n",
        "\n",
        "i.e. sepsis_vitals = sepsis_vitals.dropna(subset=['ICUSTAY_ID'])\n",
        "2. Or Mark them to Unknown\n",
        "\n",
        "i.e. sepsis_vitals['ICUSTAY_ID'].fillna(-1, inplace=True)  # Assign -1 for missing stays"
      ]
    },
    {
      "cell_type": "code",
      "execution_count": null,
      "metadata": {
        "colab": {
          "base_uri": "https://localhost:8080/"
        },
        "id": "G_vxQ8HZOM5U",
        "outputId": "4df6451f-1328-4b56-a913-98df9821ac3e"
      },
      "outputs": [
        {
          "name": "stdout",
          "output_type": "stream",
          "text": [
            "SUBJECT_ID             0\n",
            "HADM_ID                0\n",
            "ICUSTAY_ID_x        2955\n",
            "ITEMID                 0\n",
            "CHARTTIME              0\n",
            "VALUENUM               0\n",
            "SUSPECTED_SEPSIS       0\n",
            "VALUENUM_NORM          0\n",
            "ICUSTAY_ID_y        4661\n",
            "dtype: int64\n"
          ]
        }
      ],
      "source": [
        "print(sepsis_vitals.isnull().sum())  # Should show fewer missing ICU stay IDs"
      ]
    },
    {
      "cell_type": "markdown",
      "metadata": {
        "id": "QMyXSSuOPu2z"
      },
      "source": [
        "**Handle remaining null values:**\n",
        "\n",
        "1. After merging, some patients have ICU stays in either ICUSTAY_ID_x or ICUSTAY_ID_y.\n",
        "2. After merge remove all null\n",
        "3. and Drop ICUSTAY_ID_x and ICUSTAY_ID_x"
      ]
    },
    {
      "cell_type": "code",
      "execution_count": null,
      "metadata": {
        "id": "dT0xPjpaP5C1"
      },
      "outputs": [],
      "source": [
        "#After merging, some patients have ICU stays in either ICUSTAY_ID_x or ICUSTAY_ID_y. We should combine both columns:\n",
        "sepsis_vitals['ICUSTAY_ID'] = sepsis_vitals['ICUSTAY_ID_x'].combine_first(sepsis_vitals['ICUSTAY_ID_y'])\n",
        "sepsis_vitals = sepsis_vitals.drop(['ICUSTAY_ID_x', 'ICUSTAY_ID_y'], axis=1)\n",
        "sepsis_vitals = sepsis_vitals.dropna(subset=['ICUSTAY_ID'])"
      ]
    },
    {
      "cell_type": "markdown",
      "metadata": {
        "id": "G0ksOhx5Q72t"
      },
      "source": [
        "# Final check\n",
        "of sepsis_vitals data after handling missing values"
      ]
    },
    {
      "cell_type": "code",
      "execution_count": null,
      "metadata": {
        "colab": {
          "base_uri": "https://localhost:8080/"
        },
        "id": "D77Lkg-JRF_P",
        "outputId": "eb1f6fea-4f81-47b0-ed17-2d7a1afcf540"
      },
      "outputs": [
        {
          "name": "stdout",
          "output_type": "stream",
          "text": [
            "SUBJECT_ID          0\n",
            "HADM_ID             0\n",
            "ITEMID              0\n",
            "CHARTTIME           0\n",
            "VALUENUM            0\n",
            "SUSPECTED_SEPSIS    0\n",
            "VALUENUM_NORM       0\n",
            "ICUSTAY_ID          0\n",
            "dtype: int64\n"
          ]
        }
      ],
      "source": [
        "print(sepsis_vitals.isnull().sum())  # Should show fewer missing ICU stay IDs"
      ]
    },
    {
      "cell_type": "markdown",
      "metadata": {
        "id": "NL1SiZIjTScW"
      },
      "source": [
        "# PERFECT !!!\n",
        "\n",
        "Lets proceed for next step: Identify Key feature of sepsis prediction\n",
        "\n",
        "Before that lets save data to csv file for breakpoint."
      ]
    },
    {
      "cell_type": "code",
      "execution_count": null,
      "metadata": {
        "id": "18Z429MMTmU1"
      },
      "outputs": [],
      "source": [
        " sepsis_vitals.to_csv(\"sepsis_vitals.csv\", index=False)"
      ]
    },
    {
      "cell_type": "markdown",
      "metadata": {
        "id": "83j4xXPoRLaQ"
      },
      "source": [
        "# **Identify Key Features for Sepsis Prediction**\n",
        "\n",
        "If above is completed successfully then we can load file and run it in new runtime too.\n",
        "\n",
        "# Load sepsis_vitals.csv\n",
        "\n",
        "Let's engineer additional features like:\n",
        "\n",
        "* Trend-based features (rolling averages, deltas)\n",
        "* SOFA score calculations\n",
        "* Time-based features (hour of ICU stay, time since admission)\n",
        "\n",
        "# Pivot Data to Create a Feature Table\n",
        "\n",
        "Since each VALUENUM corresponds to different vital signs (ITEMID), we need to pivot the dataset to create a structured feature table.\n",
        "\n",
        "Benefit for this:\n",
        "* This transforms time-series data into a structured table format for ML models.\n",
        "* Instead of having multiple rows per patient, each row contains all vital signs at a given timestamp."
      ]
    },
    {
      "cell_type": "code",
      "execution_count": null,
      "metadata": {
        "id": "7dOEG3UEbDqE"
      },
      "outputs": [],
      "source": [
        "import pandas as pd\n",
        "import numpy as np\n",
        "import matplotlib.pyplot as plt\n",
        "import seaborn as sns\n",
        "import gc"
      ]
    },
    {
      "cell_type": "code",
      "execution_count": null,
      "metadata": {
        "id": "7YW0NiGaa5ve"
      },
      "outputs": [],
      "source": [
        "!cp /content/drive/MyDrive/MyDB/sepsis_vitals.csv ."
      ]
    },
    {
      "cell_type": "code",
      "execution_count": null,
      "metadata": {
        "colab": {
          "base_uri": "https://localhost:8080/",
          "height": 525
        },
        "id": "KTowOFCUYJVd",
        "outputId": "19d812bd-454d-47f0-f10c-c9ffe36f0390"
      },
      "outputs": [
        {
          "ename": "ParserError",
          "evalue": "Error tokenizing data. C error: Calling read(nbytes) on source failed. Try engine='python'.",
          "output_type": "error",
          "traceback": [
            "\u001b[0;31m---------------------------------------------------------------------------\u001b[0m",
            "\u001b[0;31mParserError\u001b[0m                               Traceback (most recent call last)",
            "\u001b[0;32m<ipython-input-4-17565304a4fe>\u001b[0m in \u001b[0;36m<cell line: 0>\u001b[0;34m()\u001b[0m\n\u001b[1;32m      1\u001b[0m \u001b[0;31m# Load sepsis_vitals.csv\u001b[0m\u001b[0;34m\u001b[0m\u001b[0;34m\u001b[0m\u001b[0m\n\u001b[0;32m----> 2\u001b[0;31m \u001b[0msepsis_vitals\u001b[0m \u001b[0;34m=\u001b[0m \u001b[0mpd\u001b[0m\u001b[0;34m.\u001b[0m\u001b[0mread_csv\u001b[0m\u001b[0;34m(\u001b[0m\u001b[0;34m\"sepsis_vitals.csv\"\u001b[0m\u001b[0;34m)\u001b[0m \u001b[0;31m# 1.6 GB file\u001b[0m\u001b[0;34m\u001b[0m\u001b[0;34m\u001b[0m\u001b[0m\n\u001b[0m",
            "\u001b[0;32m/usr/local/lib/python3.11/dist-packages/pandas/io/parsers/readers.py\u001b[0m in \u001b[0;36mread_csv\u001b[0;34m(filepath_or_buffer, sep, delimiter, header, names, index_col, usecols, dtype, engine, converters, true_values, false_values, skipinitialspace, skiprows, skipfooter, nrows, na_values, keep_default_na, na_filter, verbose, skip_blank_lines, parse_dates, infer_datetime_format, keep_date_col, date_parser, date_format, dayfirst, cache_dates, iterator, chunksize, compression, thousands, decimal, lineterminator, quotechar, quoting, doublequote, escapechar, comment, encoding, encoding_errors, dialect, on_bad_lines, delim_whitespace, low_memory, memory_map, float_precision, storage_options, dtype_backend)\u001b[0m\n\u001b[1;32m   1024\u001b[0m     \u001b[0mkwds\u001b[0m\u001b[0;34m.\u001b[0m\u001b[0mupdate\u001b[0m\u001b[0;34m(\u001b[0m\u001b[0mkwds_defaults\u001b[0m\u001b[0;34m)\u001b[0m\u001b[0;34m\u001b[0m\u001b[0;34m\u001b[0m\u001b[0m\n\u001b[1;32m   1025\u001b[0m \u001b[0;34m\u001b[0m\u001b[0m\n\u001b[0;32m-> 1026\u001b[0;31m     \u001b[0;32mreturn\u001b[0m \u001b[0m_read\u001b[0m\u001b[0;34m(\u001b[0m\u001b[0mfilepath_or_buffer\u001b[0m\u001b[0;34m,\u001b[0m \u001b[0mkwds\u001b[0m\u001b[0;34m)\u001b[0m\u001b[0;34m\u001b[0m\u001b[0;34m\u001b[0m\u001b[0m\n\u001b[0m\u001b[1;32m   1027\u001b[0m \u001b[0;34m\u001b[0m\u001b[0m\n\u001b[1;32m   1028\u001b[0m \u001b[0;34m\u001b[0m\u001b[0m\n",
            "\u001b[0;32m/usr/local/lib/python3.11/dist-packages/pandas/io/parsers/readers.py\u001b[0m in \u001b[0;36m_read\u001b[0;34m(filepath_or_buffer, kwds)\u001b[0m\n\u001b[1;32m    624\u001b[0m \u001b[0;34m\u001b[0m\u001b[0m\n\u001b[1;32m    625\u001b[0m     \u001b[0;32mwith\u001b[0m \u001b[0mparser\u001b[0m\u001b[0;34m:\u001b[0m\u001b[0;34m\u001b[0m\u001b[0;34m\u001b[0m\u001b[0m\n\u001b[0;32m--> 626\u001b[0;31m         \u001b[0;32mreturn\u001b[0m \u001b[0mparser\u001b[0m\u001b[0;34m.\u001b[0m\u001b[0mread\u001b[0m\u001b[0;34m(\u001b[0m\u001b[0mnrows\u001b[0m\u001b[0;34m)\u001b[0m\u001b[0;34m\u001b[0m\u001b[0;34m\u001b[0m\u001b[0m\n\u001b[0m\u001b[1;32m    627\u001b[0m \u001b[0;34m\u001b[0m\u001b[0m\n\u001b[1;32m    628\u001b[0m \u001b[0;34m\u001b[0m\u001b[0m\n",
            "\u001b[0;32m/usr/local/lib/python3.11/dist-packages/pandas/io/parsers/readers.py\u001b[0m in \u001b[0;36mread\u001b[0;34m(self, nrows)\u001b[0m\n\u001b[1;32m   1921\u001b[0m                     \u001b[0mcolumns\u001b[0m\u001b[0;34m,\u001b[0m\u001b[0;34m\u001b[0m\u001b[0;34m\u001b[0m\u001b[0m\n\u001b[1;32m   1922\u001b[0m                     \u001b[0mcol_dict\u001b[0m\u001b[0;34m,\u001b[0m\u001b[0;34m\u001b[0m\u001b[0;34m\u001b[0m\u001b[0m\n\u001b[0;32m-> 1923\u001b[0;31m                 \u001b[0;34m)\u001b[0m \u001b[0;34m=\u001b[0m \u001b[0mself\u001b[0m\u001b[0;34m.\u001b[0m\u001b[0m_engine\u001b[0m\u001b[0;34m.\u001b[0m\u001b[0mread\u001b[0m\u001b[0;34m(\u001b[0m  \u001b[0;31m# type: ignore[attr-defined]\u001b[0m\u001b[0;34m\u001b[0m\u001b[0;34m\u001b[0m\u001b[0m\n\u001b[0m\u001b[1;32m   1924\u001b[0m                     \u001b[0mnrows\u001b[0m\u001b[0;34m\u001b[0m\u001b[0;34m\u001b[0m\u001b[0m\n\u001b[1;32m   1925\u001b[0m                 )\n",
            "\u001b[0;32m/usr/local/lib/python3.11/dist-packages/pandas/io/parsers/c_parser_wrapper.py\u001b[0m in \u001b[0;36mread\u001b[0;34m(self, nrows)\u001b[0m\n\u001b[1;32m    232\u001b[0m         \u001b[0;32mtry\u001b[0m\u001b[0;34m:\u001b[0m\u001b[0;34m\u001b[0m\u001b[0;34m\u001b[0m\u001b[0m\n\u001b[1;32m    233\u001b[0m             \u001b[0;32mif\u001b[0m \u001b[0mself\u001b[0m\u001b[0;34m.\u001b[0m\u001b[0mlow_memory\u001b[0m\u001b[0;34m:\u001b[0m\u001b[0;34m\u001b[0m\u001b[0;34m\u001b[0m\u001b[0m\n\u001b[0;32m--> 234\u001b[0;31m                 \u001b[0mchunks\u001b[0m \u001b[0;34m=\u001b[0m \u001b[0mself\u001b[0m\u001b[0;34m.\u001b[0m\u001b[0m_reader\u001b[0m\u001b[0;34m.\u001b[0m\u001b[0mread_low_memory\u001b[0m\u001b[0;34m(\u001b[0m\u001b[0mnrows\u001b[0m\u001b[0;34m)\u001b[0m\u001b[0;34m\u001b[0m\u001b[0;34m\u001b[0m\u001b[0m\n\u001b[0m\u001b[1;32m    235\u001b[0m                 \u001b[0;31m# destructive to chunks\u001b[0m\u001b[0;34m\u001b[0m\u001b[0;34m\u001b[0m\u001b[0m\n\u001b[1;32m    236\u001b[0m                 \u001b[0mdata\u001b[0m \u001b[0;34m=\u001b[0m \u001b[0m_concatenate_chunks\u001b[0m\u001b[0;34m(\u001b[0m\u001b[0mchunks\u001b[0m\u001b[0;34m)\u001b[0m\u001b[0;34m\u001b[0m\u001b[0;34m\u001b[0m\u001b[0m\n",
            "\u001b[0;32mparsers.pyx\u001b[0m in \u001b[0;36mpandas._libs.parsers.TextReader.read_low_memory\u001b[0;34m()\u001b[0m\n",
            "\u001b[0;32mparsers.pyx\u001b[0m in \u001b[0;36mpandas._libs.parsers.TextReader._read_rows\u001b[0;34m()\u001b[0m\n",
            "\u001b[0;32mparsers.pyx\u001b[0m in \u001b[0;36mpandas._libs.parsers.TextReader._tokenize_rows\u001b[0;34m()\u001b[0m\n",
            "\u001b[0;32mparsers.pyx\u001b[0m in \u001b[0;36mpandas._libs.parsers.TextReader._check_tokenize_status\u001b[0;34m()\u001b[0m\n",
            "\u001b[0;32mparsers.pyx\u001b[0m in \u001b[0;36mpandas._libs.parsers.raise_parser_error\u001b[0;34m()\u001b[0m\n",
            "\u001b[0;31mParserError\u001b[0m: Error tokenizing data. C error: Calling read(nbytes) on source failed. Try engine='python'."
          ]
        }
      ],
      "source": [
        "# Load sepsis_vitals.csv\n",
        "sepsis_vitals = pd.read_csv(\"sepsis_vitals.csv\") # 1.6 GB file"
      ]
    },
    {
      "cell_type": "code",
      "execution_count": null,
      "metadata": {
        "id": "Cht-FNrdRUUN"
      },
      "outputs": [],
      "source": [
        "# Pivot vital sign values to create separate columns\n",
        "sepsis_pivot = sepsis_vitals.pivot_table(index=['SUBJECT_ID', 'ICUSTAY_ID', 'CHARTTIME'],\n",
        "                                         columns='ITEMID', values='VALUENUM').reset_index()\n",
        "\n",
        "# Rename columns to meaningful names\n",
        "sepsis_pivot.columns = ['SUBJECT_ID', 'ICUSTAY_ID', 'CHARTTIME'] + [f\"ITEM_{col}\" for col in sepsis_pivot.columns[3:]]\n",
        "\n",
        "# Merge back with sepsis labels\n",
        "sepsis_pivot = sepsis_pivot.merge(sepsis_vitals[['SUBJECT_ID', 'ICUSTAY_ID', 'CHARTTIME', 'SUSPECTED_SEPSIS']],\n",
        "                                  on=['SUBJECT_ID', 'ICUSTAY_ID', 'CHARTTIME'], how='left')"
      ]
    },
    {
      "cell_type": "code",
      "execution_count": null,
      "metadata": {
        "id": "BmKXXogLZY4t"
      },
      "outputs": [],
      "source": [
        "# Display the feature table\n",
        "sepsis_pivot.head(1)"
      ]
    },
    {
      "cell_type": "markdown",
      "metadata": {
        "id": "F3LX-JUmZgK8"
      },
      "source": [
        "# Create Time-Based Features\n",
        "\n",
        "1. Time Since ICU Admission"
      ]
    },
    {
      "cell_type": "code",
      "execution_count": null,
      "metadata": {
        "id": "A-aktMtHZpco"
      },
      "outputs": [],
      "source": [
        "# Convert CHARTTIME to datetime (if not already done)\n",
        "sepsis_pivot['CHARTTIME'] = pd.to_datetime(sepsis_pivot['CHARTTIME'])\n",
        "\n",
        "# Compute time difference in hours from the first recorded vital\n",
        "sepsis_pivot['HOURS_SINCE_ADMISSION'] = sepsis_pivot.groupby('ICUSTAY_ID')['CHARTTIME'].transform(lambda x: (x - x.min()).dt.total_seconds() / 3600)"
      ]
    },
    {
      "cell_type": "markdown",
      "metadata": {
        "id": "sB844HvqZsWJ"
      },
      "source": [
        "2. Trend-Based Features (Rolling Averages & Deltas)\n",
        "\n",
        "We create trend features using rolling windows:"
      ]
    },
    {
      "cell_type": "code",
      "execution_count": null,
      "metadata": {
        "id": "AmhME5vsZ2wP"
      },
      "outputs": [],
      "source": [
        "# Define rolling window size (e.g., last 4 hours)\n",
        "window_size = 4\n",
        "\n",
        "# Compute rolling averages & deltas for each vital sign\n",
        "for col in sepsis_pivot.columns:\n",
        "    if col.startswith(\"ITEM_\"):  # Only apply to vital signs\n",
        "        sepsis_pivot[f\"{col}_ROLL_MEAN\"] = sepsis_pivot.groupby('ICUSTAY_ID')[col].transform(lambda x: x.rolling(window_size, min_periods=1).mean())\n",
        "        sepsis_pivot[f\"{col}_DELTA\"] = sepsis_pivot.groupby('ICUSTAY_ID')[col].diff()"
      ]
    },
    {
      "cell_type": "code",
      "execution_count": null,
      "metadata": {
        "colab": {
          "base_uri": "https://localhost:8080/",
          "height": 99
        },
        "id": "bMkENaeLcio-",
        "outputId": "0d7e6f9f-b03e-41ae-8a2e-c9965acb3423"
      },
      "outputs": [
        {
          "data": {
            "application/vnd.google.colaboratory.intrinsic+json": {
              "type": "dataframe",
              "variable_name": "sepsis_pivot"
            },
            "text/html": [
              "\n",
              "  <div id=\"df-53e9aebf-98e3-470d-a8ff-3f1e33906e25\" class=\"colab-df-container\">\n",
              "    <div>\n",
              "<style scoped>\n",
              "    .dataframe tbody tr th:only-of-type {\n",
              "        vertical-align: middle;\n",
              "    }\n",
              "\n",
              "    .dataframe tbody tr th {\n",
              "        vertical-align: top;\n",
              "    }\n",
              "\n",
              "    .dataframe thead th {\n",
              "        text-align: right;\n",
              "    }\n",
              "</style>\n",
              "<table border=\"1\" class=\"dataframe\">\n",
              "  <thead>\n",
              "    <tr style=\"text-align: right;\">\n",
              "      <th></th>\n",
              "      <th>SUBJECT_ID</th>\n",
              "      <th>ICUSTAY_ID</th>\n",
              "      <th>CHARTTIME</th>\n",
              "      <th>ITEM_198</th>\n",
              "      <th>ITEM_211</th>\n",
              "      <th>ITEM_456</th>\n",
              "      <th>ITEM_618</th>\n",
              "      <th>ITEM_678</th>\n",
              "      <th>ITEM_220045</th>\n",
              "      <th>ITEM_220052</th>\n",
              "      <th>...</th>\n",
              "      <th>ITEM_220045_ROLL_MEAN</th>\n",
              "      <th>ITEM_220045_DELTA</th>\n",
              "      <th>ITEM_220052_ROLL_MEAN</th>\n",
              "      <th>ITEM_220052_DELTA</th>\n",
              "      <th>ITEM_220210_ROLL_MEAN</th>\n",
              "      <th>ITEM_220210_DELTA</th>\n",
              "      <th>ITEM_223762_ROLL_MEAN</th>\n",
              "      <th>ITEM_223762_DELTA</th>\n",
              "      <th>ITEM_226755_ROLL_MEAN</th>\n",
              "      <th>ITEM_226755_DELTA</th>\n",
              "    </tr>\n",
              "  </thead>\n",
              "  <tbody>\n",
              "  </tbody>\n",
              "</table>\n",
              "<p>0 rows × 35 columns</p>\n",
              "</div>\n",
              "    <div class=\"colab-df-buttons\">\n",
              "\n",
              "  <div class=\"colab-df-container\">\n",
              "    <button class=\"colab-df-convert\" onclick=\"convertToInteractive('df-53e9aebf-98e3-470d-a8ff-3f1e33906e25')\"\n",
              "            title=\"Convert this dataframe to an interactive table.\"\n",
              "            style=\"display:none;\">\n",
              "\n",
              "  <svg xmlns=\"http://www.w3.org/2000/svg\" height=\"24px\" viewBox=\"0 -960 960 960\">\n",
              "    <path d=\"M120-120v-720h720v720H120Zm60-500h600v-160H180v160Zm220 220h160v-160H400v160Zm0 220h160v-160H400v160ZM180-400h160v-160H180v160Zm440 0h160v-160H620v160ZM180-180h160v-160H180v160Zm440 0h160v-160H620v160Z\"/>\n",
              "  </svg>\n",
              "    </button>\n",
              "\n",
              "  <style>\n",
              "    .colab-df-container {\n",
              "      display:flex;\n",
              "      gap: 12px;\n",
              "    }\n",
              "\n",
              "    .colab-df-convert {\n",
              "      background-color: #E8F0FE;\n",
              "      border: none;\n",
              "      border-radius: 50%;\n",
              "      cursor: pointer;\n",
              "      display: none;\n",
              "      fill: #1967D2;\n",
              "      height: 32px;\n",
              "      padding: 0 0 0 0;\n",
              "      width: 32px;\n",
              "    }\n",
              "\n",
              "    .colab-df-convert:hover {\n",
              "      background-color: #E2EBFA;\n",
              "      box-shadow: 0px 1px 2px rgba(60, 64, 67, 0.3), 0px 1px 3px 1px rgba(60, 64, 67, 0.15);\n",
              "      fill: #174EA6;\n",
              "    }\n",
              "\n",
              "    .colab-df-buttons div {\n",
              "      margin-bottom: 4px;\n",
              "    }\n",
              "\n",
              "    [theme=dark] .colab-df-convert {\n",
              "      background-color: #3B4455;\n",
              "      fill: #D2E3FC;\n",
              "    }\n",
              "\n",
              "    [theme=dark] .colab-df-convert:hover {\n",
              "      background-color: #434B5C;\n",
              "      box-shadow: 0px 1px 3px 1px rgba(0, 0, 0, 0.15);\n",
              "      filter: drop-shadow(0px 1px 2px rgba(0, 0, 0, 0.3));\n",
              "      fill: #FFFFFF;\n",
              "    }\n",
              "  </style>\n",
              "\n",
              "    <script>\n",
              "      const buttonEl =\n",
              "        document.querySelector('#df-53e9aebf-98e3-470d-a8ff-3f1e33906e25 button.colab-df-convert');\n",
              "      buttonEl.style.display =\n",
              "        google.colab.kernel.accessAllowed ? 'block' : 'none';\n",
              "\n",
              "      async function convertToInteractive(key) {\n",
              "        const element = document.querySelector('#df-53e9aebf-98e3-470d-a8ff-3f1e33906e25');\n",
              "        const dataTable =\n",
              "          await google.colab.kernel.invokeFunction('convertToInteractive',\n",
              "                                                    [key], {});\n",
              "        if (!dataTable) return;\n",
              "\n",
              "        const docLinkHtml = 'Like what you see? Visit the ' +\n",
              "          '<a target=\"_blank\" href=https://colab.research.google.com/notebooks/data_table.ipynb>data table notebook</a>'\n",
              "          + ' to learn more about interactive tables.';\n",
              "        element.innerHTML = '';\n",
              "        dataTable['output_type'] = 'display_data';\n",
              "        await google.colab.output.renderOutput(dataTable, element);\n",
              "        const docLink = document.createElement('div');\n",
              "        docLink.innerHTML = docLinkHtml;\n",
              "        element.appendChild(docLink);\n",
              "      }\n",
              "    </script>\n",
              "  </div>\n",
              "\n",
              "\n",
              "    </div>\n",
              "  </div>\n"
            ],
            "text/plain": [
              "Empty DataFrame\n",
              "Columns: [SUBJECT_ID, ICUSTAY_ID, CHARTTIME, ITEM_198, ITEM_211, ITEM_456, ITEM_618, ITEM_678, ITEM_220045, ITEM_220052, ITEM_220210, ITEM_223762, ITEM_226755, SUSPECTED_SEPSIS, HOURS_SINCE_ADMISSION, ITEM_198_ROLL_MEAN, ITEM_198_DELTA, ITEM_211_ROLL_MEAN, ITEM_211_DELTA, ITEM_456_ROLL_MEAN, ITEM_456_DELTA, ITEM_618_ROLL_MEAN, ITEM_618_DELTA, ITEM_678_ROLL_MEAN, ITEM_678_DELTA, ITEM_220045_ROLL_MEAN, ITEM_220045_DELTA, ITEM_220052_ROLL_MEAN, ITEM_220052_DELTA, ITEM_220210_ROLL_MEAN, ITEM_220210_DELTA, ITEM_223762_ROLL_MEAN, ITEM_223762_DELTA, ITEM_226755_ROLL_MEAN, ITEM_226755_DELTA]\n",
              "Index: []\n",
              "\n",
              "[0 rows x 35 columns]"
            ]
          },
          "execution_count": 8,
          "metadata": {},
          "output_type": "execute_result"
        }
      ],
      "source": [
        "sepsis_pivot.head(0)"
      ]
    },
    {
      "cell_type": "markdown",
      "metadata": {
        "id": "uJXWp8gQZ1ig"
      },
      "source": [
        "3. Compute SOFA Score for Organ Dysfunction\n",
        "\n",
        "NOTE: *Defining calculate_sofa again if running in new runtime.*\n",
        "\n",
        "**Benefit of using SOFA score:**\n",
        "1. SOFA score is used in hospitals for sepsis diagnosis.\n",
        "2. Combining SOFA with ML models improves predictive accuracy.\n",
        "\n"
      ]
    },
    {
      "cell_type": "code",
      "execution_count": null,
      "metadata": {
        "id": "EDALYQpTaQbw"
      },
      "outputs": [],
      "source": [
        "# Define SOFA Score Criteria (Simplified)\n",
        "def calculate_sofa(map_val, gcs_val):\n",
        "    sofa_score = 0\n",
        "    if map_val < 70:  # Low Mean Arterial Pressure (MAP)\n",
        "        sofa_score += 1\n",
        "    if gcs_val < 13:  # Decreased Glasgow Coma Scale (GCS)\n",
        "        sofa_score += 1\n",
        "    return sofa_score\n",
        "\n",
        "# Compute SOFA Score for each row\n",
        "sepsis_pivot['SOFA_SCORE'] = sepsis_pivot.apply(lambda row: calculate_sofa(row.get('ITEM_220052', 100), row.get('ITEM_226755', 15)), axis=1)"
      ]
    },
    {
      "cell_type": "markdown",
      "metadata": {
        "id": "L1BZO0ZKd-qP"
      },
      "source": [
        "**Handle Missing Values:**\n",
        "\n",
        "Since some vitals may not be recorded for all patients, we fill missing values:\n",
        "\n",
        "1. Forward-fill ensures vitals remain continuous over time.\n",
        "2. Mean-filling prevents missing values from affecting ML models."
      ]
    },
    {
      "cell_type": "code",
      "execution_count": null,
      "metadata": {
        "id": "S1-OgswqeB15"
      },
      "outputs": [],
      "source": [
        "# Fill missing values using forward-fill within each patient stay\n",
        "sepsis_pivot = sepsis_pivot.groupby('ICUSTAY_ID').ffill().bfill()\n",
        "\n",
        "# If missing values remain, fill with dataset mean\n",
        "sepsis_pivot.fillna(sepsis_pivot.mean(), inplace=True)"
      ]
    },
    {
      "cell_type": "markdown",
      "metadata": {
        "id": "qI9O1s7-ePR_"
      },
      "source": [
        " **Normalize Features for ML Models**\n",
        "\n",
        "Since some features have very different scales, we use MinMax Scaling:\n",
        "\n",
        "Ensures all variables are in the same range [0,1], which helps ML models learn better."
      ]
    },
    {
      "cell_type": "code",
      "execution_count": null,
      "metadata": {
        "id": "zsHaAE9leYBv"
      },
      "outputs": [],
      "source": [
        "from sklearn.preprocessing import MinMaxScaler\n",
        "\n",
        "# Normalize all vital signs\n",
        "scaler = MinMaxScaler()\n",
        "vital_signs = [col for col in sepsis_pivot.columns if col.startswith(\"ITEM_\")]\n",
        "\n",
        "sepsis_pivot[vital_signs] = scaler.fit_transform(sepsis_pivot[vital_signs])"
      ]
    },
    {
      "cell_type": "markdown",
      "metadata": {
        "id": "bmuJYm6NeigP"
      },
      "source": [
        "Final Processed Data Overview\n",
        "\n",
        "Now, the dataset has:\n",
        "1. HOURS_SINCE_ADMISSION (time feature)\n",
        "2. ROLLING MEAN & DELTAS (trend-based features)\n",
        "3. SOFA_SCORE (organ dysfunction risk)\n",
        "4. SUSPECTED_SEPSIS (target variable for ML)"
      ]
    },
    {
      "cell_type": "code",
      "execution_count": null,
      "metadata": {
        "colab": {
          "base_uri": "https://localhost:8080/"
        },
        "id": "1gr3VqA2eoTO",
        "outputId": "b75c348d-b862-45c3-b5f9-ead5f00d0b3e"
      },
      "outputs": [
        {
          "name": "stdout",
          "output_type": "stream",
          "text": [
            "   SUBJECT_ID           CHARTTIME  ITEM_198  ITEM_211  ITEM_456  ITEM_618  \\\n",
            "0           2 2138-07-17 20:20:00       0.0  0.488449  0.147256  0.123077   \n",
            "1           2 2138-07-17 20:30:00       0.0  0.432343  0.147256  0.123077   \n",
            "2           2 2138-07-17 21:00:00       0.0  0.475248  0.147256  0.123077   \n",
            "3           2 2138-07-17 22:00:00       0.0  0.462046  0.147256  0.123077   \n",
            "4           3 2101-10-20 18:30:00       0.0  0.313531  0.147256  0.123077   \n",
            "\n",
            "   ITEM_678  ITEM_220045  ITEM_220052  ITEM_220210  ...  ITEM_220045_DELTA  \\\n",
            "0  0.888991     0.000016     0.001885     0.000006  ...           0.991472   \n",
            "1  0.888991     0.000016     0.001885     0.000006  ...           0.991472   \n",
            "2  0.888991     0.000016     0.001885     0.000006  ...           0.991472   \n",
            "3  0.888991     0.000016     0.001885     0.000006  ...           0.991472   \n",
            "4  0.888991     0.000016     0.001885     0.000006  ...           0.991472   \n",
            "\n",
            "   ITEM_220052_ROLL_MEAN  ITEM_220052_DELTA  ITEM_220210_ROLL_MEAN  \\\n",
            "0               0.001885           0.429348               0.000024   \n",
            "1               0.001885           0.429348               0.000024   \n",
            "2               0.001885           0.429348               0.000024   \n",
            "3               0.001885           0.429348               0.000024   \n",
            "4               0.001885           0.429348               0.000024   \n",
            "\n",
            "   ITEM_220210_DELTA  ITEM_223762_ROLL_MEAN  ITEM_223762_DELTA  \\\n",
            "0                0.5               0.101186           0.500148   \n",
            "1                0.5               0.101186           0.500148   \n",
            "2                0.5               0.101186           0.500148   \n",
            "3                0.5               0.101186           0.500148   \n",
            "4                0.5               0.101186           0.500148   \n",
            "\n",
            "   ITEM_226755_ROLL_MEAN  ITEM_226755_DELTA  SOFA_SCORE  \n",
            "0               0.538462                0.0           0  \n",
            "1               0.538462                0.0           0  \n",
            "2               0.538462                0.0           0  \n",
            "3               0.538462                0.0           0  \n",
            "4               0.538462                0.0           0  \n",
            "\n",
            "[5 rows x 35 columns]\n",
            "SUBJECT_ID                        int64\n",
            "CHARTTIME                datetime64[ns]\n",
            "ITEM_198                        float64\n",
            "ITEM_211                        float64\n",
            "ITEM_456                        float64\n",
            "ITEM_618                        float64\n",
            "ITEM_678                        float64\n",
            "ITEM_220045                     float64\n",
            "ITEM_220052                     float64\n",
            "ITEM_220210                     float64\n",
            "ITEM_223762                     float64\n",
            "ITEM_226755                     float64\n",
            "SUSPECTED_SEPSIS                  int64\n",
            "HOURS_SINCE_ADMISSION           float64\n",
            "ITEM_198_ROLL_MEAN              float64\n",
            "ITEM_198_DELTA                  float64\n",
            "ITEM_211_ROLL_MEAN              float64\n",
            "ITEM_211_DELTA                  float64\n",
            "ITEM_456_ROLL_MEAN              float64\n",
            "ITEM_456_DELTA                  float64\n",
            "ITEM_618_ROLL_MEAN              float64\n",
            "ITEM_618_DELTA                  float64\n",
            "ITEM_678_ROLL_MEAN              float64\n",
            "ITEM_678_DELTA                  float64\n",
            "ITEM_220045_ROLL_MEAN           float64\n",
            "ITEM_220045_DELTA               float64\n",
            "ITEM_220052_ROLL_MEAN           float64\n",
            "ITEM_220052_DELTA               float64\n",
            "ITEM_220210_ROLL_MEAN           float64\n",
            "ITEM_220210_DELTA               float64\n",
            "ITEM_223762_ROLL_MEAN           float64\n",
            "ITEM_223762_DELTA               float64\n",
            "ITEM_226755_ROLL_MEAN           float64\n",
            "ITEM_226755_DELTA               float64\n",
            "SOFA_SCORE                        int64\n",
            "dtype: object\n",
            "SUBJECT_ID               0\n",
            "CHARTTIME                0\n",
            "ITEM_198                 0\n",
            "ITEM_211                 0\n",
            "ITEM_456                 0\n",
            "ITEM_618                 0\n",
            "ITEM_678                 0\n",
            "ITEM_220045              0\n",
            "ITEM_220052              0\n",
            "ITEM_220210              0\n",
            "ITEM_223762              0\n",
            "ITEM_226755              0\n",
            "SUSPECTED_SEPSIS         0\n",
            "HOURS_SINCE_ADMISSION    0\n",
            "ITEM_198_ROLL_MEAN       0\n",
            "ITEM_198_DELTA           0\n",
            "ITEM_211_ROLL_MEAN       0\n",
            "ITEM_211_DELTA           0\n",
            "ITEM_456_ROLL_MEAN       0\n",
            "ITEM_456_DELTA           0\n",
            "ITEM_618_ROLL_MEAN       0\n",
            "ITEM_618_DELTA           0\n",
            "ITEM_678_ROLL_MEAN       0\n",
            "ITEM_678_DELTA           0\n",
            "ITEM_220045_ROLL_MEAN    0\n",
            "ITEM_220045_DELTA        0\n",
            "ITEM_220052_ROLL_MEAN    0\n",
            "ITEM_220052_DELTA        0\n",
            "ITEM_220210_ROLL_MEAN    0\n",
            "ITEM_220210_DELTA        0\n",
            "ITEM_223762_ROLL_MEAN    0\n",
            "ITEM_223762_DELTA        0\n",
            "ITEM_226755_ROLL_MEAN    0\n",
            "ITEM_226755_DELTA        0\n",
            "SOFA_SCORE               0\n",
            "dtype: int64\n"
          ]
        }
      ],
      "source": [
        "print(sepsis_pivot.head())\n",
        "print(sepsis_pivot.dtypes)\n",
        "print(sepsis_pivot.isnull().sum())  # Should show 0 missing values!"
      ]
    },
    {
      "cell_type": "code",
      "execution_count": null,
      "metadata": {
        "id": "cXiktGR3gDuJ"
      },
      "outputs": [],
      "source": [
        "#save sepsis_pivot\n",
        "sepsis_pivot.to_csv(\"sepsis_pivot.csv\", index=False)"
      ]
    },
    {
      "cell_type": "code",
      "execution_count": null,
      "metadata": {
        "id": "xiLGvcgGVu7h"
      },
      "outputs": [],
      "source": [
        "!cp /content/drive/MyDrive/MyDB/sepsis_pivot.csv ."
      ]
    },
    {
      "cell_type": "markdown",
      "metadata": {
        "id": "mnoiaHNVe0eB"
      },
      "source": [
        "# PERFECT!!!\n",
        "\n",
        "**Next Step:** Train a Sepsis Prediction Model, We have following options for training data:\n",
        "\n",
        "1. Train a Machine Learning Model (Logistic Regression, XGBoost, etc.)\n",
        "2. Or Train a Deep Learning Model (LSTMs for real-time sepsis prediction)\n",
        "\n",
        "Lets start train a machine learning model XGBOOST"
      ]
    },
    {
      "cell_type": "markdown",
      "metadata": {
        "id": "_FRzU2yXgglt"
      },
      "source": [
        "# Prepare the Dataset for ML (Reload previous saved file sepsis_pivot.csv)\n",
        "\n",
        "Steps to follow:\n",
        "* Separate features (X) and target variable (y).\n",
        "* Split data into training & test sets.\n",
        "* **Handle** class imbalance (if needed)."
      ]
    },
    {
      "cell_type": "code",
      "execution_count": 3,
      "metadata": {
        "id": "piLJH9dFgTwm"
      },
      "outputs": [],
      "source": [
        "# Import libraries for model training\n",
        "import pandas as pd\n",
        "import numpy as np\n",
        "from sklearn.model_selection import train_test_split\n",
        "from sklearn.preprocessing import StandardScaler"
      ]
    },
    {
      "cell_type": "code",
      "execution_count": 4,
      "metadata": {
        "id": "tuILBZQuevkD"
      },
      "outputs": [],
      "source": [
        "# Load the processed data (if not already in memory)\n",
        "#sepsis_data = sepsis_pivot.copy()  # Assuming 'sepsis_pivot' is our processed dataset\n",
        "# read sepsis_pivot.csv\n",
        "sepsis_data = pd.read_csv(\"sepsis_pivot.csv\")\n",
        "\n",
        "# Define target variable (SUSPECTED_SEPSIS)\n",
        "y = sepsis_data['SUSPECTED_SEPSIS']\n",
        "\n",
        "# Define feature columns (exclude ID columns and CHARTTIME)\n",
        "feature_cols = [col for col in sepsis_data.columns if col not in ['SUBJECT_ID', 'ICUSTAY_ID', 'CHARTTIME', 'SUSPECTED_SEPSIS']]\n",
        "\n",
        "# Define input features (X)\n",
        "X = sepsis_data[feature_cols]\n",
        "\n",
        "# Standardize features (important for tree-based models like XGBoost)\n",
        "scaler = StandardScaler()\n",
        "X_scaled = scaler.fit_transform(X)"
      ]
    },
    {
      "cell_type": "markdown",
      "metadata": {
        "id": "3a-bTfZjigVf"
      },
      "source": [
        "# Split Data into Training & Testing Sets"
      ]
    },
    {
      "cell_type": "code",
      "execution_count": 5,
      "metadata": {
        "colab": {
          "base_uri": "https://localhost:8080/"
        },
        "id": "UlR7H9pWii6x",
        "outputId": "5df10c10-6b16-4723-ba8a-6d56da21bd7f"
      },
      "outputs": [
        {
          "output_type": "stream",
          "name": "stdout",
          "text": [
            "Training Set: (8826590, 32), Test Set: (2206648, 32)\n"
          ]
        }
      ],
      "source": [
        "# Split into training (80%) and testing (20%)\n",
        "X_train, X_test, y_train, y_test = train_test_split(X_scaled, y, test_size=0.2, random_state=42, stratify=y)\n",
        "\n",
        "# Print dataset shapes\n",
        "print(f\"Training Set: {X_train.shape}, Test Set: {X_test.shape}\")"
      ]
    },
    {
      "cell_type": "markdown",
      "metadata": {
        "id": "Q85BJ2lBir6x"
      },
      "source": [
        "# Train a Random Forest Model\n",
        "\n",
        "**Why Random Forest?**\n",
        "1. Handles non-linearity in vitals & trends.\n",
        "2. Reduces overfitting compared to single decision trees.\n",
        "3. Class_weight=“balanced” ensures fair training on imbalanced data."
      ]
    },
    {
      "cell_type": "code",
      "execution_count": null,
      "metadata": {
        "colab": {
          "background_save": true
        },
        "id": "qGniyP-bixsL",
        "outputId": "74740e0c-b1e0-48d7-94dc-427291f75355"
      },
      "outputs": [
        {
          "name": "stdout",
          "output_type": "stream",
          "text": [
            "Random Forest Model Performance:\n",
            "              precision    recall  f1-score   support\n",
            "\n",
            "           0       1.00      0.96      0.98   2174069\n",
            "           1       0.24      0.92      0.38     32579\n",
            "\n",
            "    accuracy                           0.95   2206648\n",
            "   macro avg       0.62      0.94      0.68   2206648\n",
            "weighted avg       0.99      0.95      0.97   2206648\n",
            "\n",
            "ROC-AUC Score: 0.9394\n"
          ]
        }
      ],
      "source": [
        "from sklearn.ensemble import RandomForestClassifier\n",
        "from sklearn.metrics import classification_report, roc_auc_score\n",
        "\n",
        "# Initialize Random Forest\n",
        "rf_model = RandomForestClassifier(n_estimators=100, max_depth=10, random_state=42, class_weight=\"balanced\")\n",
        "\n",
        "# Train the model\n",
        "rf_model.fit(X_train, y_train)\n",
        "\n",
        "# Predict on test set\n",
        "y_pred_rf = rf_model.predict(X_test)\n",
        "\n",
        "# Evaluate model\n",
        "print(\"Random Forest Model Performance:\")\n",
        "print(classification_report(y_test, y_pred_rf))\n",
        "print(f\"ROC-AUC Score: {roc_auc_score(y_test, y_pred_rf):.4f}\")"
      ]
    },
    {
      "cell_type": "markdown",
      "metadata": {
        "id": "0wkBitBZjhhA"
      },
      "source": [
        "# Train an XGBoost Model\n",
        "\n",
        "**Why XGBoost?**\n",
        "\n",
        "1. Boosted decision trees handle complex interactions in vitals over time.\n",
        "2. scale_pos_weight=5 adjusts for class imbalance (increase if sepsis cases are rare).\n",
        "3. Highly effective for structured medical data."
      ]
    },
    {
      "cell_type": "code",
      "execution_count": 7,
      "metadata": {
        "colab": {
          "base_uri": "https://localhost:8080/"
        },
        "id": "KM9amhacjxe1",
        "outputId": "00bac42a-6cdd-42f7-f198-174338170e1c"
      },
      "outputs": [
        {
          "output_type": "stream",
          "name": "stdout",
          "text": [
            "XGBoost Model Performance:\n",
            "              precision    recall  f1-score   support\n",
            "\n",
            "           0       0.99      1.00      1.00   2174069\n",
            "           1       0.73      0.63      0.68     32579\n",
            "\n",
            "    accuracy                           0.99   2206648\n",
            "   macro avg       0.86      0.81      0.84   2206648\n",
            "weighted avg       0.99      0.99      0.99   2206648\n",
            "\n",
            "ROC-AUC Score: 0.8132\n"
          ]
        }
      ],
      "source": [
        "from xgboost import XGBClassifier\n",
        "from sklearn.metrics import classification_report, roc_auc_score\n",
        "\n",
        "# Initialize XGBoost model\n",
        "xgb_model = XGBClassifier(n_estimators=200, max_depth=6, learning_rate=0.05, scale_pos_weight=5, random_state=42)\n",
        "\n",
        "# Train the model\n",
        "xgb_model.fit(X_train, y_train)\n",
        "\n",
        "# Predict on test set\n",
        "y_pred_xgb = xgb_model.predict(X_test)\n",
        "\n",
        "# Evaluate model\n",
        "print(\"XGBoost Model Performance:\")\n",
        "print(classification_report(y_test, y_pred_xgb))\n",
        "print(f\"ROC-AUC Score: {roc_auc_score(y_test, y_pred_xgb):.4f}\")"
      ]
    },
    {
      "cell_type": "markdown",
      "metadata": {
        "id": "UhuZ0Vx6mUHU"
      },
      "source": [
        "Compare Model Performance\n"
      ]
    },
    {
      "cell_type": "code",
      "execution_count": null,
      "metadata": {
        "colab": {
          "background_save": true
        },
        "id": "9EWOGnLYmPrr",
        "outputId": "ccaf81e6-b37d-4760-aafd-151884755106"
      },
      "outputs": [
        {
          "name": "stdout",
          "output_type": "stream",
          "text": [
            "\n",
            "📊 Model Comparison:\n",
            "\n",
            "           Model  Accuracy  Precision    Recall  F1-Score\n",
            "0  Random Forest  0.954706   0.235901  0.923540  0.375809\n",
            "1        XGBoost  0.991134   0.732187  0.629884  0.677194\n"
          ]
        }
      ],
      "source": [
        "from sklearn.metrics import accuracy_score, precision_score, recall_score, f1_score\n",
        "\n",
        "# Function to compare models\n",
        "def compare_models(y_test, y_pred_rf, y_pred_xgb):\n",
        "    metrics = {\n",
        "        \"Model\": [\"Random Forest\", \"XGBoost\"],\n",
        "        \"Accuracy\": [accuracy_score(y_test, y_pred_rf), accuracy_score(y_test, y_pred_xgb)],\n",
        "        \"Precision\": [precision_score(y_test, y_pred_rf), precision_score(y_test, y_pred_xgb)],\n",
        "        \"Recall\": [recall_score(y_test, y_pred_rf), recall_score(y_test, y_pred_xgb)],\n",
        "        \"F1-Score\": [f1_score(y_test, y_pred_rf), f1_score(y_test, y_pred_xgb)]\n",
        "    }\n",
        "\n",
        "    df_metrics = pd.DataFrame(metrics)\n",
        "    print(\"\\n Model Comparison:\\n\")\n",
        "    print(df_metrics)\n",
        "\n",
        "compare_models(y_test, y_pred_rf, y_pred_xgb)"
      ]
    },
    {
      "cell_type": "markdown",
      "metadata": {
        "id": "jqD6uMWZmTEM"
      },
      "source": [
        "1. Random Forest: Too Many False Positives\n",
        "* Recall (98.2%) is too high → The model is detecting almost every sepsis case, but it’s misclassifying many non-sepsis patients as sepsis (causing low precision = 6.4%).\n",
        "* Issue: Too many false alarms, making it impractical for clinical use.\n",
        "\n",
        "2. XGBoost: More Balanced Performance\n",
        "* Accuracy (99.4%) is excellent, meaning it correctly classifies most cases.\n",
        "* Precision (68.4%) is much better than Random Forest, meaning fewer false alarms.\n",
        "* Recall (52.9%) is lower, meaning it may miss some sepsis cases.\n",
        "\n",
        "=> XGBoost is the better model overall, but we need to improve recall to catch more sepsis cases."
      ]
    },
    {
      "cell_type": "markdown",
      "metadata": {
        "id": "SftmK7dkPPAS"
      },
      "source": [
        "# Improve XGBoost for Better Recall\n",
        "Since XGBoost is better model overall, lets improve recall while keeping good precision.\n",
        "1. Adjust scale_pos_weight to Handle Class Imbalance\n",
        "\n",
        "scale_pos_weight=10 tells XGBoost to give 10x more importance to sepsis cases, improving recall.\n",
        "\n",
        "Currently, sepsis cases are rarer than non-sepsis cases. We need to increase XGBoost’s sensitivity to sepsis cases:"
      ]
    },
    {
      "cell_type": "code",
      "execution_count": 8,
      "metadata": {
        "colab": {
          "base_uri": "https://localhost:8080/"
        },
        "id": "gPyb7iyOPmBI",
        "outputId": "a2407feb-2346-4e78-fd53-dbe34ad0e630"
      },
      "outputs": [
        {
          "output_type": "stream",
          "name": "stdout",
          "text": [
            "🚀 Improved XGBoost Model Performance:\n",
            "              precision    recall  f1-score   support\n",
            "\n",
            "           0       1.00      0.99      0.99   2174069\n",
            "           1       0.60      0.77      0.67     32579\n",
            "\n",
            "    accuracy                           0.99   2206648\n",
            "   macro avg       0.80      0.88      0.83   2206648\n",
            "weighted avg       0.99      0.99      0.99   2206648\n",
            "\n",
            "ROC-AUC Score: 0.8815\n"
          ]
        }
      ],
      "source": [
        "# Retrain XGBoost with higher scale_pos_weight (increase sensitivity to sepsis cases)\n",
        "xgb_model = XGBClassifier(n_estimators=300, max_depth=7, learning_rate=0.03,\n",
        "                          scale_pos_weight=10, random_state=42)\n",
        "\n",
        "xgb_model.fit(X_train, y_train)\n",
        "y_pred_xgb = xgb_model.predict(X_test)\n",
        "\n",
        "# Evaluate new model\n",
        "print(\"🚀 Improved XGBoost Model Performance:\")\n",
        "print(classification_report(y_test, y_pred_xgb))\n",
        "print(f\"ROC-AUC Score: {roc_auc_score(y_test, y_pred_xgb):.4f}\")"
      ]
    },
    {
      "cell_type": "markdown",
      "metadata": {
        "id": "AsY3r5ysPtcZ"
      },
      "source": [
        "2. Fine-Tune Hyperparameters (GridSearchCV)\n",
        "\n",
        "We can also use GridSearchCV to automatically find the best parameters:\n",
        "\n",
        "**Note:** *Finds best values for n_estimators, max_depth, learning_rate, and scale_pos_weight automatically.*"
      ]
    },
    {
      "cell_type": "code",
      "execution_count": 17,
      "metadata": {
        "id": "oAgOW1R7P1pp",
        "colab": {
          "base_uri": "https://localhost:8080/",
          "height": 454
        },
        "outputId": "66d2196c-bec3-466d-f5a8-b2b9602332f6"
      },
      "outputs": [
        {
          "output_type": "stream",
          "name": "stdout",
          "text": [
            "Fitting 3 folds for each of 81 candidates, totalling 243 fits\n"
          ]
        },
        {
          "output_type": "error",
          "ename": "KeyboardInterrupt",
          "evalue": "",
          "traceback": [
            "\u001b[0;31m---------------------------------------------------------------------------\u001b[0m",
            "\u001b[0;31mKeyboardInterrupt\u001b[0m                         Traceback (most recent call last)",
            "\u001b[0;32m/usr/local/lib/python3.11/dist-packages/joblib/parallel.py\u001b[0m in \u001b[0;36m_get_outputs\u001b[0;34m(self, iterator, pre_dispatch)\u001b[0m\n\u001b[1;32m   1649\u001b[0m             \u001b[0;32mwith\u001b[0m \u001b[0mself\u001b[0m\u001b[0;34m.\u001b[0m\u001b[0m_backend\u001b[0m\u001b[0;34m.\u001b[0m\u001b[0mretrieval_context\u001b[0m\u001b[0;34m(\u001b[0m\u001b[0;34m)\u001b[0m\u001b[0;34m:\u001b[0m\u001b[0;34m\u001b[0m\u001b[0;34m\u001b[0m\u001b[0m\n\u001b[0;32m-> 1650\u001b[0;31m                 \u001b[0;32myield\u001b[0m \u001b[0;32mfrom\u001b[0m \u001b[0mself\u001b[0m\u001b[0;34m.\u001b[0m\u001b[0m_retrieve\u001b[0m\u001b[0;34m(\u001b[0m\u001b[0;34m)\u001b[0m\u001b[0;34m\u001b[0m\u001b[0;34m\u001b[0m\u001b[0m\n\u001b[0m\u001b[1;32m   1651\u001b[0m \u001b[0;34m\u001b[0m\u001b[0m\n",
            "\u001b[0;32m/usr/local/lib/python3.11/dist-packages/joblib/parallel.py\u001b[0m in \u001b[0;36m_retrieve\u001b[0;34m(self)\u001b[0m\n\u001b[1;32m   1761\u001b[0m                     timeout=self.timeout) == TASK_PENDING)):\n\u001b[0;32m-> 1762\u001b[0;31m                 \u001b[0mtime\u001b[0m\u001b[0;34m.\u001b[0m\u001b[0msleep\u001b[0m\u001b[0;34m(\u001b[0m\u001b[0;36m0.01\u001b[0m\u001b[0;34m)\u001b[0m\u001b[0;34m\u001b[0m\u001b[0;34m\u001b[0m\u001b[0m\n\u001b[0m\u001b[1;32m   1763\u001b[0m                 \u001b[0;32mcontinue\u001b[0m\u001b[0;34m\u001b[0m\u001b[0;34m\u001b[0m\u001b[0m\n",
            "\u001b[0;31mKeyboardInterrupt\u001b[0m: ",
            "\nDuring handling of the above exception, another exception occurred:\n",
            "\u001b[0;31mKeyboardInterrupt\u001b[0m                         Traceback (most recent call last)",
            "\u001b[0;32m<ipython-input-17-441c12612b2f>\u001b[0m in \u001b[0;36m<cell line: 0>\u001b[0;34m()\u001b[0m\n\u001b[1;32m     11\u001b[0m \u001b[0;31m# Run GridSearchCV\u001b[0m\u001b[0;34m\u001b[0m\u001b[0;34m\u001b[0m\u001b[0m\n\u001b[1;32m     12\u001b[0m \u001b[0mgrid_search\u001b[0m \u001b[0;34m=\u001b[0m \u001b[0mGridSearchCV\u001b[0m\u001b[0;34m(\u001b[0m\u001b[0mXGBClassifier\u001b[0m\u001b[0;34m(\u001b[0m\u001b[0mrandom_state\u001b[0m\u001b[0;34m=\u001b[0m\u001b[0;36m42\u001b[0m\u001b[0;34m)\u001b[0m\u001b[0;34m,\u001b[0m \u001b[0mparam_grid\u001b[0m\u001b[0;34m,\u001b[0m \u001b[0mscoring\u001b[0m\u001b[0;34m=\u001b[0m\u001b[0;34m'recall'\u001b[0m\u001b[0;34m,\u001b[0m \u001b[0mcv\u001b[0m\u001b[0;34m=\u001b[0m\u001b[0;36m3\u001b[0m\u001b[0;34m,\u001b[0m \u001b[0mverbose\u001b[0m\u001b[0;34m=\u001b[0m\u001b[0;36m1\u001b[0m\u001b[0;34m,\u001b[0m \u001b[0mn_jobs\u001b[0m\u001b[0;34m=\u001b[0m\u001b[0;34m-\u001b[0m\u001b[0;36m1\u001b[0m\u001b[0;34m)\u001b[0m\u001b[0;34m\u001b[0m\u001b[0;34m\u001b[0m\u001b[0m\n\u001b[0;32m---> 13\u001b[0;31m \u001b[0mgrid_search\u001b[0m\u001b[0;34m.\u001b[0m\u001b[0mfit\u001b[0m\u001b[0;34m(\u001b[0m\u001b[0mX_train\u001b[0m\u001b[0;34m,\u001b[0m \u001b[0my_train\u001b[0m\u001b[0;34m)\u001b[0m\u001b[0;34m\u001b[0m\u001b[0;34m\u001b[0m\u001b[0m\n\u001b[0m\u001b[1;32m     14\u001b[0m \u001b[0;34m\u001b[0m\u001b[0m\n\u001b[1;32m     15\u001b[0m \u001b[0;31m# Get best parameters\u001b[0m\u001b[0;34m\u001b[0m\u001b[0;34m\u001b[0m\u001b[0m\n",
            "\u001b[0;32m/usr/local/lib/python3.11/dist-packages/sklearn/base.py\u001b[0m in \u001b[0;36mwrapper\u001b[0;34m(estimator, *args, **kwargs)\u001b[0m\n\u001b[1;32m   1387\u001b[0m                 )\n\u001b[1;32m   1388\u001b[0m             ):\n\u001b[0;32m-> 1389\u001b[0;31m                 \u001b[0;32mreturn\u001b[0m \u001b[0mfit_method\u001b[0m\u001b[0;34m(\u001b[0m\u001b[0mestimator\u001b[0m\u001b[0;34m,\u001b[0m \u001b[0;34m*\u001b[0m\u001b[0margs\u001b[0m\u001b[0;34m,\u001b[0m \u001b[0;34m**\u001b[0m\u001b[0mkwargs\u001b[0m\u001b[0;34m)\u001b[0m\u001b[0;34m\u001b[0m\u001b[0;34m\u001b[0m\u001b[0m\n\u001b[0m\u001b[1;32m   1390\u001b[0m \u001b[0;34m\u001b[0m\u001b[0m\n\u001b[1;32m   1391\u001b[0m         \u001b[0;32mreturn\u001b[0m \u001b[0mwrapper\u001b[0m\u001b[0;34m\u001b[0m\u001b[0;34m\u001b[0m\u001b[0m\n",
            "\u001b[0;32m/usr/local/lib/python3.11/dist-packages/sklearn/model_selection/_search.py\u001b[0m in \u001b[0;36mfit\u001b[0;34m(self, X, y, **params)\u001b[0m\n\u001b[1;32m   1022\u001b[0m                 \u001b[0;32mreturn\u001b[0m \u001b[0mresults\u001b[0m\u001b[0;34m\u001b[0m\u001b[0;34m\u001b[0m\u001b[0m\n\u001b[1;32m   1023\u001b[0m \u001b[0;34m\u001b[0m\u001b[0m\n\u001b[0;32m-> 1024\u001b[0;31m             \u001b[0mself\u001b[0m\u001b[0;34m.\u001b[0m\u001b[0m_run_search\u001b[0m\u001b[0;34m(\u001b[0m\u001b[0mevaluate_candidates\u001b[0m\u001b[0;34m)\u001b[0m\u001b[0;34m\u001b[0m\u001b[0;34m\u001b[0m\u001b[0m\n\u001b[0m\u001b[1;32m   1025\u001b[0m \u001b[0;34m\u001b[0m\u001b[0m\n\u001b[1;32m   1026\u001b[0m             \u001b[0;31m# multimetric is determined here because in the case of a callable\u001b[0m\u001b[0;34m\u001b[0m\u001b[0;34m\u001b[0m\u001b[0m\n",
            "\u001b[0;32m/usr/local/lib/python3.11/dist-packages/sklearn/model_selection/_search.py\u001b[0m in \u001b[0;36m_run_search\u001b[0;34m(self, evaluate_candidates)\u001b[0m\n\u001b[1;32m   1569\u001b[0m     \u001b[0;32mdef\u001b[0m \u001b[0m_run_search\u001b[0m\u001b[0;34m(\u001b[0m\u001b[0mself\u001b[0m\u001b[0;34m,\u001b[0m \u001b[0mevaluate_candidates\u001b[0m\u001b[0;34m)\u001b[0m\u001b[0;34m:\u001b[0m\u001b[0;34m\u001b[0m\u001b[0;34m\u001b[0m\u001b[0m\n\u001b[1;32m   1570\u001b[0m         \u001b[0;34m\"\"\"Search all candidates in param_grid\"\"\"\u001b[0m\u001b[0;34m\u001b[0m\u001b[0;34m\u001b[0m\u001b[0m\n\u001b[0;32m-> 1571\u001b[0;31m         \u001b[0mevaluate_candidates\u001b[0m\u001b[0;34m(\u001b[0m\u001b[0mParameterGrid\u001b[0m\u001b[0;34m(\u001b[0m\u001b[0mself\u001b[0m\u001b[0;34m.\u001b[0m\u001b[0mparam_grid\u001b[0m\u001b[0;34m)\u001b[0m\u001b[0;34m)\u001b[0m\u001b[0;34m\u001b[0m\u001b[0;34m\u001b[0m\u001b[0m\n\u001b[0m\u001b[1;32m   1572\u001b[0m \u001b[0;34m\u001b[0m\u001b[0m\n\u001b[1;32m   1573\u001b[0m \u001b[0;34m\u001b[0m\u001b[0m\n",
            "\u001b[0;32m/usr/local/lib/python3.11/dist-packages/sklearn/model_selection/_search.py\u001b[0m in \u001b[0;36mevaluate_candidates\u001b[0;34m(candidate_params, cv, more_results)\u001b[0m\n\u001b[1;32m    968\u001b[0m                     )\n\u001b[1;32m    969\u001b[0m \u001b[0;34m\u001b[0m\u001b[0m\n\u001b[0;32m--> 970\u001b[0;31m                 out = parallel(\n\u001b[0m\u001b[1;32m    971\u001b[0m                     delayed(_fit_and_score)(\n\u001b[1;32m    972\u001b[0m                         \u001b[0mclone\u001b[0m\u001b[0;34m(\u001b[0m\u001b[0mbase_estimator\u001b[0m\u001b[0;34m)\u001b[0m\u001b[0;34m,\u001b[0m\u001b[0;34m\u001b[0m\u001b[0;34m\u001b[0m\u001b[0m\n",
            "\u001b[0;32m/usr/local/lib/python3.11/dist-packages/sklearn/utils/parallel.py\u001b[0m in \u001b[0;36m__call__\u001b[0;34m(self, iterable)\u001b[0m\n\u001b[1;32m     75\u001b[0m             \u001b[0;32mfor\u001b[0m \u001b[0mdelayed_func\u001b[0m\u001b[0;34m,\u001b[0m \u001b[0margs\u001b[0m\u001b[0;34m,\u001b[0m \u001b[0mkwargs\u001b[0m \u001b[0;32min\u001b[0m \u001b[0miterable\u001b[0m\u001b[0;34m\u001b[0m\u001b[0;34m\u001b[0m\u001b[0m\n\u001b[1;32m     76\u001b[0m         )\n\u001b[0;32m---> 77\u001b[0;31m         \u001b[0;32mreturn\u001b[0m \u001b[0msuper\u001b[0m\u001b[0;34m(\u001b[0m\u001b[0;34m)\u001b[0m\u001b[0;34m.\u001b[0m\u001b[0m__call__\u001b[0m\u001b[0;34m(\u001b[0m\u001b[0miterable_with_config\u001b[0m\u001b[0;34m)\u001b[0m\u001b[0;34m\u001b[0m\u001b[0;34m\u001b[0m\u001b[0m\n\u001b[0m\u001b[1;32m     78\u001b[0m \u001b[0;34m\u001b[0m\u001b[0m\n\u001b[1;32m     79\u001b[0m \u001b[0;34m\u001b[0m\u001b[0m\n",
            "\u001b[0;32m/usr/local/lib/python3.11/dist-packages/joblib/parallel.py\u001b[0m in \u001b[0;36m__call__\u001b[0;34m(self, iterable)\u001b[0m\n\u001b[1;32m   2005\u001b[0m         \u001b[0mnext\u001b[0m\u001b[0;34m(\u001b[0m\u001b[0moutput\u001b[0m\u001b[0;34m)\u001b[0m\u001b[0;34m\u001b[0m\u001b[0;34m\u001b[0m\u001b[0m\n\u001b[1;32m   2006\u001b[0m \u001b[0;34m\u001b[0m\u001b[0m\n\u001b[0;32m-> 2007\u001b[0;31m         \u001b[0;32mreturn\u001b[0m \u001b[0moutput\u001b[0m \u001b[0;32mif\u001b[0m \u001b[0mself\u001b[0m\u001b[0;34m.\u001b[0m\u001b[0mreturn_generator\u001b[0m \u001b[0;32melse\u001b[0m \u001b[0mlist\u001b[0m\u001b[0;34m(\u001b[0m\u001b[0moutput\u001b[0m\u001b[0;34m)\u001b[0m\u001b[0;34m\u001b[0m\u001b[0;34m\u001b[0m\u001b[0m\n\u001b[0m\u001b[1;32m   2008\u001b[0m \u001b[0;34m\u001b[0m\u001b[0m\n\u001b[1;32m   2009\u001b[0m     \u001b[0;32mdef\u001b[0m \u001b[0m__repr__\u001b[0m\u001b[0;34m(\u001b[0m\u001b[0mself\u001b[0m\u001b[0;34m)\u001b[0m\u001b[0;34m:\u001b[0m\u001b[0;34m\u001b[0m\u001b[0;34m\u001b[0m\u001b[0m\n",
            "\u001b[0;32m/usr/local/lib/python3.11/dist-packages/joblib/parallel.py\u001b[0m in \u001b[0;36m_get_outputs\u001b[0;34m(self, iterator, pre_dispatch)\u001b[0m\n\u001b[1;32m   1701\u001b[0m         \u001b[0;32mexcept\u001b[0m \u001b[0mBaseException\u001b[0m\u001b[0;34m:\u001b[0m\u001b[0;34m\u001b[0m\u001b[0;34m\u001b[0m\u001b[0m\n\u001b[1;32m   1702\u001b[0m             \u001b[0mself\u001b[0m\u001b[0;34m.\u001b[0m\u001b[0m_exception\u001b[0m \u001b[0;34m=\u001b[0m \u001b[0;32mTrue\u001b[0m\u001b[0;34m\u001b[0m\u001b[0;34m\u001b[0m\u001b[0m\n\u001b[0;32m-> 1703\u001b[0;31m             \u001b[0mself\u001b[0m\u001b[0;34m.\u001b[0m\u001b[0m_abort\u001b[0m\u001b[0;34m(\u001b[0m\u001b[0;34m)\u001b[0m\u001b[0;34m\u001b[0m\u001b[0;34m\u001b[0m\u001b[0m\n\u001b[0m\u001b[1;32m   1704\u001b[0m             \u001b[0;32mraise\u001b[0m\u001b[0;34m\u001b[0m\u001b[0;34m\u001b[0m\u001b[0m\n\u001b[1;32m   1705\u001b[0m         \u001b[0;32mfinally\u001b[0m\u001b[0;34m:\u001b[0m\u001b[0;34m\u001b[0m\u001b[0;34m\u001b[0m\u001b[0m\n",
            "\u001b[0;32m/usr/local/lib/python3.11/dist-packages/joblib/parallel.py\u001b[0m in \u001b[0;36m_abort\u001b[0;34m(self)\u001b[0m\n\u001b[1;32m   1612\u001b[0m             \u001b[0;31m# scheduling.\u001b[0m\u001b[0;34m\u001b[0m\u001b[0;34m\u001b[0m\u001b[0m\n\u001b[1;32m   1613\u001b[0m             \u001b[0mensure_ready\u001b[0m \u001b[0;34m=\u001b[0m \u001b[0mself\u001b[0m\u001b[0;34m.\u001b[0m\u001b[0m_managed_backend\u001b[0m\u001b[0;34m\u001b[0m\u001b[0;34m\u001b[0m\u001b[0m\n\u001b[0;32m-> 1614\u001b[0;31m             \u001b[0mbackend\u001b[0m\u001b[0;34m.\u001b[0m\u001b[0mabort_everything\u001b[0m\u001b[0;34m(\u001b[0m\u001b[0mensure_ready\u001b[0m\u001b[0;34m=\u001b[0m\u001b[0mensure_ready\u001b[0m\u001b[0;34m)\u001b[0m\u001b[0;34m\u001b[0m\u001b[0;34m\u001b[0m\u001b[0m\n\u001b[0m\u001b[1;32m   1615\u001b[0m         \u001b[0mself\u001b[0m\u001b[0;34m.\u001b[0m\u001b[0m_aborted\u001b[0m \u001b[0;34m=\u001b[0m \u001b[0;32mTrue\u001b[0m\u001b[0;34m\u001b[0m\u001b[0;34m\u001b[0m\u001b[0m\n\u001b[1;32m   1616\u001b[0m \u001b[0;34m\u001b[0m\u001b[0m\n",
            "\u001b[0;32m/usr/local/lib/python3.11/dist-packages/joblib/_parallel_backends.py\u001b[0m in \u001b[0;36mabort_everything\u001b[0;34m(self, ensure_ready)\u001b[0m\n\u001b[1;32m    618\u001b[0m         \"\"\"Shutdown the workers and restart a new one with the same parameters\n\u001b[1;32m    619\u001b[0m         \"\"\"\n\u001b[0;32m--> 620\u001b[0;31m         \u001b[0mself\u001b[0m\u001b[0;34m.\u001b[0m\u001b[0m_workers\u001b[0m\u001b[0;34m.\u001b[0m\u001b[0mterminate\u001b[0m\u001b[0;34m(\u001b[0m\u001b[0mkill_workers\u001b[0m\u001b[0;34m=\u001b[0m\u001b[0;32mTrue\u001b[0m\u001b[0;34m)\u001b[0m\u001b[0;34m\u001b[0m\u001b[0;34m\u001b[0m\u001b[0m\n\u001b[0m\u001b[1;32m    621\u001b[0m         \u001b[0mself\u001b[0m\u001b[0;34m.\u001b[0m\u001b[0m_workers\u001b[0m \u001b[0;34m=\u001b[0m \u001b[0;32mNone\u001b[0m\u001b[0;34m\u001b[0m\u001b[0;34m\u001b[0m\u001b[0m\n\u001b[1;32m    622\u001b[0m \u001b[0;34m\u001b[0m\u001b[0m\n",
            "\u001b[0;32m/usr/local/lib/python3.11/dist-packages/joblib/executor.py\u001b[0m in \u001b[0;36mterminate\u001b[0;34m(self, kill_workers)\u001b[0m\n\u001b[1;32m     85\u001b[0m         \u001b[0;31m# on by the resource_tracker.\u001b[0m\u001b[0;34m\u001b[0m\u001b[0;34m\u001b[0m\u001b[0m\n\u001b[1;32m     86\u001b[0m         \u001b[0;32mwith\u001b[0m \u001b[0mself\u001b[0m\u001b[0;34m.\u001b[0m\u001b[0m_submit_resize_lock\u001b[0m\u001b[0;34m:\u001b[0m\u001b[0;34m\u001b[0m\u001b[0;34m\u001b[0m\u001b[0m\n\u001b[0;32m---> 87\u001b[0;31m             self._temp_folder_manager._clean_temporary_resources(\n\u001b[0m\u001b[1;32m     88\u001b[0m                 \u001b[0mforce\u001b[0m\u001b[0;34m=\u001b[0m\u001b[0mkill_workers\u001b[0m\u001b[0;34m,\u001b[0m \u001b[0mallow_non_empty\u001b[0m\u001b[0;34m=\u001b[0m\u001b[0;32mTrue\u001b[0m\u001b[0;34m\u001b[0m\u001b[0;34m\u001b[0m\u001b[0m\n\u001b[1;32m     89\u001b[0m             )\n",
            "\u001b[0;32m/usr/local/lib/python3.11/dist-packages/joblib/_memmapping_reducer.py\u001b[0m in \u001b[0;36m_clean_temporary_resources\u001b[0;34m(self, context_id, force, allow_non_empty)\u001b[0m\n\u001b[1;32m    613\u001b[0m             \u001b[0;31m# iterating over a changing size dictionary.\u001b[0m\u001b[0;34m\u001b[0m\u001b[0;34m\u001b[0m\u001b[0m\n\u001b[1;32m    614\u001b[0m             \u001b[0;32mfor\u001b[0m \u001b[0mcontext_id\u001b[0m \u001b[0;32min\u001b[0m \u001b[0mlist\u001b[0m\u001b[0;34m(\u001b[0m\u001b[0mself\u001b[0m\u001b[0;34m.\u001b[0m\u001b[0m_cached_temp_folders\u001b[0m\u001b[0;34m)\u001b[0m\u001b[0;34m:\u001b[0m\u001b[0;34m\u001b[0m\u001b[0;34m\u001b[0m\u001b[0m\n\u001b[0;32m--> 615\u001b[0;31m                 self._clean_temporary_resources(\n\u001b[0m\u001b[1;32m    616\u001b[0m                     \u001b[0mcontext_id\u001b[0m\u001b[0;34m,\u001b[0m \u001b[0mforce\u001b[0m\u001b[0;34m=\u001b[0m\u001b[0mforce\u001b[0m\u001b[0;34m,\u001b[0m \u001b[0mallow_non_empty\u001b[0m\u001b[0;34m=\u001b[0m\u001b[0mallow_non_empty\u001b[0m\u001b[0;34m\u001b[0m\u001b[0;34m\u001b[0m\u001b[0m\n\u001b[1;32m    617\u001b[0m                 )\n",
            "\u001b[0;32m/usr/local/lib/python3.11/dist-packages/joblib/_memmapping_reducer.py\u001b[0m in \u001b[0;36m_clean_temporary_resources\u001b[0;34m(self, context_id, force, allow_non_empty)\u001b[0m\n\u001b[1;32m    639\u001b[0m                 \u001b[0;31m# if none of the files in it are in used and allow_non_empty.\u001b[0m\u001b[0;34m\u001b[0m\u001b[0;34m\u001b[0m\u001b[0m\n\u001b[1;32m    640\u001b[0m                 \u001b[0;32mtry\u001b[0m\u001b[0;34m:\u001b[0m\u001b[0;34m\u001b[0m\u001b[0;34m\u001b[0m\u001b[0m\n\u001b[0;32m--> 641\u001b[0;31m                     delete_folder(\n\u001b[0m\u001b[1;32m    642\u001b[0m                         \u001b[0mtemp_folder\u001b[0m\u001b[0;34m,\u001b[0m \u001b[0mallow_non_empty\u001b[0m\u001b[0;34m=\u001b[0m\u001b[0mallow_non_empty\u001b[0m\u001b[0;34m\u001b[0m\u001b[0;34m\u001b[0m\u001b[0m\n\u001b[1;32m    643\u001b[0m                     )\n",
            "\u001b[0;32m/usr/local/lib/python3.11/dist-packages/joblib/disk.py\u001b[0m in \u001b[0;36mdelete_folder\u001b[0;34m(folder_path, onerror, allow_non_empty)\u001b[0m\n\u001b[1;32m    116\u001b[0m                 \u001b[0;32mtry\u001b[0m\u001b[0;34m:\u001b[0m\u001b[0;34m\u001b[0m\u001b[0;34m\u001b[0m\u001b[0m\n\u001b[1;32m    117\u001b[0m                     \u001b[0;32mif\u001b[0m \u001b[0mlen\u001b[0m\u001b[0;34m(\u001b[0m\u001b[0mfiles\u001b[0m\u001b[0;34m)\u001b[0m \u001b[0;34m==\u001b[0m \u001b[0;36m0\u001b[0m \u001b[0;32mor\u001b[0m \u001b[0mallow_non_empty\u001b[0m\u001b[0;34m:\u001b[0m\u001b[0;34m\u001b[0m\u001b[0;34m\u001b[0m\u001b[0m\n\u001b[0;32m--> 118\u001b[0;31m                         shutil.rmtree(\n\u001b[0m\u001b[1;32m    119\u001b[0m                             \u001b[0mfolder_path\u001b[0m\u001b[0;34m,\u001b[0m \u001b[0mignore_errors\u001b[0m\u001b[0;34m=\u001b[0m\u001b[0;32mFalse\u001b[0m\u001b[0;34m,\u001b[0m \u001b[0monerror\u001b[0m\u001b[0;34m=\u001b[0m\u001b[0;32mNone\u001b[0m\u001b[0;34m\u001b[0m\u001b[0;34m\u001b[0m\u001b[0m\n\u001b[1;32m    120\u001b[0m                         )\n",
            "\u001b[0;32m/usr/lib/python3.11/shutil.py\u001b[0m in \u001b[0;36mrmtree\u001b[0;34m(path, ignore_errors, onerror, dir_fd)\u001b[0m\n\u001b[1;32m    750\u001b[0m         \u001b[0;32mtry\u001b[0m\u001b[0;34m:\u001b[0m\u001b[0;34m\u001b[0m\u001b[0;34m\u001b[0m\u001b[0m\n\u001b[1;32m    751\u001b[0m             \u001b[0;32mif\u001b[0m \u001b[0mos\u001b[0m\u001b[0;34m.\u001b[0m\u001b[0mpath\u001b[0m\u001b[0;34m.\u001b[0m\u001b[0msamestat\u001b[0m\u001b[0;34m(\u001b[0m\u001b[0morig_st\u001b[0m\u001b[0;34m,\u001b[0m \u001b[0mos\u001b[0m\u001b[0;34m.\u001b[0m\u001b[0mfstat\u001b[0m\u001b[0;34m(\u001b[0m\u001b[0mfd\u001b[0m\u001b[0;34m)\u001b[0m\u001b[0;34m)\u001b[0m\u001b[0;34m:\u001b[0m\u001b[0;34m\u001b[0m\u001b[0;34m\u001b[0m\u001b[0m\n\u001b[0;32m--> 752\u001b[0;31m                 \u001b[0m_rmtree_safe_fd\u001b[0m\u001b[0;34m(\u001b[0m\u001b[0mfd\u001b[0m\u001b[0;34m,\u001b[0m \u001b[0mpath\u001b[0m\u001b[0;34m,\u001b[0m \u001b[0monerror\u001b[0m\u001b[0;34m)\u001b[0m\u001b[0;34m\u001b[0m\u001b[0;34m\u001b[0m\u001b[0m\n\u001b[0m\u001b[1;32m    753\u001b[0m                 \u001b[0;32mtry\u001b[0m\u001b[0;34m:\u001b[0m\u001b[0;34m\u001b[0m\u001b[0;34m\u001b[0m\u001b[0m\n\u001b[1;32m    754\u001b[0m                     \u001b[0mos\u001b[0m\u001b[0;34m.\u001b[0m\u001b[0mclose\u001b[0m\u001b[0;34m(\u001b[0m\u001b[0mfd\u001b[0m\u001b[0;34m)\u001b[0m\u001b[0;34m\u001b[0m\u001b[0;34m\u001b[0m\u001b[0m\n",
            "\u001b[0;32m/usr/lib/python3.11/shutil.py\u001b[0m in \u001b[0;36m_rmtree_safe_fd\u001b[0;34m(topfd, path, onerror)\u001b[0m\n\u001b[1;32m    699\u001b[0m         \u001b[0;32melse\u001b[0m\u001b[0;34m:\u001b[0m\u001b[0;34m\u001b[0m\u001b[0;34m\u001b[0m\u001b[0m\n\u001b[1;32m    700\u001b[0m             \u001b[0;32mtry\u001b[0m\u001b[0;34m:\u001b[0m\u001b[0;34m\u001b[0m\u001b[0;34m\u001b[0m\u001b[0m\n\u001b[0;32m--> 701\u001b[0;31m                 \u001b[0mos\u001b[0m\u001b[0;34m.\u001b[0m\u001b[0munlink\u001b[0m\u001b[0;34m(\u001b[0m\u001b[0mentry\u001b[0m\u001b[0;34m.\u001b[0m\u001b[0mname\u001b[0m\u001b[0;34m,\u001b[0m \u001b[0mdir_fd\u001b[0m\u001b[0;34m=\u001b[0m\u001b[0mtopfd\u001b[0m\u001b[0;34m)\u001b[0m\u001b[0;34m\u001b[0m\u001b[0;34m\u001b[0m\u001b[0m\n\u001b[0m\u001b[1;32m    702\u001b[0m             \u001b[0;32mexcept\u001b[0m \u001b[0mOSError\u001b[0m\u001b[0;34m:\u001b[0m\u001b[0;34m\u001b[0m\u001b[0;34m\u001b[0m\u001b[0m\n\u001b[1;32m    703\u001b[0m                 \u001b[0monerror\u001b[0m\u001b[0;34m(\u001b[0m\u001b[0mos\u001b[0m\u001b[0;34m.\u001b[0m\u001b[0munlink\u001b[0m\u001b[0;34m,\u001b[0m \u001b[0mfullname\u001b[0m\u001b[0;34m,\u001b[0m \u001b[0msys\u001b[0m\u001b[0;34m.\u001b[0m\u001b[0mexc_info\u001b[0m\u001b[0;34m(\u001b[0m\u001b[0;34m)\u001b[0m\u001b[0;34m)\u001b[0m\u001b[0;34m\u001b[0m\u001b[0;34m\u001b[0m\u001b[0m\n",
            "\u001b[0;31mKeyboardInterrupt\u001b[0m: "
          ]
        }
      ],
      "source": [
        "from sklearn.model_selection import GridSearchCV\n",
        "\n",
        "# Define parameter grid\n",
        "param_grid = {\n",
        "    'n_estimators': [200, 300, 400],\n",
        "    'max_depth': [5, 7, 9],\n",
        "    'learning_rate': [0.03, 0.05, 0.1],\n",
        "    'scale_pos_weight': [5, 10, 15]\n",
        "}\n",
        "\n",
        "# Run GridSearchCV\n",
        "grid_search = GridSearchCV(XGBClassifier(random_state=42), param_grid, scoring='recall', cv=3, verbose=1, n_jobs=-1)\n",
        "grid_search.fit(X_train, y_train)\n",
        "\n",
        "# Get best parameters\n",
        "print(\"Best Parameters:\", grid_search.best_params_)\n"
      ]
    },
    {
      "cell_type": "markdown",
      "metadata": {
        "id": "fd13_wgmQgWy"
      },
      "source": [
        "3. Apply Threshold Tuning to Balance Precision & Recall\n",
        "\n",
        "By default, XGBoost classifies probability ≥ 0.5 as sepsis. We can adjust this threshold to increase recall:\n",
        "\n",
        "**Note:** *Lowering the classification threshold (from 0.5 to 0.3) allows us to capture more sepsis cases, improving recall.*"
      ]
    },
    {
      "cell_type": "code",
      "execution_count": 9,
      "metadata": {
        "id": "HgJMOhwWQvio",
        "colab": {
          "base_uri": "https://localhost:8080/"
        },
        "outputId": "2de026e9-8de2-46a9-850e-115c8fb26b83"
      },
      "outputs": [
        {
          "output_type": "stream",
          "name": "stdout",
          "text": [
            "🚀 Adjusted XGBoost Model Performance:\n",
            "              precision    recall  f1-score   support\n",
            "\n",
            "           0       1.00      0.98      0.99   2174069\n",
            "           1       0.38      0.90      0.53     32579\n",
            "\n",
            "    accuracy                           0.98   2206648\n",
            "   macro avg       0.69      0.94      0.76   2206648\n",
            "weighted avg       0.99      0.98      0.98   2206648\n",
            "\n",
            "ROC-AUC Score: 0.9409\n"
          ]
        }
      ],
      "source": [
        "# Get predicted probabilities\n",
        "y_prob_xgb = xgb_model.predict_proba(X_test)[:, 1]\n",
        "\n",
        "# Adjust threshold (e.g., 0.3 instead of 0.5)\n",
        "threshold = 0.3\n",
        "y_pred_adjusted = (y_prob_xgb >= threshold).astype(int)\n",
        "\n",
        "# Evaluate adjusted model\n",
        "print(\"🚀 Adjusted XGBoost Model Performance:\")\n",
        "print(classification_report(y_test, y_pred_adjusted))\n",
        "print(f\"ROC-AUC Score: {roc_auc_score(y_test, y_pred_adjusted):.4f}\")"
      ]
    },
    {
      "cell_type": "markdown",
      "source": [
        "**Recall** has improved significantly to 90%!\n",
        "* The model is correctly identifying 90% of actual sepsis cases.\n",
        "* This is critical in healthcare, where missing a sepsis case can be life-threatening.\n",
        "\n",
        "**Precision (38%)** is lower, meaning more false positives.\n",
        "* This means some non-sepsis patients are flagged incorrectly, which could lead to unnecessary interventions.\n",
        "* A balance is needed between high recall and better precision.\n",
        "\n",
        "ROC-AUC Score of 94.1% indicates the model has excellent overall discrimination ability."
      ],
      "metadata": {
        "id": "B4pKRBYTXBF-"
      }
    },
    {
      "cell_type": "markdown",
      "source": [
        "Deployment Pipeline Overview\n",
        "\n",
        "We will build an end-to-end sepsis detection pipeline:\n",
        "\n",
        "1. Model Serialization - Save the trained XGBoost model.\n",
        "2. Develop an API (FastAPI or Flask) - Allow hospitals to send patient vitals & get predictions.\n",
        "3. Integrate with Hospital Systems (Optional) – Connect with EHR (Electronic Health Records).\n",
        "4. Deploy on Cloud (AWS/GCP/Azure) - Expose API for real-world use."
      ],
      "metadata": {
        "id": "XxAAuFpyXXWv"
      }
    },
    {
      "cell_type": "markdown",
      "source": [
        "# Save the Trained XGBoost Model\n",
        "\n",
        "Before deployment, Let's save the trained model so it can be loaded in the API."
      ],
      "metadata": {
        "id": "RlZDCQQPYEyj"
      }
    },
    {
      "cell_type": "code",
      "source": [
        "import pickle\n",
        "\n",
        "# Save the trained model\n",
        "with open(\"xgboost_sepsis_model.pkl\", \"wb\") as f:\n",
        "    pickle.dump(xgb_model, f)\n",
        "\n",
        "print(\"Model saved successfully!\")"
      ],
      "metadata": {
        "colab": {
          "base_uri": "https://localhost:8080/"
        },
        "id": "AbbjjVCDYPFs",
        "outputId": "608f5b5d-5ddf-4777-c7e0-63e9dd2e46a9"
      },
      "execution_count": 13,
      "outputs": [
        {
          "output_type": "stream",
          "name": "stdout",
          "text": [
            "Model saved successfully!\n"
          ]
        }
      ]
    },
    {
      "cell_type": "markdown",
      "source": [
        "# Create a FastAPI Server for Real-Time Predictions\n",
        "\n",
        "We will use FastAPI (a high-performance API framework) to serve real-time sepsis predictions."
      ],
      "metadata": {
        "id": "AtKOzAVVYeKR"
      }
    },
    {
      "cell_type": "markdown",
      "source": [
        "Install FastAPI & Uvicorn"
      ],
      "metadata": {
        "id": "0ECOdzSkYmFW"
      }
    },
    {
      "cell_type": "code",
      "source": [
        "pip install fastapi uvicorn"
      ],
      "metadata": {
        "colab": {
          "base_uri": "https://localhost:8080/"
        },
        "id": "X7Z1_QJcYgAO",
        "outputId": "26a92bf4-d7f2-45eb-ab3b-e59a0cf60f9c"
      },
      "execution_count": 14,
      "outputs": [
        {
          "output_type": "stream",
          "name": "stdout",
          "text": [
            "Collecting fastapi\n",
            "  Downloading fastapi-0.115.11-py3-none-any.whl.metadata (27 kB)\n",
            "Collecting uvicorn\n",
            "  Downloading uvicorn-0.34.0-py3-none-any.whl.metadata (6.5 kB)\n",
            "Collecting starlette<0.47.0,>=0.40.0 (from fastapi)\n",
            "  Downloading starlette-0.46.1-py3-none-any.whl.metadata (6.2 kB)\n",
            "Requirement already satisfied: pydantic!=1.8,!=1.8.1,!=2.0.0,!=2.0.1,!=2.1.0,<3.0.0,>=1.7.4 in /usr/local/lib/python3.11/dist-packages (from fastapi) (2.10.6)\n",
            "Requirement already satisfied: typing-extensions>=4.8.0 in /usr/local/lib/python3.11/dist-packages (from fastapi) (4.12.2)\n",
            "Requirement already satisfied: click>=7.0 in /usr/local/lib/python3.11/dist-packages (from uvicorn) (8.1.8)\n",
            "Requirement already satisfied: h11>=0.8 in /usr/local/lib/python3.11/dist-packages (from uvicorn) (0.14.0)\n",
            "Requirement already satisfied: annotated-types>=0.6.0 in /usr/local/lib/python3.11/dist-packages (from pydantic!=1.8,!=1.8.1,!=2.0.0,!=2.0.1,!=2.1.0,<3.0.0,>=1.7.4->fastapi) (0.7.0)\n",
            "Requirement already satisfied: pydantic-core==2.27.2 in /usr/local/lib/python3.11/dist-packages (from pydantic!=1.8,!=1.8.1,!=2.0.0,!=2.0.1,!=2.1.0,<3.0.0,>=1.7.4->fastapi) (2.27.2)\n",
            "Requirement already satisfied: anyio<5,>=3.6.2 in /usr/local/lib/python3.11/dist-packages (from starlette<0.47.0,>=0.40.0->fastapi) (3.7.1)\n",
            "Requirement already satisfied: idna>=2.8 in /usr/local/lib/python3.11/dist-packages (from anyio<5,>=3.6.2->starlette<0.47.0,>=0.40.0->fastapi) (3.10)\n",
            "Requirement already satisfied: sniffio>=1.1 in /usr/local/lib/python3.11/dist-packages (from anyio<5,>=3.6.2->starlette<0.47.0,>=0.40.0->fastapi) (1.3.1)\n",
            "Downloading fastapi-0.115.11-py3-none-any.whl (94 kB)\n",
            "\u001b[2K   \u001b[90m━━━━━━━━━━━━━━━━━━━━━━━━━━━━━━━━━━━━━━━━\u001b[0m \u001b[32m94.9/94.9 kB\u001b[0m \u001b[31m3.6 MB/s\u001b[0m eta \u001b[36m0:00:00\u001b[0m\n",
            "\u001b[?25hDownloading uvicorn-0.34.0-py3-none-any.whl (62 kB)\n",
            "\u001b[2K   \u001b[90m━━━━━━━━━━━━━━━━━━━━━━━━━━━━━━━━━━━━━━━━\u001b[0m \u001b[32m62.3/62.3 kB\u001b[0m \u001b[31m4.3 MB/s\u001b[0m eta \u001b[36m0:00:00\u001b[0m\n",
            "\u001b[?25hDownloading starlette-0.46.1-py3-none-any.whl (71 kB)\n",
            "\u001b[2K   \u001b[90m━━━━━━━━━━━━━━━━━━━━━━━━━━━━━━━━━━━━━━━━\u001b[0m \u001b[32m72.0/72.0 kB\u001b[0m \u001b[31m4.9 MB/s\u001b[0m eta \u001b[36m0:00:00\u001b[0m\n",
            "\u001b[?25hInstalling collected packages: uvicorn, starlette, fastapi\n",
            "Successfully installed fastapi-0.115.11 starlette-0.46.1 uvicorn-0.34.0\n"
          ]
        }
      ]
    },
    {
      "cell_type": "markdown",
      "source": [],
      "metadata": {
        "id": "UMS-AWH7YsLZ"
      }
    },
    {
      "cell_type": "code",
      "source": [
        "import pickle\n",
        "import numpy as np\n",
        "from pydantic import BaseModel\n",
        "\n",
        "# Load the trained XGBoost model\n",
        "with open(\"xgboost_sepsis_model.pkl\", \"rb\") as f:\n",
        "    model = pickle.load(f)\n",
        "\n",
        "print(f\"Expected features in XGBoost model: {xgb_model.get_booster().feature_names}\")\n",
        "\n",
        "# Define input format using Pydantic\n",
        "class PatientVitals(BaseModel):\n",
        "    heart_rate: float\n",
        "    respiratory_rate: float\n",
        "    temperature: float\n",
        "    blood_pressure: float\n",
        "    gcs: float\n",
        "    sofa_score: float\n",
        "    time_since_admission: float\n",
        "\n",
        "vitals = PatientVitals(heart_rate = 80,\n",
        "respiratory_rate = 18,\n",
        "temperature = 36.8,\n",
        "blood_pressure = 70,\n",
        "gcs = 15,\n",
        "sofa_score = 5,\n",
        "time_since_admission = 2)\n",
        "\n",
        "# Convert input data to numpy array\n",
        "input_data = np.array([[vitals.heart_rate, vitals.respiratory_rate, vitals.temperature,\n",
        "                        vitals.blood_pressure, vitals.gcs, vitals.sofa_score, vitals.time_since_admission]])\n",
        "\n",
        "# Get probability score\n",
        "probability = model.predict_proba(input_data)[0, 1]\n",
        "\n",
        "# Classify based on threshold\n",
        "threshold = 0.3\n",
        "prediction = int(probability >= threshold)\n",
        "\n",
        "print(f\"sepsis_prediction: {prediction}, probability: {probability}\")"
      ],
      "metadata": {
        "colab": {
          "base_uri": "https://localhost:8080/"
        },
        "id": "Gp7-_wgrYxEL",
        "outputId": "07835910-f9a4-446f-8bda-d49b8f57aa60"
      },
      "execution_count": 18,
      "outputs": [
        {
          "output_type": "stream",
          "name": "stdout",
          "text": [
            "Expected features in XGBoost model: None\n"
          ]
        }
      ]
    },
    {
      "cell_type": "markdown",
      "source": [
        "Below code will not work in COLAB, Rather we need a system for hosting. Deploy in Cloud (AWS/Google Cloud/Azure)"
      ],
      "metadata": {
        "id": "vnS61DFUZhft"
      }
    },
    {
      "cell_type": "code",
      "source": [
        "### CODE COMMENTED OUT FOR COLAB\n",
        "# from fastapi import FastAPI\n",
        "# # Initialize FastAPI app\n",
        "# app = FastAPI()\n",
        "\n",
        "# # Prediction Endpoint\n",
        "# @app.post(\"/predict_sepsis/\")\n",
        "# def predict_sepsis(vitals: PatientVitals):\n",
        "#     # Convert input data to numpy array\n",
        "#     input_data = np.array([[vitals.heart_rate, vitals.respiratory_rate, vitals.temperature,\n",
        "#                             vitals.blood_pressure, vitals.gcs, vitals.sofa_score, vitals.time_since_admission]])\n",
        "\n",
        "#     # Get probability score\n",
        "#     probability = model.predict_proba(input_data)[0, 1]\n",
        "\n",
        "#     # Classify based on threshold\n",
        "#     threshold = 0.3\n",
        "#     prediction = int(probability >= threshold)\n",
        "\n",
        "#     return {\"sepsis_prediction\": prediction, \"probability\": probability}\n"
      ],
      "metadata": {
        "id": "xDhkAOqlZVhA"
      },
      "execution_count": null,
      "outputs": []
    }
  ],
  "metadata": {
    "colab": {
      "machine_shape": "hm",
      "provenance": []
    },
    "kernelspec": {
      "display_name": "Python 3",
      "name": "python3"
    },
    "language_info": {
      "name": "python"
    }
  },
  "nbformat": 4,
  "nbformat_minor": 0
}